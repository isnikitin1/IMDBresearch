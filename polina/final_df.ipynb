{
 "cells": [
  {
   "cell_type": "code",
   "execution_count": 329,
   "metadata": {},
   "outputs": [],
   "source": [
    "import pandas as pd\n",
    "import os"
   ]
  },
  {
   "cell_type": "code",
   "execution_count": 331,
   "metadata": {},
   "outputs": [],
   "source": [
    "# загрузка датафрейма на 5к строк\n",
    "df1 = pd.read_csv('~/archive1.zip', compression = 'zip')  \n",
    "\n",
    "# загрузка датафрейма на 130к строк\n",
    "df2 = pd.read_csv('~/archive2.zip', compression = 'zip')  \n",
    "\n",
    "# обработка столбца с указанием директоров для объединения дф-ов\n",
    "l = []\n",
    "for i in df2['director'].to_list():\n",
    "    if str(i) == 'nan':\n",
    "        l.append('')\n",
    "    else:\n",
    "        l.append(str(i)[2:len(i)-2])\n",
    "df2['director'] = l  \n",
    "\n",
    "# объединение дф-ов по полям \"Название\" и \"Средний рейтинг\"\n",
    "df3 = (pd.merge(df1, df2, how = 'inner',\n",
    "               left_on = ['Title', 'Director'], right_on = ['movie', 'director'])\n",
    "          .drop_duplicates(['Title', 'Average Rating'])) "
   ]
  },
  {
   "cell_type": "code",
   "execution_count": 332,
   "metadata": {},
   "outputs": [],
   "source": [
    "# создание функции для приведения заголовков к единому виду с учётом повторяющихся наименований столбцов\n",
    "def replace_col_names(columns_names):\n",
    "    l = list()\n",
    "    for i in columns_names:\n",
    "        if i not in l:\n",
    "            l.append(i.lower().replace(' ', '_'))\n",
    "        else:\n",
    "            l.append(i.lower().replace(' ', '_')+'2')\n",
    "    return l\n",
    "\n",
    "# приведение заголовков датафрейма к единому формату\n",
    "df3.columns = replace_col_names(df3.columns)    \n",
    "\n",
    "# обрезка датафрейма\n",
    "df3 = df3[['title', 'average_rating', 'director', 'writer',\n",
    "           'metascore', 'cast', 'release_date', 'country_of_origin', \n",
    "           'languages', 'runtime2','genre', 'budget', 'worldwide_gross']] \n",
    "\n",
    "# доработка наименований столбцов после обрезки датафрейма\n",
    "df3 = df3.rename(columns = {'runtime2': 'runtime'}) "
   ]
  },
  {
   "cell_type": "code",
   "execution_count": 333,
   "metadata": {},
   "outputs": [],
   "source": [
    "# создание столбца \"Год выпуска\"\n",
    "df3['release_year'] = df3['release_date'].apply(lambda x: x.split('(')[0][-5:]) \n",
    "\n",
    "# приведение столбца \"Год выпуска\" к целочисленному типу\n",
    "df3['release_year'] = df3['release_year'].astype('int')\n",
    "\n",
    "# удаление столбца с полной датой и страной выпуска\n",
    "df3 = df3.drop(columns = 'release_date')"
   ]
  },
  {
   "cell_type": "code",
   "execution_count": 334,
   "metadata": {},
   "outputs": [],
   "source": [
    "# корректировка полей \"Бюджет\" и \"Мировые кассовые сборы\" для приведения к числовому виду\n",
    "df3['budget'] = df3.budget.str.replace(\"(estimated)\", \"\").str.replace('(', '').str.replace(')', '').str.replace(',','')\n",
    "df3['worldwide_gross'] = df3.worldwide_gross.str.replace(',','')\n",
    "\n",
    "# отбор строк, содержащих долларовые суммы, по полям \"Бюджет\" и \"Мировые кассовые сборы\" \n",
    "for i in ['budget', 'worldwide_gross']:\n",
    "    ind = df3.columns.get_loc(i)\n",
    "    for e, j in enumerate(df3[i]):\n",
    "        if str(j)[0] == '$':\n",
    "            df3.iloc[e, ind] = str(j)[1:]\n",
    "        else:\n",
    "            df3.iloc[e, ind] = None\n",
    "\n",
    "# удаление строк с курсом, отличающимся от доллара, по полям \"Бюджет\" и \"Мировые кассовые сборы\", а также удаление\n",
    "# пустых значений по полям \"cast\", \"language\"\n",
    "df3 = df3.dropna(subset = ['budget', 'worldwide_gross','cast', 'languages'])\n",
    "\n",
    "# приведение значений в полях \"Бюджет\" и \"Мировые кассовые сборы\" к целочисленному типу\n",
    "df3['budget'] = df3['budget'].astype('int')\n",
    "df3['worldwide_gross'] = df3['worldwide_gross'].astype('int')"
   ]
  },
  {
   "cell_type": "code",
   "execution_count": 335,
   "metadata": {},
   "outputs": [],
   "source": [
    "# очистка поля \"Длительность фильма\" от единиц измерения (мин.)\n",
    "df3['runtime'] = df3['runtime'].str.replace('min', '') "
   ]
  },
  {
   "cell_type": "code",
   "execution_count": 336,
   "metadata": {},
   "outputs": [],
   "source": [
    "# заполнение пустых значений в поле \"Оценка критиков\" средним значением по столбцу\n",
    "avg_metascore = (df3['metascore'].sum())/(df3['metascore'].isna().value_counts().get(False, 0))\n",
    "df3['metascore'] = df3['metascore'].fillna(avg_metascore).astype('int')"
   ]
  },
  {
   "cell_type": "code",
   "execution_count": 337,
   "metadata": {},
   "outputs": [],
   "source": [
    "# нахождение пустых значений в поле \"Длительность фильма\" и их заполнение: их было 9, поэтому заполнение ручное\n",
    "df3[df3['runtime'].isna()]\n",
    "df3.loc[df3.title == 'Cabrini'] = df3.loc[df3.title == 'Cabrini'].fillna(142)\n",
    "df3.loc[df3.title == 'Alien: Romulus'] = df3.loc[df3.title == 'Alien: Romulus'].fillna(119)\n",
    "df3.loc[df3.title == 'Juror #2'] = df3.loc[df3.title == 'Juror #2'].fillna(114)\n",
    "df3.loc[df3.title == 'The Iron Claw'] = df3.loc[df3.title == 'The Iron Claw'].fillna(132)\n",
    "df3.loc[df3.title == 'Inside Out 2'] = df3.loc[df3.title == 'Inside Out 2'].fillna(96)\n",
    "df3.loc[df3.title == 'Transformers One'] = df3.loc[df3.title == 'Transformers One'].fillna(104)\n",
    "df3.loc[df3.title == 'Conclave'] = df3.loc[df3.title == 'Conclave'].fillna(120)\n",
    "df3.loc[df3.title == 'Coraline'] = df3.loc[df3.title == 'Coraline'].fillna(100)\n",
    "df3.loc[df3.title == 'Dune: Part Two'] = df3.loc[df3.title == 'Dune: Part Two'].fillna(160)\n",
    "\n",
    "# приведение поля \"Длительность фильма\" к целочисленному типу \n",
    "df3['runtime'] = df3['runtime'].astype('int')"
   ]
  },
  {
   "cell_type": "code",
   "execution_count": 338,
   "metadata": {},
   "outputs": [],
   "source": [
    "# создание столбца \"Прибыль/убыток\" для определения прибыли/убытка от фильма\n",
    "df3['profit_or_loss'] = df3['worldwide_gross'] - df3['budget']\n",
    "\n",
    "# создание столбца \"Отношение прибыли/убытка к бюджету фильма\" для определения соотношения прибыли/убытка к влож.средствам\n",
    "df3['p&l_rate'] = round(df3['profit_or_loss']/df3['budget'] * 100, 2)"
   ]
  },
  {
   "cell_type": "code",
   "execution_count": 339,
   "metadata": {},
   "outputs": [
    {
     "name": "stdout",
     "output_type": "stream",
     "text": [
      "<class 'pandas.core.frame.DataFrame'>\n",
      "Int64Index: 1455 entries, 0 to 3542\n",
      "Data columns (total 15 columns):\n",
      " #   Column             Non-Null Count  Dtype  \n",
      "---  ------             --------------  -----  \n",
      " 0   title              1455 non-null   object \n",
      " 1   average_rating     1455 non-null   float64\n",
      " 2   director           1455 non-null   object \n",
      " 3   writer             1455 non-null   object \n",
      " 4   metascore          1455 non-null   int64  \n",
      " 5   cast               1455 non-null   object \n",
      " 6   country_of_origin  1455 non-null   object \n",
      " 7   languages          1455 non-null   object \n",
      " 8   runtime            1455 non-null   int64  \n",
      " 9   genre              1455 non-null   object \n",
      " 10  budget             1455 non-null   int64  \n",
      " 11  worldwide_gross    1455 non-null   int64  \n",
      " 12  release_year       1455 non-null   int64  \n",
      " 13  profit_or_loss     1455 non-null   int64  \n",
      " 14  p&l_rate           1455 non-null   float64\n",
      "dtypes: float64(2), int64(6), object(7)\n",
      "memory usage: 181.9+ KB\n"
     ]
    }
   ],
   "source": [
    "# проверка итогового вида датафрейма\n",
    "df3.info() "
   ]
  },
  {
   "cell_type": "code",
   "execution_count": 326,
   "metadata": {},
   "outputs": [],
   "source": [
    "# сохранение датафрейма в csv-файл\n",
    "df3.to_csv('~/final_df.csv.csv')\n",
    "\n",
    "# сохранение датафрейма в xlsx-файл\n",
    "df3.to_excel('~/final_df.csv.xlsx')"
   ]
  }
 ],
 "metadata": {
  "kernelspec": {
   "display_name": "Python 3",
   "language": "python",
   "name": "python3"
  },
  "language_info": {
   "codemirror_mode": {
    "name": "ipython",
    "version": 3
   },
   "file_extension": ".py",
   "mimetype": "text/x-python",
   "name": "python",
   "nbconvert_exporter": "python",
   "pygments_lexer": "ipython3",
   "version": "3.7.3"
  }
 },
 "nbformat": 4,
 "nbformat_minor": 4
}
