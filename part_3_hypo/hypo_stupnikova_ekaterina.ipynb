{
 "cells": [
  {
   "cell_type": "code",
   "execution_count": 1,
   "metadata": {},
   "outputs": [],
   "source": [
    "import pandas as pd\n",
    "import os\n",
    "import seaborn as sns\n",
    "import scipy.stats as ss\n",
    "import matplotlib.pyplot as plt\n",
    "import numpy as np"
   ]
  },
  {
   "cell_type": "code",
   "execution_count": 2,
   "metadata": {},
   "outputs": [],
   "source": [
    "df = pd.read_csv(f'{os.getcwd()}/data_after_eda.csv')\n",
    "del df['Unnamed: 0']"
   ]
  },
  {
   "cell_type": "code",
   "execution_count": 4,
   "metadata": {},
   "outputs": [
    {
     "data": {
      "text/html": [
       "<div>\n",
       "<style scoped>\n",
       "    .dataframe tbody tr th:only-of-type {\n",
       "        vertical-align: middle;\n",
       "    }\n",
       "\n",
       "    .dataframe tbody tr th {\n",
       "        vertical-align: top;\n",
       "    }\n",
       "\n",
       "    .dataframe thead th {\n",
       "        text-align: right;\n",
       "    }\n",
       "</style>\n",
       "<table border=\"1\" class=\"dataframe\">\n",
       "  <thead>\n",
       "    <tr style=\"text-align: right;\">\n",
       "      <th></th>\n",
       "      <th>title</th>\n",
       "      <th>average_rating</th>\n",
       "      <th>director</th>\n",
       "      <th>writer</th>\n",
       "      <th>metascore</th>\n",
       "      <th>cast</th>\n",
       "      <th>country_of_origin</th>\n",
       "      <th>languages</th>\n",
       "      <th>runtime</th>\n",
       "      <th>genre</th>\n",
       "      <th>budget</th>\n",
       "      <th>worldwide_gross</th>\n",
       "      <th>release_year</th>\n",
       "      <th>profit_or_loss</th>\n",
       "      <th>p&amp;l_rate</th>\n",
       "      <th>lang_cnt</th>\n",
       "      <th>country_cnt</th>\n",
       "      <th>coproduction</th>\n",
       "    </tr>\n",
       "  </thead>\n",
       "  <tbody>\n",
       "    <tr>\n",
       "      <th>0</th>\n",
       "      <td>The Shawshank Redemption</td>\n",
       "      <td>9.3</td>\n",
       "      <td>Frank Darabont</td>\n",
       "      <td>Stephen King, Frank Darabont</td>\n",
       "      <td>82</td>\n",
       "      <td>Morgan Freeman, Bob Gunton, William Sadler, C...</td>\n",
       "      <td>United States</td>\n",
       "      <td>English</td>\n",
       "      <td>142</td>\n",
       "      <td>Drama</td>\n",
       "      <td>25000000</td>\n",
       "      <td>29332133</td>\n",
       "      <td>1994</td>\n",
       "      <td>4332133</td>\n",
       "      <td>17.33</td>\n",
       "      <td>1</td>\n",
       "      <td>1</td>\n",
       "      <td>0</td>\n",
       "    </tr>\n",
       "    <tr>\n",
       "      <th>1</th>\n",
       "      <td>The Godfather</td>\n",
       "      <td>9.2</td>\n",
       "      <td>Francis Ford Coppola</td>\n",
       "      <td>Mario Puzo, Francis Ford Coppola</td>\n",
       "      <td>100</td>\n",
       "      <td>Al Pacino, James Caan, Diane Keaton, Richard ...</td>\n",
       "      <td>United States</td>\n",
       "      <td>English, Italian, Latin</td>\n",
       "      <td>175</td>\n",
       "      <td>Crime, Drama</td>\n",
       "      <td>6000000</td>\n",
       "      <td>250342198</td>\n",
       "      <td>1978</td>\n",
       "      <td>244342198</td>\n",
       "      <td>4072.37</td>\n",
       "      <td>3</td>\n",
       "      <td>1</td>\n",
       "      <td>0</td>\n",
       "    </tr>\n",
       "    <tr>\n",
       "      <th>2</th>\n",
       "      <td>The Dark Knight</td>\n",
       "      <td>9.0</td>\n",
       "      <td>Christopher Nolan</td>\n",
       "      <td>Jonathan Nolan, Christopher Nolan, David S. Goyer</td>\n",
       "      <td>84</td>\n",
       "      <td>Heath Ledger, Aaron Eckhart, Michael Caine, M...</td>\n",
       "      <td>United States, United Kingdom</td>\n",
       "      <td>English, Mandarin</td>\n",
       "      <td>152</td>\n",
       "      <td>Action, Crime, Drama</td>\n",
       "      <td>185000000</td>\n",
       "      <td>1009053678</td>\n",
       "      <td>2008</td>\n",
       "      <td>824053678</td>\n",
       "      <td>445.43</td>\n",
       "      <td>2</td>\n",
       "      <td>2</td>\n",
       "      <td>1</td>\n",
       "    </tr>\n",
       "    <tr>\n",
       "      <th>3</th>\n",
       "      <td>Schindler's List</td>\n",
       "      <td>9.0</td>\n",
       "      <td>Steven Spielberg</td>\n",
       "      <td>Thomas Keneally, Steven Zaillian</td>\n",
       "      <td>95</td>\n",
       "      <td>Ralph Fiennes, Ben Kingsley, Caroline Goodall...</td>\n",
       "      <td>United States</td>\n",
       "      <td>English, Hebrew, German, Polish, Latin</td>\n",
       "      <td>195</td>\n",
       "      <td>Biography, Drama, History</td>\n",
       "      <td>22000000</td>\n",
       "      <td>322161245</td>\n",
       "      <td>1993</td>\n",
       "      <td>300161245</td>\n",
       "      <td>1364.37</td>\n",
       "      <td>5</td>\n",
       "      <td>1</td>\n",
       "      <td>0</td>\n",
       "    </tr>\n",
       "    <tr>\n",
       "      <th>4</th>\n",
       "      <td>12 Angry Men</td>\n",
       "      <td>9.0</td>\n",
       "      <td>Sidney Lumet</td>\n",
       "      <td>Reginald Rose</td>\n",
       "      <td>97</td>\n",
       "      <td>Lee J. Cobb, Martin Balsam, John Fiedler, E.G...</td>\n",
       "      <td>United States</td>\n",
       "      <td>English</td>\n",
       "      <td>96</td>\n",
       "      <td>Crime, Drama</td>\n",
       "      <td>350000</td>\n",
       "      <td>2945</td>\n",
       "      <td>1957</td>\n",
       "      <td>-347055</td>\n",
       "      <td>-99.16</td>\n",
       "      <td>1</td>\n",
       "      <td>1</td>\n",
       "      <td>0</td>\n",
       "    </tr>\n",
       "  </tbody>\n",
       "</table>\n",
       "</div>"
      ],
      "text/plain": [
       "                      title  average_rating              director  \\\n",
       "0  The Shawshank Redemption             9.3        Frank Darabont   \n",
       "1             The Godfather             9.2  Francis Ford Coppola   \n",
       "2           The Dark Knight             9.0     Christopher Nolan   \n",
       "3          Schindler's List             9.0      Steven Spielberg   \n",
       "4              12 Angry Men             9.0          Sidney Lumet   \n",
       "\n",
       "                                              writer  metascore  \\\n",
       "0                       Stephen King, Frank Darabont         82   \n",
       "1                   Mario Puzo, Francis Ford Coppola        100   \n",
       "2  Jonathan Nolan, Christopher Nolan, David S. Goyer         84   \n",
       "3                   Thomas Keneally, Steven Zaillian         95   \n",
       "4                                      Reginald Rose         97   \n",
       "\n",
       "                                                cast  \\\n",
       "0   Morgan Freeman, Bob Gunton, William Sadler, C...   \n",
       "1   Al Pacino, James Caan, Diane Keaton, Richard ...   \n",
       "2   Heath Ledger, Aaron Eckhart, Michael Caine, M...   \n",
       "3   Ralph Fiennes, Ben Kingsley, Caroline Goodall...   \n",
       "4   Lee J. Cobb, Martin Balsam, John Fiedler, E.G...   \n",
       "\n",
       "               country_of_origin                               languages  \\\n",
       "0                  United States                                 English   \n",
       "1                  United States                 English, Italian, Latin   \n",
       "2  United States, United Kingdom                       English, Mandarin   \n",
       "3                  United States  English, Hebrew, German, Polish, Latin   \n",
       "4                  United States                                 English   \n",
       "\n",
       "   runtime                                  genre     budget  worldwide_gross  \\\n",
       "0      142                      Drama               25000000         29332133   \n",
       "1      175               Crime, Drama                6000000        250342198   \n",
       "2      152       Action, Crime, Drama              185000000       1009053678   \n",
       "3      195  Biography, Drama, History               22000000        322161245   \n",
       "4       96               Crime, Drama                 350000             2945   \n",
       "\n",
       "   release_year  profit_or_loss  p&l_rate  lang_cnt  country_cnt  coproduction  \n",
       "0          1994         4332133     17.33         1            1             0  \n",
       "1          1978       244342198   4072.37         3            1             0  \n",
       "2          2008       824053678    445.43         2            2             1  \n",
       "3          1993       300161245   1364.37         5            1             0  \n",
       "4          1957         -347055    -99.16         1            1             0  "
      ]
     },
     "execution_count": 4,
     "metadata": {},
     "output_type": "execute_result"
    }
   ],
   "source": [
    "df.head()"
   ]
  },
  {
   "cell_type": "markdown",
   "metadata": {},
   "source": [
    "## Проверка гипотез"
   ]
  },
  {
   "cell_type": "markdown",
   "metadata": {},
   "source": [
    "### Гипотеза 1: Фильмы с определённым жанром (например, драмы) чаще получают высокие оценки"
   ]
  },
  {
   "cell_type": "markdown",
   "metadata": {},
   "source": [
    "Данная гипотеза выдвинута на основании предположения о том, что фильмы определённого жанра могут обладать характерными особенностями, которые делают их более привлекательными для зрителей и критиков.\n",
    "\n",
    "Для проведения статистического теста можно разбить фильмы на жанры и сравнить их средние рейтинги:"
   ]
  },
  {
   "cell_type": "code",
   "execution_count": 9,
   "metadata": {},
   "outputs": [
    {
     "name": "stdout",
     "output_type": "stream",
     "text": [
      "Среднее значение рейтинга у фильмов с жанром Drama: 7.612086874409821\n",
      "Среднее значение рейтинга у фильмов без жанра Drama: 7.603535353535355\n",
      "\n",
      "Проверка нормальности данных в выборках по рейтингу\n",
      "ShapiroResult(statistic=np.float64(0.9005525405782255), pvalue=np.float64(1.2056483539575647e-25))\n",
      "ShapiroResult(statistic=np.float64(0.9093519031110463), pvalue=np.float64(1.1742995008129563e-14))\n",
      "\n",
      "Проверка на равенство дисперсий\n",
      "LeveneResult(statistic=np.float64(0.8522876717058208), pvalue=np.float64(0.3560592469154229))\n"
     ]
    }
   ],
   "source": [
    "drama_movies = df[df['genre'].str.contains('Drama', case=False, na=False)][['average_rating', 'genre']]\n",
    "other_movies = df[~df['genre'].str.contains('Drama', case=False, na=False)][['average_rating', 'genre']]\n",
    "\n",
    "print(f'Среднее значение рейтинга у фильмов с жанром Drama: {drama_movies.average_rating.mean()}')\n",
    "print(f'Среднее значение рейтинга у фильмов без жанра Drama: {other_movies.average_rating.mean()}')\n",
    "print()\n",
    "\n",
    "print('Проверка нормальности данных в выборках по рейтингу')\n",
    "print(ss.shapiro(drama_movies.average_rating))  # для драм\n",
    "print(ss.shapiro(other_movies.average_rating))  # для остальных жанров\n",
    "print()\n",
    "\n",
    "print('Проверка на равенство дисперсий')\n",
    "print(ss.levene(drama_movies.average_rating, other_movies.average_rating))"
   ]
  },
  {
   "cell_type": "markdown",
   "metadata": {},
   "source": [
    "Полученные результаты тестов свидетельствуют о том, что данные распределены ненормально, а дисперсии в выборках можно считать равными. Вследствие этого использование классического t-теста для определения уровня статистической значимости разниц становится  некорректным: вместо указанного теста необходимо использовать непараметрический тест Манна-Уитни:"
   ]
  },
  {
   "cell_type": "code",
   "execution_count": 12,
   "metadata": {},
   "outputs": [
    {
     "data": {
      "text/plain": [
       "MannwhitneyuResult(statistic=np.float64(209926.0), pvalue=np.float64(0.9726116038158621))"
      ]
     },
     "execution_count": 12,
     "metadata": {},
     "output_type": "execute_result"
    }
   ],
   "source": [
    "ss.mannwhitneyu(drama_movies.average_rating, other_movies.average_rating)"
   ]
  },
  {
   "cell_type": "markdown",
   "metadata": {},
   "source": [
    "**Вывод : Результаты теста Манна-Уитни показали отсутствие статистически значимой разницы между выборками. Таким образом, гипотеза о том, что фильмы с жанром Drama имеют более высокие рейтинги, отвергается — статистически значимых различий в оценках между фильмами с жанром Drama и без него не выявлено.**"
   ]
  },
  {
   "cell_type": "markdown",
   "metadata": {},
   "source": [
    "### Гипотеза 2: Фильмы с совпадением режиссёра и сценариста более успешны"
   ]
  },
  {
   "cell_type": "markdown",
   "metadata": {},
   "source": [
    "Данная гипотеза предполагает, что если режиссёр и сценарист фильма - один и тот же человек, то, возможно, такой фильм имеет более четкое видение и концепцию, что приводит к более высоким результатам в рейтингах и в кассовых сборах.\n",
    "\n",
    "Для проверки гипотезы можно разбить фильмы на две группы: с совпадением режиссёра и сценариста и без. Затем можно проверить средний рейтинг или сборы в этих группах:"
   ]
  },
  {
   "cell_type": "code",
   "execution_count": null,
   "metadata": {},
   "outputs": [
    {
     "name": "stdout",
     "output_type": "stream",
     "text": [
      "Средний рейтинг у фильмов с одинаковым режиссёром и сценаристом: 7.573214285714285\n",
      "Средний рейтинг у фильмов с разными режиссёром и сценаристом: 7.616409423233144\n",
      "Проверка на значимость разницы с t-тестом\n",
      "TtestResult(statistic=np.float64(-1.6641201978387392), pvalue=np.float64(0.09630403284771445), df=np.float64(1453.0))\n",
      "Проверка с помощью теста Манна-Уитни\n",
      "MannwhitneyuResult(statistic=np.float64(131428.5), pvalue=np.float64(0.26257580849540907))\n"
     ]
    }
   ],
   "source": [
    "same_director_writer = df.query('director == writer')[['average_rating', 'worldwide_gross']]\n",
    "diff_director_writer = df.query('director != writer')[['average_rating', 'worldwide_gross']]\n",
    "\n",
    "print(f'Средний рейтинг у фильмов с одинаковым режиссёром и сценаристом: {same_director_writer.average_rating.mean()}')\n",
    "print(f'Средний рейтинг у фильмов с разными режиссёром и сценаристом: {diff_director_writer.average_rating.mean()}')\n"
   ]
  },
  {
   "cell_type": "markdown",
   "metadata": {},
   "source": [
    "Полученные результаты тестов свидетельствуют о том, что данные распределены ненормально, а дисперсии в рассматриваемых выборках неравны. Вследствие этого использование классического t-теста для определения уровня статистической значимости разниц становится некорректным: вместо указанного теста необходимо использовать непараметрический тест Манна-Уитни"
   ]
  },
  {
   "cell_type": "code",
   "execution_count": 13,
   "metadata": {},
   "outputs": [
    {
     "data": {
      "text/plain": [
       "MannwhitneyuResult(statistic=np.float64(131428.5), pvalue=np.float64(0.26257580849540907))"
      ]
     },
     "execution_count": 13,
     "metadata": {},
     "output_type": "execute_result"
    }
   ],
   "source": [
    "ss.mannwhitneyu(same_director_writer.average_rating, diff_director_writer.average_rating)"
   ]
  },
  {
   "cell_type": "markdown",
   "metadata": {},
   "source": [
    "**Вывод : Результаты непараметрического теста Манна-Уитни не позволяют отвергнуть нулевую гипотезу о равенстве распределений. Таким образом, гипотеза о том, что фильмы с одним и тем же автором сценария и режиссёром получают более высокие оценки, отвергается — статистически значимой разницы в рейтингах между этими группами фильмов не выявлено.**"
   ]
  },
  {
   "cell_type": "markdown",
   "metadata": {},
   "source": [
    "### Гипотеза 3: Фильмы с более высоким бюджетом имеют большую прибыль"
   ]
  },
  {
   "cell_type": "markdown",
   "metadata": {},
   "source": [
    "Данная гипотеза основана на предположении, что крупнобюджетные фильмы чаще обладают высококачественными технологиями съемки и привлечением известных актёров, что увеличивает их привлекательность для широкой аудитории и, как следствие, приносит большую прибыль.\n",
    "\n",
    "Для анализа разделим фильмы на две группы по уровню бюджета — ниже и выше медианного значения. Далее сравним среднее значение прибыли в этих группах и проверим выборки на нормальность и равенство дисперсий:"
   ]
  },
  {
   "cell_type": "code",
   "execution_count": 15,
   "metadata": {},
   "outputs": [
    {
     "name": "stdout",
     "output_type": "stream",
     "text": [
      "Средняя прибыль у фильмов с низким бюджетом: 21334045.83\n",
      "Средняя прибыль у фильмов с высоким бюджетом: 173973770.39\n",
      "\n",
      "Проверка нормальности распределения прибыли\n",
      "ShapiroResult(statistic=np.float64(0.522051163613692), pvalue=np.float64(1.6064660509650426e-40))\n",
      "ShapiroResult(statistic=np.float64(0.6649482551300938), pvalue=np.float64(2.664180681822979e-35))\n",
      "\n",
      "Проверка на равенство дисперсий\n",
      "LeveneResult(statistic=np.float64(208.7560024319817), pvalue=np.float64(2.5882162738827526e-44))\n",
      "\n"
     ]
    }
   ],
   "source": [
    "median_budget = df['budget'].median()\n",
    "g1 = df[df['budget'] <= median_budget][['profit_or_loss', 'budget']]  # низкий бюджет\n",
    "g2 = df[df['budget'] > median_budget][['profit_or_loss', 'budget']]   # высокий бюджет\n",
    "\n",
    "print(f'Средняя прибыль у фильмов с низким бюджетом: {round(g1.profit_or_loss.mean(), 2)}')\n",
    "print(f'Средняя прибыль у фильмов с высоким бюджетом: {round(g2.profit_or_loss.mean(), 2)}')\n",
    "print()\n",
    "\n",
    "print('Проверка нормальности распределения прибыли')\n",
    "print(ss.shapiro(g1.profit_or_loss))\n",
    "print(ss.shapiro(g2.profit_or_loss))\n",
    "print()\n",
    "\n",
    "print('Проверка на равенство дисперсий')\n",
    "print(ss.levene(g1.profit_or_loss, g2.profit_or_loss))\n",
    "print()"
   ]
  },
  {
   "cell_type": "markdown",
   "metadata": {},
   "source": [
    "Полученные результаты тестов свидетельствуют о том, что данные распределены ненормально, а дисперсии в рассматриваемых выборках неравны. Вследствие этого использование классического t-теста для определения уровня статистической значимости разниц становится  некорректным: вместо указанного теста необходимо использовать непараметрический тест Манна-Уитни:"
   ]
  },
  {
   "cell_type": "code",
   "execution_count": 16,
   "metadata": {},
   "outputs": [
    {
     "data": {
      "text/plain": [
       "MannwhitneyuResult(statistic=np.float64(133394.0), pvalue=np.float64(2.974320257075564e-60))"
      ]
     },
     "execution_count": 16,
     "metadata": {},
     "output_type": "execute_result"
    }
   ],
   "source": [
    "ss.mannwhitneyu(g1.profit_or_loss, g2.profit_or_loss)"
   ]
  },
  {
   "cell_type": "markdown",
   "metadata": {},
   "source": [
    "**Вывод : Результаты непараметрического теста Манна-Уитни свидетельствуют о наличии статистически значимой разницы между выборками. Таким образом, гипотеза о том, что фильмы с более высоким бюджетом имеют большую прибыль, подтверждается — в среднем такие фильмы действительно приносят значительно больше прибыли.**"
   ]
  }
 ],
 "metadata": {
  "kernelspec": {
   "display_name": "Python 3",
   "language": "python",
   "name": "python3"
  },
  "language_info": {
   "codemirror_mode": {
    "name": "ipython",
    "version": 3
   },
   "file_extension": ".py",
   "mimetype": "text/x-python",
   "name": "python",
   "nbconvert_exporter": "python",
   "pygments_lexer": "ipython3",
   "version": "3.12.6"
  }
 },
 "nbformat": 4,
 "nbformat_minor": 4
}
