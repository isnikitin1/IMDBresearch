{
 "cells": [
  {
   "metadata": {},
   "cell_type": "markdown",
   "source": "# Часть 3: Проверка гипотез",
   "id": "f56d144cfe0ec41"
  },
  {
   "metadata": {},
   "cell_type": "markdown",
   "source": [
    "## 1. Основные цели:\n",
    "1. Сформулируйте гипотезы по вашим данным (не менее двух).\n",
    "2. Проверьте их с помощью одного из статистических тестов\n",
    "3. Какие выводы можно сделать?\n"
   ],
   "id": "4c3c2bf8f4083373"
  },
  {
   "metadata": {},
   "cell_type": "markdown",
   "source": "## 2. Подготовка датасета на основании второй части EDA",
   "id": "ca222431e163255d"
  },
  {
   "metadata": {
    "ExecuteTime": {
     "end_time": "2025-05-10T21:37:11.153337Z",
     "start_time": "2025-05-10T21:37:11.150986Z"
    }
   },
   "cell_type": "code",
   "source": [
    "# Системные библиотеки\n",
    "import os\n",
    "\n",
    "# Библиотеки со статистическими инструментами\n",
    "import numpy as np\n",
    "import pandas as pd\n",
    "import scipy.stats as ss\n",
    "\n",
    "# Библиотеки для рисования\n",
    "import seaborn as sns\n",
    "import matplotlib.pyplot as plt\n",
    "\n",
    "# Готовая линейная регрессия\n",
    "from sklearn.linear_model import LinearRegression"
   ],
   "id": "1f9faa6d20f3ab0b",
   "outputs": [],
   "execution_count": 39
  },
  {
   "metadata": {
    "ExecuteTime": {
     "end_time": "2025-05-10T21:37:11.206301Z",
     "start_time": "2025-05-10T21:37:11.196131Z"
    }
   },
   "cell_type": "code",
   "source": "df = pd.read_csv(f'{os.getcwd()}/data_eda_merged.csv')",
   "id": "751bbd8de362a7c5",
   "outputs": [],
   "execution_count": 40
  },
  {
   "metadata": {
    "ExecuteTime": {
     "end_time": "2025-05-10T21:37:11.247706Z",
     "start_time": "2025-05-10T21:37:11.241762Z"
    }
   },
   "cell_type": "code",
   "source": "df.info()",
   "id": "e2a8634752378dd2",
   "outputs": [
    {
     "name": "stdout",
     "output_type": "stream",
     "text": [
      "<class 'pandas.core.frame.DataFrame'>\n",
      "RangeIndex: 1455 entries, 0 to 1454\n",
      "Data columns (total 43 columns):\n",
      " #   Column               Non-Null Count  Dtype  \n",
      "---  ------               --------------  -----  \n",
      " 0   title                1455 non-null   object \n",
      " 1   average_rating       1455 non-null   float64\n",
      " 2   director             1455 non-null   object \n",
      " 3   writer               1455 non-null   object \n",
      " 4   metascore            1455 non-null   int64  \n",
      " 5   cast                 1455 non-null   object \n",
      " 6   country_of_origin    1455 non-null   object \n",
      " 7   languages            1455 non-null   object \n",
      " 8   runtime              1455 non-null   int64  \n",
      " 9   genre                1455 non-null   object \n",
      " 10  budget               1455 non-null   int64  \n",
      " 11  worldwide_gross      1455 non-null   int64  \n",
      " 12  release_year         1455 non-null   int64  \n",
      " 13  profit_or_loss       1455 non-null   int64  \n",
      " 14  p&l_rate             1455 non-null   float64\n",
      " 15  lang_cnt             1455 non-null   int64  \n",
      " 16  country_cnt          1455 non-null   int64  \n",
      " 17  coproduction         1455 non-null   int64  \n",
      " 18  writer_1             1455 non-null   object \n",
      " 19  writer_2             1031 non-null   object \n",
      " 20  writer_3             564 non-null    object \n",
      " 21  writer_4             0 non-null      float64\n",
      " 22  writer_5             0 non-null      float64\n",
      " 23  cast_1               1455 non-null   object \n",
      " 24  cast_2               1455 non-null   object \n",
      " 25  cast_3               1455 non-null   object \n",
      " 26  cast_4               1455 non-null   object \n",
      " 27  cast_5               1454 non-null   object \n",
      " 28  language_1           1449 non-null   object \n",
      " 29  language_2           739 non-null    object \n",
      " 30  language_3           358 non-null    object \n",
      " 31  language_4           164 non-null    object \n",
      " 32  language_5           75 non-null     object \n",
      " 33  genre_1              1455 non-null   object \n",
      " 34  genre_2              1324 non-null   object \n",
      " 35  genre_3              941 non-null    object \n",
      " 36  genre_4              0 non-null      float64\n",
      " 37  genre_5              0 non-null      float64\n",
      " 38  country_of_origin_1  1455 non-null   object \n",
      " 39  country_of_origin_2  581 non-null    object \n",
      " 40  country_of_origin_3  213 non-null    object \n",
      " 41  country_of_origin_4  96 non-null     object \n",
      " 42  country_of_origin_5  49 non-null     object \n",
      "dtypes: float64(6), int64(9), object(28)\n",
      "memory usage: 488.9+ KB\n"
     ]
    }
   ],
   "execution_count": 41
  },
  {
   "metadata": {
    "ExecuteTime": {
     "end_time": "2025-05-10T21:37:11.296719Z",
     "start_time": "2025-05-10T21:37:11.291386Z"
    }
   },
   "cell_type": "code",
   "source": [
    "df = df.drop(columns=['writer_2', 'writer_3', 'writer_4', 'writer_5'])\n",
    "df = df.drop(columns=['cast_2', 'cast_3', 'cast_4', 'cast_5'])\n",
    "df = df.drop(columns=['language_2', 'language_3', 'language_4', 'language_5'])\n",
    "df = df.drop(columns=['genre_2', 'genre_3', 'genre_4', 'genre_5'])\n",
    "df = df.drop(columns=['country_of_origin_2', 'country_of_origin_3', 'country_of_origin_4', 'country_of_origin_5'])"
   ],
   "id": "c8335f977d457e1c",
   "outputs": [],
   "execution_count": 42
  },
  {
   "metadata": {
    "ExecuteTime": {
     "end_time": "2025-05-10T21:37:11.342641Z",
     "start_time": "2025-05-10T21:37:11.338749Z"
    }
   },
   "cell_type": "code",
   "source": "df.columns",
   "id": "64fff7c46c3dc7aa",
   "outputs": [
    {
     "data": {
      "text/plain": [
       "Index(['title', 'average_rating', 'director', 'writer', 'metascore', 'cast',\n",
       "       'country_of_origin', 'languages', 'runtime', 'genre', 'budget',\n",
       "       'worldwide_gross', 'release_year', 'profit_or_loss', 'p&l_rate',\n",
       "       'lang_cnt', 'country_cnt', 'coproduction', 'writer_1', 'cast_1',\n",
       "       'language_1', 'genre_1', 'country_of_origin_1'],\n",
       "      dtype='object')"
      ]
     },
     "execution_count": 43,
     "metadata": {},
     "output_type": "execute_result"
    }
   ],
   "execution_count": 43
  },
  {
   "metadata": {
    "ExecuteTime": {
     "end_time": "2025-05-10T21:37:11.390819Z",
     "start_time": "2025-05-10T21:37:11.385267Z"
    }
   },
   "cell_type": "code",
   "source": [
    "for col in ['director', 'coproduction', 'writer_1', 'cast_1', 'language_1', 'genre_1', 'country_of_origin_1']:\n",
    "    df[col] = df[col].astype('category')"
   ],
   "id": "a9231274fb5783a4",
   "outputs": [],
   "execution_count": 44
  },
  {
   "metadata": {
    "ExecuteTime": {
     "end_time": "2025-05-10T21:37:11.437897Z",
     "start_time": "2025-05-10T21:37:11.431383Z"
    }
   },
   "cell_type": "code",
   "source": "df.info()",
   "id": "3fb9bae8bfb3f38",
   "outputs": [
    {
     "name": "stdout",
     "output_type": "stream",
     "text": [
      "<class 'pandas.core.frame.DataFrame'>\n",
      "RangeIndex: 1455 entries, 0 to 1454\n",
      "Data columns (total 23 columns):\n",
      " #   Column               Non-Null Count  Dtype   \n",
      "---  ------               --------------  -----   \n",
      " 0   title                1455 non-null   object  \n",
      " 1   average_rating       1455 non-null   float64 \n",
      " 2   director             1455 non-null   category\n",
      " 3   writer               1455 non-null   object  \n",
      " 4   metascore            1455 non-null   int64   \n",
      " 5   cast                 1455 non-null   object  \n",
      " 6   country_of_origin    1455 non-null   object  \n",
      " 7   languages            1455 non-null   object  \n",
      " 8   runtime              1455 non-null   int64   \n",
      " 9   genre                1455 non-null   object  \n",
      " 10  budget               1455 non-null   int64   \n",
      " 11  worldwide_gross      1455 non-null   int64   \n",
      " 12  release_year         1455 non-null   int64   \n",
      " 13  profit_or_loss       1455 non-null   int64   \n",
      " 14  p&l_rate             1455 non-null   float64 \n",
      " 15  lang_cnt             1455 non-null   int64   \n",
      " 16  country_cnt          1455 non-null   int64   \n",
      " 17  coproduction         1455 non-null   category\n",
      " 18  writer_1             1455 non-null   category\n",
      " 19  cast_1               1455 non-null   category\n",
      " 20  language_1           1449 non-null   category\n",
      " 21  genre_1              1455 non-null   category\n",
      " 22  country_of_origin_1  1455 non-null   category\n",
      "dtypes: category(7), float64(2), int64(8), object(6)\n",
      "memory usage: 302.6+ KB\n"
     ]
    }
   ],
   "execution_count": 45
  },
  {
   "metadata": {
    "ExecuteTime": {
     "end_time": "2025-05-10T21:37:11.485594Z",
     "start_time": "2025-05-10T21:37:11.479218Z"
    }
   },
   "cell_type": "code",
   "source": "df.isnull().sum()",
   "id": "3cdfd5c213b943f3",
   "outputs": [
    {
     "data": {
      "text/plain": [
       "title                  0\n",
       "average_rating         0\n",
       "director               0\n",
       "writer                 0\n",
       "metascore              0\n",
       "cast                   0\n",
       "country_of_origin      0\n",
       "languages              0\n",
       "runtime                0\n",
       "genre                  0\n",
       "budget                 0\n",
       "worldwide_gross        0\n",
       "release_year           0\n",
       "profit_or_loss         0\n",
       "p&l_rate               0\n",
       "lang_cnt               0\n",
       "country_cnt            0\n",
       "coproduction           0\n",
       "writer_1               0\n",
       "cast_1                 0\n",
       "language_1             6\n",
       "genre_1                0\n",
       "country_of_origin_1    0\n",
       "dtype: int64"
      ]
     },
     "execution_count": 46,
     "metadata": {},
     "output_type": "execute_result"
    }
   ],
   "execution_count": 46
  },
  {
   "metadata": {
    "ExecuteTime": {
     "end_time": "2025-05-10T21:37:11.550279Z",
     "start_time": "2025-05-10T21:37:11.542919Z"
    }
   },
   "cell_type": "code",
   "source": "df[df['language_1'].isnull() == True]",
   "id": "83cd39feb4e9fec9",
   "outputs": [
    {
     "data": {
      "text/plain": [
       "                             title  average_rating         director  \\\n",
       "39                     City Lights             8.5  Charles Chaplin   \n",
       "118                        The Kid             8.2  Charles Chaplin   \n",
       "179  Sunrise: A Song of Two Humans             8.1      F.W. Murnau   \n",
       "180                  The Gold Rush             8.1  Charles Chaplin   \n",
       "183                     The Circus             8.1  Charles Chaplin   \n",
       "544                    The Unknown             7.7     Tod Browning   \n",
       "\n",
       "                                                writer  metascore  \\\n",
       "39          Charles Chaplin, Harry Carr, Harry Crocker         99   \n",
       "118                                    Charles Chaplin         73   \n",
       "179  Carl Mayer, Hermann Sudermann, Katherine Hilliker         95   \n",
       "180                                    Charles Chaplin         73   \n",
       "183                                    Charles Chaplin         90   \n",
       "544       Tod Browning, Waldemar Young, Joseph Farnham         73   \n",
       "\n",
       "                                                  cast country_of_origin  \\\n",
       "39    Virginia Cherrill, Florence Lee, Harry Myers,...     United States   \n",
       "118   Edna Purviance, Jackie Coogan, Carl Miller, A...     United States   \n",
       "179   Janet Gaynor, Margaret Livingston, Bodil Rosi...     United States   \n",
       "180   Mack Swain, Tom Murray, Henry Bergman, Malcol...     United States   \n",
       "183   Merna Kennedy, Al Ernest Garcia, Harry Crocke...     United States   \n",
       "544   Norman Kerry, Joan Crawford, Nick De Ruiz, Jo...     United States   \n",
       "\n",
       "         languages  runtime                                 genre  ...  \\\n",
       "39   None, English       87    Comedy, Drama, Romance              ...   \n",
       "118  None, English       68     Comedy, Drama, Family              ...   \n",
       "179  None, English       94            Drama, Romance              ...   \n",
       "180  None, English       95  Adventure, Comedy, Drama              ...   \n",
       "183  None, English       72   Comedy, Family, Romance              ...   \n",
       "544  None, English       63    Drama, Horror, Romance              ...   \n",
       "\n",
       "     profit_or_loss  p&l_rate  lang_cnt  country_cnt  coproduction  \\\n",
       "39         -1444846    -96.32         2            1             0   \n",
       "118         -208021    -83.21         2            1             0   \n",
       "179          -78152    -39.08         2            1             0   \n",
       "180         -891510    -96.59         2            1             0   \n",
       "183         -868282    -96.48         2            1             0   \n",
       "544         -212159    -97.77         2            1             0   \n",
       "\n",
       "            writer_1             cast_1 language_1    genre_1  \\\n",
       "39   Charles Chaplin  Virginia Cherrill        NaN     Comedy   \n",
       "118  Charles Chaplin     Edna Purviance        NaN     Comedy   \n",
       "179       Carl Mayer       Janet Gaynor        NaN      Drama   \n",
       "180  Charles Chaplin         Mack Swain        NaN  Adventure   \n",
       "183  Charles Chaplin      Merna Kennedy        NaN     Comedy   \n",
       "544     Tod Browning       Norman Kerry        NaN      Drama   \n",
       "\n",
       "    country_of_origin_1  \n",
       "39        United States  \n",
       "118       United States  \n",
       "179       United States  \n",
       "180       United States  \n",
       "183       United States  \n",
       "544       United States  \n",
       "\n",
       "[6 rows x 23 columns]"
      ],
      "text/html": [
       "<div>\n",
       "<style scoped>\n",
       "    .dataframe tbody tr th:only-of-type {\n",
       "        vertical-align: middle;\n",
       "    }\n",
       "\n",
       "    .dataframe tbody tr th {\n",
       "        vertical-align: top;\n",
       "    }\n",
       "\n",
       "    .dataframe thead th {\n",
       "        text-align: right;\n",
       "    }\n",
       "</style>\n",
       "<table border=\"1\" class=\"dataframe\">\n",
       "  <thead>\n",
       "    <tr style=\"text-align: right;\">\n",
       "      <th></th>\n",
       "      <th>title</th>\n",
       "      <th>average_rating</th>\n",
       "      <th>director</th>\n",
       "      <th>writer</th>\n",
       "      <th>metascore</th>\n",
       "      <th>cast</th>\n",
       "      <th>country_of_origin</th>\n",
       "      <th>languages</th>\n",
       "      <th>runtime</th>\n",
       "      <th>genre</th>\n",
       "      <th>...</th>\n",
       "      <th>profit_or_loss</th>\n",
       "      <th>p&amp;l_rate</th>\n",
       "      <th>lang_cnt</th>\n",
       "      <th>country_cnt</th>\n",
       "      <th>coproduction</th>\n",
       "      <th>writer_1</th>\n",
       "      <th>cast_1</th>\n",
       "      <th>language_1</th>\n",
       "      <th>genre_1</th>\n",
       "      <th>country_of_origin_1</th>\n",
       "    </tr>\n",
       "  </thead>\n",
       "  <tbody>\n",
       "    <tr>\n",
       "      <th>39</th>\n",
       "      <td>City Lights</td>\n",
       "      <td>8.5</td>\n",
       "      <td>Charles Chaplin</td>\n",
       "      <td>Charles Chaplin, Harry Carr, Harry Crocker</td>\n",
       "      <td>99</td>\n",
       "      <td>Virginia Cherrill, Florence Lee, Harry Myers,...</td>\n",
       "      <td>United States</td>\n",
       "      <td>None, English</td>\n",
       "      <td>87</td>\n",
       "      <td>Comedy, Drama, Romance</td>\n",
       "      <td>...</td>\n",
       "      <td>-1444846</td>\n",
       "      <td>-96.32</td>\n",
       "      <td>2</td>\n",
       "      <td>1</td>\n",
       "      <td>0</td>\n",
       "      <td>Charles Chaplin</td>\n",
       "      <td>Virginia Cherrill</td>\n",
       "      <td>NaN</td>\n",
       "      <td>Comedy</td>\n",
       "      <td>United States</td>\n",
       "    </tr>\n",
       "    <tr>\n",
       "      <th>118</th>\n",
       "      <td>The Kid</td>\n",
       "      <td>8.2</td>\n",
       "      <td>Charles Chaplin</td>\n",
       "      <td>Charles Chaplin</td>\n",
       "      <td>73</td>\n",
       "      <td>Edna Purviance, Jackie Coogan, Carl Miller, A...</td>\n",
       "      <td>United States</td>\n",
       "      <td>None, English</td>\n",
       "      <td>68</td>\n",
       "      <td>Comedy, Drama, Family</td>\n",
       "      <td>...</td>\n",
       "      <td>-208021</td>\n",
       "      <td>-83.21</td>\n",
       "      <td>2</td>\n",
       "      <td>1</td>\n",
       "      <td>0</td>\n",
       "      <td>Charles Chaplin</td>\n",
       "      <td>Edna Purviance</td>\n",
       "      <td>NaN</td>\n",
       "      <td>Comedy</td>\n",
       "      <td>United States</td>\n",
       "    </tr>\n",
       "    <tr>\n",
       "      <th>179</th>\n",
       "      <td>Sunrise: A Song of Two Humans</td>\n",
       "      <td>8.1</td>\n",
       "      <td>F.W. Murnau</td>\n",
       "      <td>Carl Mayer, Hermann Sudermann, Katherine Hilliker</td>\n",
       "      <td>95</td>\n",
       "      <td>Janet Gaynor, Margaret Livingston, Bodil Rosi...</td>\n",
       "      <td>United States</td>\n",
       "      <td>None, English</td>\n",
       "      <td>94</td>\n",
       "      <td>Drama, Romance</td>\n",
       "      <td>...</td>\n",
       "      <td>-78152</td>\n",
       "      <td>-39.08</td>\n",
       "      <td>2</td>\n",
       "      <td>1</td>\n",
       "      <td>0</td>\n",
       "      <td>Carl Mayer</td>\n",
       "      <td>Janet Gaynor</td>\n",
       "      <td>NaN</td>\n",
       "      <td>Drama</td>\n",
       "      <td>United States</td>\n",
       "    </tr>\n",
       "    <tr>\n",
       "      <th>180</th>\n",
       "      <td>The Gold Rush</td>\n",
       "      <td>8.1</td>\n",
       "      <td>Charles Chaplin</td>\n",
       "      <td>Charles Chaplin</td>\n",
       "      <td>73</td>\n",
       "      <td>Mack Swain, Tom Murray, Henry Bergman, Malcol...</td>\n",
       "      <td>United States</td>\n",
       "      <td>None, English</td>\n",
       "      <td>95</td>\n",
       "      <td>Adventure, Comedy, Drama</td>\n",
       "      <td>...</td>\n",
       "      <td>-891510</td>\n",
       "      <td>-96.59</td>\n",
       "      <td>2</td>\n",
       "      <td>1</td>\n",
       "      <td>0</td>\n",
       "      <td>Charles Chaplin</td>\n",
       "      <td>Mack Swain</td>\n",
       "      <td>NaN</td>\n",
       "      <td>Adventure</td>\n",
       "      <td>United States</td>\n",
       "    </tr>\n",
       "    <tr>\n",
       "      <th>183</th>\n",
       "      <td>The Circus</td>\n",
       "      <td>8.1</td>\n",
       "      <td>Charles Chaplin</td>\n",
       "      <td>Charles Chaplin</td>\n",
       "      <td>90</td>\n",
       "      <td>Merna Kennedy, Al Ernest Garcia, Harry Crocke...</td>\n",
       "      <td>United States</td>\n",
       "      <td>None, English</td>\n",
       "      <td>72</td>\n",
       "      <td>Comedy, Family, Romance</td>\n",
       "      <td>...</td>\n",
       "      <td>-868282</td>\n",
       "      <td>-96.48</td>\n",
       "      <td>2</td>\n",
       "      <td>1</td>\n",
       "      <td>0</td>\n",
       "      <td>Charles Chaplin</td>\n",
       "      <td>Merna Kennedy</td>\n",
       "      <td>NaN</td>\n",
       "      <td>Comedy</td>\n",
       "      <td>United States</td>\n",
       "    </tr>\n",
       "    <tr>\n",
       "      <th>544</th>\n",
       "      <td>The Unknown</td>\n",
       "      <td>7.7</td>\n",
       "      <td>Tod Browning</td>\n",
       "      <td>Tod Browning, Waldemar Young, Joseph Farnham</td>\n",
       "      <td>73</td>\n",
       "      <td>Norman Kerry, Joan Crawford, Nick De Ruiz, Jo...</td>\n",
       "      <td>United States</td>\n",
       "      <td>None, English</td>\n",
       "      <td>63</td>\n",
       "      <td>Drama, Horror, Romance</td>\n",
       "      <td>...</td>\n",
       "      <td>-212159</td>\n",
       "      <td>-97.77</td>\n",
       "      <td>2</td>\n",
       "      <td>1</td>\n",
       "      <td>0</td>\n",
       "      <td>Tod Browning</td>\n",
       "      <td>Norman Kerry</td>\n",
       "      <td>NaN</td>\n",
       "      <td>Drama</td>\n",
       "      <td>United States</td>\n",
       "    </tr>\n",
       "  </tbody>\n",
       "</table>\n",
       "<p>6 rows × 23 columns</p>\n",
       "</div>"
      ]
     },
     "execution_count": 47,
     "metadata": {},
     "output_type": "execute_result"
    }
   ],
   "execution_count": 47
  },
  {
   "metadata": {
    "ExecuteTime": {
     "end_time": "2025-05-10T21:37:11.606770Z",
     "start_time": "2025-05-10T21:37:11.604026Z"
    }
   },
   "cell_type": "code",
   "source": "df.loc[df['language_1'].isnull() == True, 'language_1'] = 'English'",
   "id": "43a39818409fb233",
   "outputs": [],
   "execution_count": 48
  },
  {
   "metadata": {
    "ExecuteTime": {
     "end_time": "2025-05-10T21:37:11.655950Z",
     "start_time": "2025-05-10T21:37:11.647986Z"
    }
   },
   "cell_type": "code",
   "source": "df.head()",
   "id": "98e2c73699355253",
   "outputs": [
    {
     "data": {
      "text/plain": [
       "                      title  average_rating              director  \\\n",
       "0  The Shawshank Redemption             9.3        Frank Darabont   \n",
       "1             The Godfather             9.2  Francis Ford Coppola   \n",
       "2           The Dark Knight             9.0     Christopher Nolan   \n",
       "3          Schindler's List             9.0      Steven Spielberg   \n",
       "4              12 Angry Men             9.0          Sidney Lumet   \n",
       "\n",
       "                                              writer  metascore  \\\n",
       "0                       Stephen King, Frank Darabont         82   \n",
       "1                   Mario Puzo, Francis Ford Coppola        100   \n",
       "2  Jonathan Nolan, Christopher Nolan, David S. Goyer         84   \n",
       "3                   Thomas Keneally, Steven Zaillian         95   \n",
       "4                                      Reginald Rose         97   \n",
       "\n",
       "                                                cast  \\\n",
       "0   Morgan Freeman, Bob Gunton, William Sadler, C...   \n",
       "1   Al Pacino, James Caan, Diane Keaton, Richard ...   \n",
       "2   Heath Ledger, Aaron Eckhart, Michael Caine, M...   \n",
       "3   Ralph Fiennes, Ben Kingsley, Caroline Goodall...   \n",
       "4   Lee J. Cobb, Martin Balsam, John Fiedler, E.G...   \n",
       "\n",
       "               country_of_origin                               languages  \\\n",
       "0                  United States                                 English   \n",
       "1                  United States                 English, Italian, Latin   \n",
       "2  United States, United Kingdom                       English, Mandarin   \n",
       "3                  United States  English, Hebrew, German, Polish, Latin   \n",
       "4                  United States                                 English   \n",
       "\n",
       "   runtime                                  genre  ...  profit_or_loss  \\\n",
       "0      142                      Drama              ...         4332133   \n",
       "1      175               Crime, Drama              ...       244342198   \n",
       "2      152       Action, Crime, Drama              ...       824053678   \n",
       "3      195  Biography, Drama, History              ...       300161245   \n",
       "4       96               Crime, Drama              ...         -347055   \n",
       "\n",
       "   p&l_rate  lang_cnt  country_cnt  coproduction         writer_1  \\\n",
       "0     17.33         1            1             0     Stephen King   \n",
       "1   4072.37         3            1             0       Mario Puzo   \n",
       "2    445.43         2            2             1   Jonathan Nolan   \n",
       "3   1364.37         5            1             0  Thomas Keneally   \n",
       "4    -99.16         1            1             0    Reginald Rose   \n",
       "\n",
       "           cast_1 language_1    genre_1 country_of_origin_1  \n",
       "0  Morgan Freeman    English      Drama       United States  \n",
       "1       Al Pacino    English      Crime       United States  \n",
       "2    Heath Ledger    English     Action       United States  \n",
       "3   Ralph Fiennes    English  Biography       United States  \n",
       "4     Lee J. Cobb    English      Crime       United States  \n",
       "\n",
       "[5 rows x 23 columns]"
      ],
      "text/html": [
       "<div>\n",
       "<style scoped>\n",
       "    .dataframe tbody tr th:only-of-type {\n",
       "        vertical-align: middle;\n",
       "    }\n",
       "\n",
       "    .dataframe tbody tr th {\n",
       "        vertical-align: top;\n",
       "    }\n",
       "\n",
       "    .dataframe thead th {\n",
       "        text-align: right;\n",
       "    }\n",
       "</style>\n",
       "<table border=\"1\" class=\"dataframe\">\n",
       "  <thead>\n",
       "    <tr style=\"text-align: right;\">\n",
       "      <th></th>\n",
       "      <th>title</th>\n",
       "      <th>average_rating</th>\n",
       "      <th>director</th>\n",
       "      <th>writer</th>\n",
       "      <th>metascore</th>\n",
       "      <th>cast</th>\n",
       "      <th>country_of_origin</th>\n",
       "      <th>languages</th>\n",
       "      <th>runtime</th>\n",
       "      <th>genre</th>\n",
       "      <th>...</th>\n",
       "      <th>profit_or_loss</th>\n",
       "      <th>p&amp;l_rate</th>\n",
       "      <th>lang_cnt</th>\n",
       "      <th>country_cnt</th>\n",
       "      <th>coproduction</th>\n",
       "      <th>writer_1</th>\n",
       "      <th>cast_1</th>\n",
       "      <th>language_1</th>\n",
       "      <th>genre_1</th>\n",
       "      <th>country_of_origin_1</th>\n",
       "    </tr>\n",
       "  </thead>\n",
       "  <tbody>\n",
       "    <tr>\n",
       "      <th>0</th>\n",
       "      <td>The Shawshank Redemption</td>\n",
       "      <td>9.3</td>\n",
       "      <td>Frank Darabont</td>\n",
       "      <td>Stephen King, Frank Darabont</td>\n",
       "      <td>82</td>\n",
       "      <td>Morgan Freeman, Bob Gunton, William Sadler, C...</td>\n",
       "      <td>United States</td>\n",
       "      <td>English</td>\n",
       "      <td>142</td>\n",
       "      <td>Drama</td>\n",
       "      <td>...</td>\n",
       "      <td>4332133</td>\n",
       "      <td>17.33</td>\n",
       "      <td>1</td>\n",
       "      <td>1</td>\n",
       "      <td>0</td>\n",
       "      <td>Stephen King</td>\n",
       "      <td>Morgan Freeman</td>\n",
       "      <td>English</td>\n",
       "      <td>Drama</td>\n",
       "      <td>United States</td>\n",
       "    </tr>\n",
       "    <tr>\n",
       "      <th>1</th>\n",
       "      <td>The Godfather</td>\n",
       "      <td>9.2</td>\n",
       "      <td>Francis Ford Coppola</td>\n",
       "      <td>Mario Puzo, Francis Ford Coppola</td>\n",
       "      <td>100</td>\n",
       "      <td>Al Pacino, James Caan, Diane Keaton, Richard ...</td>\n",
       "      <td>United States</td>\n",
       "      <td>English, Italian, Latin</td>\n",
       "      <td>175</td>\n",
       "      <td>Crime, Drama</td>\n",
       "      <td>...</td>\n",
       "      <td>244342198</td>\n",
       "      <td>4072.37</td>\n",
       "      <td>3</td>\n",
       "      <td>1</td>\n",
       "      <td>0</td>\n",
       "      <td>Mario Puzo</td>\n",
       "      <td>Al Pacino</td>\n",
       "      <td>English</td>\n",
       "      <td>Crime</td>\n",
       "      <td>United States</td>\n",
       "    </tr>\n",
       "    <tr>\n",
       "      <th>2</th>\n",
       "      <td>The Dark Knight</td>\n",
       "      <td>9.0</td>\n",
       "      <td>Christopher Nolan</td>\n",
       "      <td>Jonathan Nolan, Christopher Nolan, David S. Goyer</td>\n",
       "      <td>84</td>\n",
       "      <td>Heath Ledger, Aaron Eckhart, Michael Caine, M...</td>\n",
       "      <td>United States, United Kingdom</td>\n",
       "      <td>English, Mandarin</td>\n",
       "      <td>152</td>\n",
       "      <td>Action, Crime, Drama</td>\n",
       "      <td>...</td>\n",
       "      <td>824053678</td>\n",
       "      <td>445.43</td>\n",
       "      <td>2</td>\n",
       "      <td>2</td>\n",
       "      <td>1</td>\n",
       "      <td>Jonathan Nolan</td>\n",
       "      <td>Heath Ledger</td>\n",
       "      <td>English</td>\n",
       "      <td>Action</td>\n",
       "      <td>United States</td>\n",
       "    </tr>\n",
       "    <tr>\n",
       "      <th>3</th>\n",
       "      <td>Schindler's List</td>\n",
       "      <td>9.0</td>\n",
       "      <td>Steven Spielberg</td>\n",
       "      <td>Thomas Keneally, Steven Zaillian</td>\n",
       "      <td>95</td>\n",
       "      <td>Ralph Fiennes, Ben Kingsley, Caroline Goodall...</td>\n",
       "      <td>United States</td>\n",
       "      <td>English, Hebrew, German, Polish, Latin</td>\n",
       "      <td>195</td>\n",
       "      <td>Biography, Drama, History</td>\n",
       "      <td>...</td>\n",
       "      <td>300161245</td>\n",
       "      <td>1364.37</td>\n",
       "      <td>5</td>\n",
       "      <td>1</td>\n",
       "      <td>0</td>\n",
       "      <td>Thomas Keneally</td>\n",
       "      <td>Ralph Fiennes</td>\n",
       "      <td>English</td>\n",
       "      <td>Biography</td>\n",
       "      <td>United States</td>\n",
       "    </tr>\n",
       "    <tr>\n",
       "      <th>4</th>\n",
       "      <td>12 Angry Men</td>\n",
       "      <td>9.0</td>\n",
       "      <td>Sidney Lumet</td>\n",
       "      <td>Reginald Rose</td>\n",
       "      <td>97</td>\n",
       "      <td>Lee J. Cobb, Martin Balsam, John Fiedler, E.G...</td>\n",
       "      <td>United States</td>\n",
       "      <td>English</td>\n",
       "      <td>96</td>\n",
       "      <td>Crime, Drama</td>\n",
       "      <td>...</td>\n",
       "      <td>-347055</td>\n",
       "      <td>-99.16</td>\n",
       "      <td>1</td>\n",
       "      <td>1</td>\n",
       "      <td>0</td>\n",
       "      <td>Reginald Rose</td>\n",
       "      <td>Lee J. Cobb</td>\n",
       "      <td>English</td>\n",
       "      <td>Crime</td>\n",
       "      <td>United States</td>\n",
       "    </tr>\n",
       "  </tbody>\n",
       "</table>\n",
       "<p>5 rows × 23 columns</p>\n",
       "</div>"
      ]
     },
     "execution_count": 49,
     "metadata": {},
     "output_type": "execute_result"
    }
   ],
   "execution_count": 49
  },
  {
   "metadata": {
    "ExecuteTime": {
     "end_time": "2025-05-10T21:37:11.837360Z",
     "start_time": "2025-05-10T21:37:11.824298Z"
    }
   },
   "cell_type": "code",
   "source": "df.describe()",
   "id": "86df3f46e4da35fd",
   "outputs": [
    {
     "data": {
      "text/plain": [
       "       average_rating    metascore      runtime        budget  \\\n",
       "count     1455.000000  1455.000000  1455.000000  1.455000e+03   \n",
       "mean         7.609759    73.377320   121.134021  3.078353e+07   \n",
       "std          0.357549    12.526666    24.259159  4.636157e+07   \n",
       "min          7.200000    25.000000     2.000000  2.500000e+03   \n",
       "25%          7.300000    66.000000   105.000000  3.600000e+06   \n",
       "50%          7.500000    73.000000   119.000000  1.400000e+07   \n",
       "75%          7.800000    82.000000   134.000000  3.500000e+07   \n",
       "max          9.300000   100.000000   271.000000  3.551000e+08   \n",
       "\n",
       "       worldwide_gross  release_year  profit_or_loss      p&l_rate  \\\n",
       "count     1.455000e+03   1455.000000    1.455000e+03   1455.000000   \n",
       "mean      1.275457e+08   1997.533333    9.676220e+07    474.996893   \n",
       "std       2.474767e+08     21.534434    2.125636e+08   1606.678629   \n",
       "min       1.900000e+01   1920.000000   -1.580311e+08   -100.000000   \n",
       "25%       5.651243e+06   1986.500000   -5.185755e+05    -22.655000   \n",
       "50%       3.469875e+07   2004.000000    1.893600e+07    150.300000   \n",
       "75%       1.268048e+08   2014.000000    9.339614e+07    446.715000   \n",
       "max       2.923706e+09   2024.000000    2.686706e+09  31662.700000   \n",
       "\n",
       "          lang_cnt  country_cnt  \n",
       "count  1455.000000  1455.000000  \n",
       "mean      1.957388     1.674227  \n",
       "std       1.293130     1.122357  \n",
       "min       1.000000     1.000000  \n",
       "25%       1.000000     1.000000  \n",
       "50%       2.000000     1.000000  \n",
       "75%       2.000000     2.000000  \n",
       "max      10.000000    11.000000  "
      ],
      "text/html": [
       "<div>\n",
       "<style scoped>\n",
       "    .dataframe tbody tr th:only-of-type {\n",
       "        vertical-align: middle;\n",
       "    }\n",
       "\n",
       "    .dataframe tbody tr th {\n",
       "        vertical-align: top;\n",
       "    }\n",
       "\n",
       "    .dataframe thead th {\n",
       "        text-align: right;\n",
       "    }\n",
       "</style>\n",
       "<table border=\"1\" class=\"dataframe\">\n",
       "  <thead>\n",
       "    <tr style=\"text-align: right;\">\n",
       "      <th></th>\n",
       "      <th>average_rating</th>\n",
       "      <th>metascore</th>\n",
       "      <th>runtime</th>\n",
       "      <th>budget</th>\n",
       "      <th>worldwide_gross</th>\n",
       "      <th>release_year</th>\n",
       "      <th>profit_or_loss</th>\n",
       "      <th>p&amp;l_rate</th>\n",
       "      <th>lang_cnt</th>\n",
       "      <th>country_cnt</th>\n",
       "    </tr>\n",
       "  </thead>\n",
       "  <tbody>\n",
       "    <tr>\n",
       "      <th>count</th>\n",
       "      <td>1455.000000</td>\n",
       "      <td>1455.000000</td>\n",
       "      <td>1455.000000</td>\n",
       "      <td>1.455000e+03</td>\n",
       "      <td>1.455000e+03</td>\n",
       "      <td>1455.000000</td>\n",
       "      <td>1.455000e+03</td>\n",
       "      <td>1455.000000</td>\n",
       "      <td>1455.000000</td>\n",
       "      <td>1455.000000</td>\n",
       "    </tr>\n",
       "    <tr>\n",
       "      <th>mean</th>\n",
       "      <td>7.609759</td>\n",
       "      <td>73.377320</td>\n",
       "      <td>121.134021</td>\n",
       "      <td>3.078353e+07</td>\n",
       "      <td>1.275457e+08</td>\n",
       "      <td>1997.533333</td>\n",
       "      <td>9.676220e+07</td>\n",
       "      <td>474.996893</td>\n",
       "      <td>1.957388</td>\n",
       "      <td>1.674227</td>\n",
       "    </tr>\n",
       "    <tr>\n",
       "      <th>std</th>\n",
       "      <td>0.357549</td>\n",
       "      <td>12.526666</td>\n",
       "      <td>24.259159</td>\n",
       "      <td>4.636157e+07</td>\n",
       "      <td>2.474767e+08</td>\n",
       "      <td>21.534434</td>\n",
       "      <td>2.125636e+08</td>\n",
       "      <td>1606.678629</td>\n",
       "      <td>1.293130</td>\n",
       "      <td>1.122357</td>\n",
       "    </tr>\n",
       "    <tr>\n",
       "      <th>min</th>\n",
       "      <td>7.200000</td>\n",
       "      <td>25.000000</td>\n",
       "      <td>2.000000</td>\n",
       "      <td>2.500000e+03</td>\n",
       "      <td>1.900000e+01</td>\n",
       "      <td>1920.000000</td>\n",
       "      <td>-1.580311e+08</td>\n",
       "      <td>-100.000000</td>\n",
       "      <td>1.000000</td>\n",
       "      <td>1.000000</td>\n",
       "    </tr>\n",
       "    <tr>\n",
       "      <th>25%</th>\n",
       "      <td>7.300000</td>\n",
       "      <td>66.000000</td>\n",
       "      <td>105.000000</td>\n",
       "      <td>3.600000e+06</td>\n",
       "      <td>5.651243e+06</td>\n",
       "      <td>1986.500000</td>\n",
       "      <td>-5.185755e+05</td>\n",
       "      <td>-22.655000</td>\n",
       "      <td>1.000000</td>\n",
       "      <td>1.000000</td>\n",
       "    </tr>\n",
       "    <tr>\n",
       "      <th>50%</th>\n",
       "      <td>7.500000</td>\n",
       "      <td>73.000000</td>\n",
       "      <td>119.000000</td>\n",
       "      <td>1.400000e+07</td>\n",
       "      <td>3.469875e+07</td>\n",
       "      <td>2004.000000</td>\n",
       "      <td>1.893600e+07</td>\n",
       "      <td>150.300000</td>\n",
       "      <td>2.000000</td>\n",
       "      <td>1.000000</td>\n",
       "    </tr>\n",
       "    <tr>\n",
       "      <th>75%</th>\n",
       "      <td>7.800000</td>\n",
       "      <td>82.000000</td>\n",
       "      <td>134.000000</td>\n",
       "      <td>3.500000e+07</td>\n",
       "      <td>1.268048e+08</td>\n",
       "      <td>2014.000000</td>\n",
       "      <td>9.339614e+07</td>\n",
       "      <td>446.715000</td>\n",
       "      <td>2.000000</td>\n",
       "      <td>2.000000</td>\n",
       "    </tr>\n",
       "    <tr>\n",
       "      <th>max</th>\n",
       "      <td>9.300000</td>\n",
       "      <td>100.000000</td>\n",
       "      <td>271.000000</td>\n",
       "      <td>3.551000e+08</td>\n",
       "      <td>2.923706e+09</td>\n",
       "      <td>2024.000000</td>\n",
       "      <td>2.686706e+09</td>\n",
       "      <td>31662.700000</td>\n",
       "      <td>10.000000</td>\n",
       "      <td>11.000000</td>\n",
       "    </tr>\n",
       "  </tbody>\n",
       "</table>\n",
       "</div>"
      ]
     },
     "execution_count": 50,
     "metadata": {},
     "output_type": "execute_result"
    }
   ],
   "execution_count": 50
  },
  {
   "metadata": {},
   "cell_type": "markdown",
   "source": "## 3. Формулирование статистических гипотез на основании второй части EDA",
   "id": "85aff5b0cf9df760"
  },
  {
   "metadata": {},
   "cell_type": "markdown",
   "source": [
    "#### Методология работы со статистическими гипотезами:\n",
    "1. Формулирование \"нулевой\" (`H₀`) и альтернативной (`H₁`) гипотез.\n",
    "2. Анализ распределения.\n",
    "3. Определение статистических тестов.\n",
    "4. Статистический критерий `p-value < 0.05` подразумевает, что `H₀` отвергается.\n",
    "5. Формулирование вывода об анализируемом случае."
   ],
   "id": "740d3249f004bab5"
  },
  {
   "metadata": {},
   "cell_type": "markdown",
   "source": [
    "#### Кейс 1. Проверка взаимосвязи влияния режиссера на рейтинг картины.\n",
    "- *H₀*: режиссер **не** влияет на рейтинг картин\n",
    "- *H₁*: режиссер влияет на рейтинг картин"
   ],
   "id": "5aab0ef25027e903"
  },
  {
   "metadata": {
    "ExecuteTime": {
     "end_time": "2025-05-10T21:37:11.873733Z",
     "start_time": "2025-05-10T21:37:11.868783Z"
    }
   },
   "cell_type": "code",
   "source": [
    "case_1 = df[['director', 'average_rating']]\n",
    "case_1.describe()"
   ],
   "id": "a1b03631377a83ca",
   "outputs": [
    {
     "data": {
      "text/plain": [
       "       average_rating\n",
       "count     1455.000000\n",
       "mean         7.609759\n",
       "std          0.357549\n",
       "min          7.200000\n",
       "25%          7.300000\n",
       "50%          7.500000\n",
       "75%          7.800000\n",
       "max          9.300000"
      ],
      "text/html": [
       "<div>\n",
       "<style scoped>\n",
       "    .dataframe tbody tr th:only-of-type {\n",
       "        vertical-align: middle;\n",
       "    }\n",
       "\n",
       "    .dataframe tbody tr th {\n",
       "        vertical-align: top;\n",
       "    }\n",
       "\n",
       "    .dataframe thead th {\n",
       "        text-align: right;\n",
       "    }\n",
       "</style>\n",
       "<table border=\"1\" class=\"dataframe\">\n",
       "  <thead>\n",
       "    <tr style=\"text-align: right;\">\n",
       "      <th></th>\n",
       "      <th>average_rating</th>\n",
       "    </tr>\n",
       "  </thead>\n",
       "  <tbody>\n",
       "    <tr>\n",
       "      <th>count</th>\n",
       "      <td>1455.000000</td>\n",
       "    </tr>\n",
       "    <tr>\n",
       "      <th>mean</th>\n",
       "      <td>7.609759</td>\n",
       "    </tr>\n",
       "    <tr>\n",
       "      <th>std</th>\n",
       "      <td>0.357549</td>\n",
       "    </tr>\n",
       "    <tr>\n",
       "      <th>min</th>\n",
       "      <td>7.200000</td>\n",
       "    </tr>\n",
       "    <tr>\n",
       "      <th>25%</th>\n",
       "      <td>7.300000</td>\n",
       "    </tr>\n",
       "    <tr>\n",
       "      <th>50%</th>\n",
       "      <td>7.500000</td>\n",
       "    </tr>\n",
       "    <tr>\n",
       "      <th>75%</th>\n",
       "      <td>7.800000</td>\n",
       "    </tr>\n",
       "    <tr>\n",
       "      <th>max</th>\n",
       "      <td>9.300000</td>\n",
       "    </tr>\n",
       "  </tbody>\n",
       "</table>\n",
       "</div>"
      ]
     },
     "execution_count": 51,
     "metadata": {},
     "output_type": "execute_result"
    }
   ],
   "execution_count": 51
  },
  {
   "metadata": {
    "ExecuteTime": {
     "end_time": "2025-05-10T21:37:11.929163Z",
     "start_time": "2025-05-10T21:37:11.925543Z"
    }
   },
   "cell_type": "code",
   "source": [
    "director_avg_rating_cnt = case_1.groupby('director')['average_rating'].count().sort_values(ascending=False)\n",
    "print(f\"Топ режиссеров по количеству рейтингов (оцененных снятых картин):\\n\", director_avg_rating_cnt.head(15))\n"
   ],
   "id": "e63c19a33d9b4ea1",
   "outputs": [
    {
     "name": "stderr",
     "output_type": "stream",
     "text": [
      "/tmp/ipykernel_339116/3607243916.py:1: FutureWarning: The default of observed=False is deprecated and will be changed to True in a future version of pandas. Pass observed=False to retain current behavior or observed=True to adopt the future default and silence this warning.\n",
      "  director_avg_rating_cnt = case_1.groupby('director')['average_rating'].count().sort_values(ascending=False)\n"
     ]
    },
    {
     "name": "stdout",
     "output_type": "stream",
     "text": [
      "Топ режиссеров по количеству рейтингов (оцененных снятых картин):\n",
      " director\n",
      "Steven Spielberg     22\n",
      "Martin Scorsese      20\n",
      "Alfred Hitchcock     18\n",
      "Woody Allen          16\n",
      "Clint Eastwood       14\n",
      "Christopher Nolan    12\n",
      "Stanley Kubrick      10\n",
      "Ridley Scott         10\n",
      "Robert Zemeckis       9\n",
      "Roman Polanski        9\n",
      "Oliver Stone          9\n",
      "Peter Jackson         9\n",
      "Billy Wilder          9\n",
      "David Lynch           8\n",
      "Quentin Tarantino     8\n",
      "Name: average_rating, dtype: int64\n"
     ]
    }
   ],
   "execution_count": 52
  },
  {
   "metadata": {
    "ExecuteTime": {
     "end_time": "2025-05-10T21:37:12.080580Z",
     "start_time": "2025-05-10T21:37:11.994753Z"
    }
   },
   "cell_type": "code",
   "source": [
    "sns.histplot(case_1.average_rating, kde=True)\n",
    "plt.xlabel('Рейтинг')\n",
    "plt.ylabel('Плотность')\n",
    "plt.title('Распределение рейтинга')\n",
    "plt.show()"
   ],
   "id": "27021d3ddc724c7d",
   "outputs": [
    {
     "data": {
      "text/plain": [
       "<Figure size 640x480 with 1 Axes>"
      ],
      "image/png": "[encoded data removed]"
     },
     "metadata": {},
     "output_type": "display_data"
    }
   ],
   "execution_count": 53
  },
  {
   "metadata": {
    "ExecuteTime": {
     "end_time": "2025-05-10T21:37:12.117124Z",
     "start_time": "2025-05-10T21:37:12.114315Z"
    }
   },
   "cell_type": "code",
   "source": "case_1 = case_1.assign(log_avg_rating = np.log(df.average_rating))",
   "id": "c03f77771aa55228",
   "outputs": [],
   "execution_count": 54
  },
  {
   "metadata": {
    "ExecuteTime": {
     "end_time": "2025-05-10T21:37:12.258573Z",
     "start_time": "2025-05-10T21:37:12.156461Z"
    }
   },
   "cell_type": "code",
   "source": [
    "sns.histplot(case_1.log_avg_rating, kde=True)\n",
    "plt.xlabel('Логарифмированный рейтинг')\n",
    "plt.ylabel('Плотность')\n",
    "plt.title('Логарифмическое распределение рейтинга')\n",
    "plt.show()"
   ],
   "id": "4df2af68b6b8fa4f",
   "outputs": [
    {
     "data": {
      "text/plain": [
       "<Figure size 640x480 with 1 Axes>"
      ],
      "image/png": "[encoded data removed]"
     },
     "metadata": {},
     "output_type": "display_data"
    }
   ],
   "execution_count": 55
  },
  {
   "metadata": {},
   "cell_type": "markdown",
   "source": [
    "Из анализа графиков видно, что нормальное распределение __*отсутствует*__ даже с учетом логарифмирования.\n",
    "Необходимо убедиться в этом с помощью математического апарата.\n"
   ],
   "id": "281f91fd931eed0d"
  },
  {
   "metadata": {
    "ExecuteTime": {
     "end_time": "2025-05-10T21:37:12.273474Z",
     "start_time": "2025-05-10T21:37:12.271289Z"
    }
   },
   "cell_type": "code",
   "source": "director_top_15 = director_avg_rating_cnt.head(15).index.tolist()",
   "id": "b8da1b2b884bccea",
   "outputs": [],
   "execution_count": 56
  },
  {
   "metadata": {
    "ExecuteTime": {
     "end_time": "2025-05-10T21:37:12.322732Z",
     "start_time": "2025-05-10T21:37:12.316944Z"
    }
   },
   "cell_type": "code",
   "source": [
    "h0 = case_1.query('director != @director_top_15')\n",
    "h1 = case_1.query('director == @director_top_15')"
   ],
   "id": "5bc111a300fe2a15",
   "outputs": [],
   "execution_count": 57
  },
  {
   "metadata": {
    "ExecuteTime": {
     "end_time": "2025-05-10T21:37:12.368209Z",
     "start_time": "2025-05-10T21:37:12.365418Z"
    }
   },
   "cell_type": "code",
   "source": [
    "print('Анализ средних значений:')\n",
    "print(f'Среднее рейтингов картин, снятых режиссерами, не входящими в топ-15 по количеству снятых фильмов,\\\n",
    " равно {round(h0.average_rating.mean(),2)}')\n",
    "print(f'Среднее рейтингов картин, снятых режиссерами, входящими в топ-15 по количеству снятых фильмов,\\\n",
    " равно {round(h1.average_rating.mean(),2)}')"
   ],
   "id": "31bc62d64d15d1d",
   "outputs": [
    {
     "name": "stdout",
     "output_type": "stream",
     "text": [
      "Анализ средних значений:\n",
      "Среднее рейтингов картин, снятых режиссерами, не входящими в топ-15 по количеству снятых фильмов, равно 7.58\n",
      "Среднее рейтингов картин, снятых режиссерами, входящими в топ-15 по количеству снятых фильмов, равно 7.79\n"
     ]
    }
   ],
   "execution_count": 58
  },
  {
   "metadata": {
    "ExecuteTime": {
     "end_time": "2025-05-10T21:37:12.414997Z",
     "start_time": "2025-05-10T21:37:12.412549Z"
    }
   },
   "cell_type": "code",
   "source": [
    "print('Анализ средних значений:')\n",
    "print(f'Среднее логарифмированных рейтингов картин, снятых режиссерами, не входящими в топ-15 по количеству снятых фильмов,\\\n",
    " равно {round(h0.log_avg_rating.mean(),2)}')\n",
    "print(f'Среднее логарифмированных рейтингов картин, снятых режиссерами, входящими в топ-15 по количеству снятых фильмов,\\\n",
    " равно {round(h1.log_avg_rating.mean(),2)}')"
   ],
   "id": "5fcc1fce6d75bc8",
   "outputs": [
    {
     "name": "stdout",
     "output_type": "stream",
     "text": [
      "Анализ средних значений:\n",
      "Среднее логарифмированных рейтингов картин, снятых режиссерами, не входящими в топ-15 по количеству снятых фильмов, равно 2.03\n",
      "Среднее логарифмированных рейтингов картин, снятых режиссерами, входящими в топ-15 по количеству снятых фильмов, равно 2.05\n"
     ]
    }
   ],
   "execution_count": 59
  },
  {
   "metadata": {
    "ExecuteTime": {
     "end_time": "2025-05-10T21:37:12.462988Z",
     "start_time": "2025-05-10T21:37:12.459811Z"
    }
   },
   "cell_type": "code",
   "source": [
    "print('Проверка нормальности данных, разделенных на группы без логарифмирования рейтинга')\n",
    "print(ss.shapiro(h0.average_rating))\n",
    "print(ss.shapiro(h1.average_rating))"
   ],
   "id": "9736ecbf8f2489e2",
   "outputs": [
    {
     "name": "stdout",
     "output_type": "stream",
     "text": [
      "Проверка нормальности данных, разделенных на группы без логарифмирования рейтинга\n",
      "ShapiroResult(statistic=np.float64(0.9101833591492166), pvalue=np.float64(9.501904526261465e-27))\n",
      "ShapiroResult(statistic=np.float64(0.9205640568175437), pvalue=np.float64(2.052930939398575e-08))\n"
     ]
    }
   ],
   "execution_count": 60
  },
  {
   "metadata": {
    "ExecuteTime": {
     "end_time": "2025-05-10T21:37:12.510195Z",
     "start_time": "2025-05-10T21:37:12.507759Z"
    }
   },
   "cell_type": "code",
   "source": [
    "print('Проверка нормальности данных, разделенных на группы с логарифмированием рейтинга')\n",
    "print(ss.shapiro(h0.log_avg_rating))\n",
    "print(ss.shapiro(h1.log_avg_rating))"
   ],
   "id": "d8baeb385a14e99a",
   "outputs": [
    {
     "name": "stdout",
     "output_type": "stream",
     "text": [
      "Проверка нормальности данных, разделенных на группы с логарифмированием рейтинга\n",
      "ShapiroResult(statistic=np.float64(0.9200614977952241), pvalue=np.float64(2.0781744836359996e-25))\n",
      "ShapiroResult(statistic=np.float64(0.925918732817487), pvalue=np.float64(5.009251981264995e-08))\n"
     ]
    }
   ],
   "execution_count": 61
  },
  {
   "metadata": {
    "ExecuteTime": {
     "end_time": "2025-05-10T21:37:12.558774Z",
     "start_time": "2025-05-10T21:37:12.554540Z"
    }
   },
   "cell_type": "code",
   "source": [
    "print('Проверка на равенство дисперсий как без логарифмирования рейтинга, так и без это операции')\n",
    "print(ss.levene(h0.average_rating, h1.average_rating))\n",
    "print(ss.levene(h0.log_avg_rating, h1.log_avg_rating))"
   ],
   "id": "d538b637b089a5ad",
   "outputs": [
    {
     "name": "stdout",
     "output_type": "stream",
     "text": [
      "Проверка на равенство дисперсий как без логарифмирования рейтинга, так и без это операции\n",
      "LeveneResult(statistic=np.float64(71.95376384185671), pvalue=np.float64(5.3455941318983576e-17))\n",
      "LeveneResult(statistic=np.float64(68.49294957944267), pvalue=np.float64(2.849589397470023e-16))\n"
     ]
    }
   ],
   "execution_count": 62
  },
  {
   "metadata": {
    "ExecuteTime": {
     "end_time": "2025-05-10T21:37:12.606649Z",
     "start_time": "2025-05-10T21:37:12.602065Z"
    }
   },
   "cell_type": "code",
   "source": [
    "print('Проверка на равенство дисперсий как без логарифмирования рейтинга, так и без это операции')\n",
    "print(ss.mannwhitneyu(h0.average_rating, h1.average_rating))\n",
    "print(ss.mannwhitneyu(h0.log_avg_rating, h1.log_avg_rating))"
   ],
   "id": "bdcff27b3aa0ab88",
   "outputs": [
    {
     "name": "stdout",
     "output_type": "stream",
     "text": [
      "Проверка на равенство дисперсий как без логарифмирования рейтинга, так и без это операции\n",
      "MannwhitneyuResult(statistic=np.float64(89607.5), pvalue=np.float64(4.0168912640021957e-07))\n",
      "MannwhitneyuResult(statistic=np.float64(89607.5), pvalue=np.float64(4.0168912640021957e-07))\n"
     ]
    }
   ],
   "execution_count": 63
  },
  {
   "metadata": {},
   "cell_type": "markdown",
   "source": [
    "__*Вывод: Проведенный анализ подтверждает корректность *H₁* \"Режиссер влияет на рейтинг картин\"*__.\n",
    "Дальнейший анализ влияния сценариста, ключевого актера, жанра, языка и страны производства по отдельности, скорее всего подтвердит наблюдаемую выше тенденцию.\n",
    "Опираясь на это утверждение, целесообразно проверить взаимосвязь режиссера с бюджетом и кассовыми сборами, поскольку бюджеты выделяются под \"идею\" картины, в ходе работы над которой и подбираются \"мастера\", либо идею ждут своего времени (например, \"Аватар\" Джеймса Кэмерона)."
   ],
   "id": "2e84fe8ad2f1ec01"
  },
  {
   "metadata": {},
   "cell_type": "markdown",
   "source": [
    "#### Кейс 2. Проверка взаимосвязи влияния режиссера на бюджет и кассовые сборы.\n",
    "- *H₀*: режиссер **не** влияет на бюджет и кассовые сборы картин\n",
    "- *H₁*: режиссер влияет на бюджет и кассовые сборы картин"
   ],
   "id": "f5d3931f4cdc866f"
  },
  {
   "metadata": {
    "ExecuteTime": {
     "end_time": "2025-05-10T21:37:12.657947Z",
     "start_time": "2025-05-10T21:37:12.650622Z"
    }
   },
   "cell_type": "code",
   "source": [
    "case_2 = df[['director', 'budget', 'worldwide_gross']]\n",
    "case_2.describe()"
   ],
   "id": "570d9fe116cd6d42",
   "outputs": [
    {
     "data": {
      "text/plain": [
       "             budget  worldwide_gross\n",
       "count  1.455000e+03     1.455000e+03\n",
       "mean   3.078353e+07     1.275457e+08\n",
       "std    4.636157e+07     2.474767e+08\n",
       "min    2.500000e+03     1.900000e+01\n",
       "25%    3.600000e+06     5.651243e+06\n",
       "50%    1.400000e+07     3.469875e+07\n",
       "75%    3.500000e+07     1.268048e+08\n",
       "max    3.551000e+08     2.923706e+09"
      ],
      "text/html": [
       "<div>\n",
       "<style scoped>\n",
       "    .dataframe tbody tr th:only-of-type {\n",
       "        vertical-align: middle;\n",
       "    }\n",
       "\n",
       "    .dataframe tbody tr th {\n",
       "        vertical-align: top;\n",
       "    }\n",
       "\n",
       "    .dataframe thead th {\n",
       "        text-align: right;\n",
       "    }\n",
       "</style>\n",
       "<table border=\"1\" class=\"dataframe\">\n",
       "  <thead>\n",
       "    <tr style=\"text-align: right;\">\n",
       "      <th></th>\n",
       "      <th>budget</th>\n",
       "      <th>worldwide_gross</th>\n",
       "    </tr>\n",
       "  </thead>\n",
       "  <tbody>\n",
       "    <tr>\n",
       "      <th>count</th>\n",
       "      <td>1.455000e+03</td>\n",
       "      <td>1.455000e+03</td>\n",
       "    </tr>\n",
       "    <tr>\n",
       "      <th>mean</th>\n",
       "      <td>3.078353e+07</td>\n",
       "      <td>1.275457e+08</td>\n",
       "    </tr>\n",
       "    <tr>\n",
       "      <th>std</th>\n",
       "      <td>4.636157e+07</td>\n",
       "      <td>2.474767e+08</td>\n",
       "    </tr>\n",
       "    <tr>\n",
       "      <th>min</th>\n",
       "      <td>2.500000e+03</td>\n",
       "      <td>1.900000e+01</td>\n",
       "    </tr>\n",
       "    <tr>\n",
       "      <th>25%</th>\n",
       "      <td>3.600000e+06</td>\n",
       "      <td>5.651243e+06</td>\n",
       "    </tr>\n",
       "    <tr>\n",
       "      <th>50%</th>\n",
       "      <td>1.400000e+07</td>\n",
       "      <td>3.469875e+07</td>\n",
       "    </tr>\n",
       "    <tr>\n",
       "      <th>75%</th>\n",
       "      <td>3.500000e+07</td>\n",
       "      <td>1.268048e+08</td>\n",
       "    </tr>\n",
       "    <tr>\n",
       "      <th>max</th>\n",
       "      <td>3.551000e+08</td>\n",
       "      <td>2.923706e+09</td>\n",
       "    </tr>\n",
       "  </tbody>\n",
       "</table>\n",
       "</div>"
      ]
     },
     "execution_count": 64,
     "metadata": {},
     "output_type": "execute_result"
    }
   ],
   "execution_count": 64
  },
  {
   "metadata": {
    "ExecuteTime": {
     "end_time": "2025-05-10T21:37:12.719597Z",
     "start_time": "2025-05-10T21:37:12.716314Z"
    }
   },
   "cell_type": "code",
   "source": [
    "director_budget_cnt = case_2.groupby('director')['budget'].count().sort_values(ascending=False)\n",
    "print(f\"Топ режиссеров по количеству профинансированных картин:\\n\", director_budget_cnt.head(15))"
   ],
   "id": "9c778cdbe00c6d10",
   "outputs": [
    {
     "name": "stderr",
     "output_type": "stream",
     "text": [
      "/tmp/ipykernel_339116/1399945296.py:1: FutureWarning: The default of observed=False is deprecated and will be changed to True in a future version of pandas. Pass observed=False to retain current behavior or observed=True to adopt the future default and silence this warning.\n",
      "  director_budget_cnt = case_2.groupby('director')['budget'].count().sort_values(ascending=False)\n"
     ]
    },
    {
     "name": "stdout",
     "output_type": "stream",
     "text": [
      "Топ режиссеров по количеству профинансированных картин:\n",
      " director\n",
      "Steven Spielberg     22\n",
      "Martin Scorsese      20\n",
      "Alfred Hitchcock     18\n",
      "Woody Allen          16\n",
      "Clint Eastwood       14\n",
      "Christopher Nolan    12\n",
      "Stanley Kubrick      10\n",
      "Ridley Scott         10\n",
      "Robert Zemeckis       9\n",
      "Roman Polanski        9\n",
      "Oliver Stone          9\n",
      "Peter Jackson         9\n",
      "Billy Wilder          9\n",
      "David Lynch           8\n",
      "Quentin Tarantino     8\n",
      "Name: budget, dtype: int64\n"
     ]
    }
   ],
   "execution_count": 65
  },
  {
   "metadata": {
    "ExecuteTime": {
     "end_time": "2025-05-10T21:37:12.855048Z",
     "start_time": "2025-05-10T21:37:12.759108Z"
    }
   },
   "cell_type": "code",
   "source": [
    "sns.histplot(case_2.budget, kde=True)\n",
    "plt.xlabel('Бюджет')\n",
    "plt.ylabel('Плотность')\n",
    "plt.title('Распределение бюджета')\n",
    "plt.show()"
   ],
   "id": "a3722f80a55b9e41",
   "outputs": [
    {
     "data": {
      "text/plain": [
       "<Figure size 640x480 with 1 Axes>"
      ],
      "image/png": "[encoded data removed]"
     },
     "metadata": {},
     "output_type": "display_data"
    }
   ],
   "execution_count": 66
  },
  {
   "metadata": {
    "ExecuteTime": {
     "end_time": "2025-05-10T21:37:12.875942Z",
     "start_time": "2025-05-10T21:37:12.873341Z"
    }
   },
   "cell_type": "code",
   "source": "case_2 = case_2.assign(log_budget = np.log(df.budget))",
   "id": "e1282c30f76b1d65",
   "outputs": [],
   "execution_count": 67
  },
  {
   "metadata": {
    "ExecuteTime": {
     "end_time": "2025-05-10T21:37:13.000874Z",
     "start_time": "2025-05-10T21:37:12.912715Z"
    }
   },
   "cell_type": "code",
   "source": [
    "sns.histplot(case_2.log_budget, kde=True)\n",
    "plt.xlabel('Логарифмированный бюджет')\n",
    "plt.ylabel('Плотность')\n",
    "plt.title('Логарифмическое распределение бюджета')\n",
    "plt.show()"
   ],
   "id": "961efa350dfeffd5",
   "outputs": [
    {
     "data": {
      "text/plain": [
       "<Figure size 640x480 with 1 Axes>"
      ],
      "image/png": "[encoded data removed]"
     },
     "metadata": {},
     "output_type": "display_data"
    }
   ],
   "execution_count": 68
  },
  {
   "metadata": {
    "ExecuteTime": {
     "end_time": "2025-05-10T21:37:13.131996Z",
     "start_time": "2025-05-10T21:37:13.012339Z"
    }
   },
   "cell_type": "code",
   "source": [
    "sns.histplot(case_2.worldwide_gross, kde=True)\n",
    "plt.xlabel('Кассовые сборы')\n",
    "plt.ylabel('Плотность')\n",
    "plt.title('Распределение кассовых сборов')\n",
    "plt.show()"
   ],
   "id": "4f29d88f29ecb348",
   "outputs": [
    {
     "data": {
      "text/plain": [
       "<Figure size 640x480 with 1 Axes>"
      ],
      "image/png": "[encoded data removed]"
     },
     "metadata": {},
     "output_type": "display_data"
    }
   ],
   "execution_count": 69
  },
  {
   "metadata": {
    "ExecuteTime": {
     "end_time": "2025-05-10T21:37:13.146832Z",
     "start_time": "2025-05-10T21:37:13.144094Z"
    }
   },
   "cell_type": "code",
   "source": "case_2 = case_2.assign(log_worldwide_gross = np.log(df.worldwide_gross))",
   "id": "7c8ec9669811293a",
   "outputs": [],
   "execution_count": 70
  },
  {
   "metadata": {
    "ExecuteTime": {
     "end_time": "2025-05-10T21:37:13.274484Z",
     "start_time": "2025-05-10T21:37:13.186886Z"
    }
   },
   "cell_type": "code",
   "source": [
    "sns.histplot(case_2.log_budget, kde=True)\n",
    "plt.xlabel('Логарифмированный бюджет')\n",
    "plt.ylabel('Плотность')\n",
    "plt.title('Логарифмическое распределение бюджета')\n",
    "plt.show()"
   ],
   "id": "2cff0c81ee7843d8",
   "outputs": [
    {
     "data": {
      "text/plain": [
       "<Figure size 640x480 with 1 Axes>"
      ],
      "image/png": "[encoded data removed]"
     },
     "metadata": {},
     "output_type": "display_data"
    }
   ],
   "execution_count": 71
  },
  {
   "metadata": {
    "ExecuteTime": {
     "end_time": "2025-05-10T21:37:13.291203Z",
     "start_time": "2025-05-10T21:37:13.286899Z"
    }
   },
   "cell_type": "code",
   "source": "case_2.head()",
   "id": "988c1eff2cb33461",
   "outputs": [
    {
     "data": {
      "text/plain": [
       "               director     budget  worldwide_gross  log_budget  \\\n",
       "0        Frank Darabont   25000000         29332133   17.034386   \n",
       "1  Francis Ford Coppola    6000000        250342198   15.607270   \n",
       "2     Christopher Nolan  185000000       1009053678   19.035866   \n",
       "3      Steven Spielberg   22000000        322161245   16.906553   \n",
       "4          Sidney Lumet     350000             2945   12.765688   \n",
       "\n",
       "   log_worldwide_gross  \n",
       "0            17.194194  \n",
       "1            19.338339  \n",
       "2            20.732279  \n",
       "3            19.590563  \n",
       "4             7.987864  "
      ],
      "text/html": [
       "<div>\n",
       "<style scoped>\n",
       "    .dataframe tbody tr th:only-of-type {\n",
       "        vertical-align: middle;\n",
       "    }\n",
       "\n",
       "    .dataframe tbody tr th {\n",
       "        vertical-align: top;\n",
       "    }\n",
       "\n",
       "    .dataframe thead th {\n",
       "        text-align: right;\n",
       "    }\n",
       "</style>\n",
       "<table border=\"1\" class=\"dataframe\">\n",
       "  <thead>\n",
       "    <tr style=\"text-align: right;\">\n",
       "      <th></th>\n",
       "      <th>director</th>\n",
       "      <th>budget</th>\n",
       "      <th>worldwide_gross</th>\n",
       "      <th>log_budget</th>\n",
       "      <th>log_worldwide_gross</th>\n",
       "    </tr>\n",
       "  </thead>\n",
       "  <tbody>\n",
       "    <tr>\n",
       "      <th>0</th>\n",
       "      <td>Frank Darabont</td>\n",
       "      <td>25000000</td>\n",
       "      <td>29332133</td>\n",
       "      <td>17.034386</td>\n",
       "      <td>17.194194</td>\n",
       "    </tr>\n",
       "    <tr>\n",
       "      <th>1</th>\n",
       "      <td>Francis Ford Coppola</td>\n",
       "      <td>6000000</td>\n",
       "      <td>250342198</td>\n",
       "      <td>15.607270</td>\n",
       "      <td>19.338339</td>\n",
       "    </tr>\n",
       "    <tr>\n",
       "      <th>2</th>\n",
       "      <td>Christopher Nolan</td>\n",
       "      <td>185000000</td>\n",
       "      <td>1009053678</td>\n",
       "      <td>19.035866</td>\n",
       "      <td>20.732279</td>\n",
       "    </tr>\n",
       "    <tr>\n",
       "      <th>3</th>\n",
       "      <td>Steven Spielberg</td>\n",
       "      <td>22000000</td>\n",
       "      <td>322161245</td>\n",
       "      <td>16.906553</td>\n",
       "      <td>19.590563</td>\n",
       "    </tr>\n",
       "    <tr>\n",
       "      <th>4</th>\n",
       "      <td>Sidney Lumet</td>\n",
       "      <td>350000</td>\n",
       "      <td>2945</td>\n",
       "      <td>12.765688</td>\n",
       "      <td>7.987864</td>\n",
       "    </tr>\n",
       "  </tbody>\n",
       "</table>\n",
       "</div>"
      ]
     },
     "execution_count": 72,
     "metadata": {},
     "output_type": "execute_result"
    }
   ],
   "execution_count": 72
  },
  {
   "metadata": {
    "ExecuteTime": {
     "end_time": "2025-05-10T21:37:13.351436Z",
     "start_time": "2025-05-10T21:37:13.344711Z"
    }
   },
   "cell_type": "code",
   "source": "case_2.describe()",
   "id": "3439f79880db2c16",
   "outputs": [
    {
     "data": {
      "text/plain": [
       "             budget  worldwide_gross   log_budget  log_worldwide_gross\n",
       "count  1.455000e+03     1.455000e+03  1455.000000          1455.000000\n",
       "mean   3.078353e+07     1.275457e+08    16.193393            16.412188\n",
       "std    4.636157e+07     2.474767e+08     1.694239             3.463438\n",
       "min    2.500000e+03     1.900000e+01     7.824046             2.944439\n",
       "25%    3.600000e+06     5.651243e+06    15.096444            15.547373\n",
       "50%    1.400000e+07     3.469875e+07    16.454568            17.362214\n",
       "75%    3.500000e+07     1.268048e+08    17.370859            18.658149\n",
       "max    3.551000e+08     2.923706e+09    19.687910            21.796118"
      ],
      "text/html": [
       "<div>\n",
       "<style scoped>\n",
       "    .dataframe tbody tr th:only-of-type {\n",
       "        vertical-align: middle;\n",
       "    }\n",
       "\n",
       "    .dataframe tbody tr th {\n",
       "        vertical-align: top;\n",
       "    }\n",
       "\n",
       "    .dataframe thead th {\n",
       "        text-align: right;\n",
       "    }\n",
       "</style>\n",
       "<table border=\"1\" class=\"dataframe\">\n",
       "  <thead>\n",
       "    <tr style=\"text-align: right;\">\n",
       "      <th></th>\n",
       "      <th>budget</th>\n",
       "      <th>worldwide_gross</th>\n",
       "      <th>log_budget</th>\n",
       "      <th>log_worldwide_gross</th>\n",
       "    </tr>\n",
       "  </thead>\n",
       "  <tbody>\n",
       "    <tr>\n",
       "      <th>count</th>\n",
       "      <td>1.455000e+03</td>\n",
       "      <td>1.455000e+03</td>\n",
       "      <td>1455.000000</td>\n",
       "      <td>1455.000000</td>\n",
       "    </tr>\n",
       "    <tr>\n",
       "      <th>mean</th>\n",
       "      <td>3.078353e+07</td>\n",
       "      <td>1.275457e+08</td>\n",
       "      <td>16.193393</td>\n",
       "      <td>16.412188</td>\n",
       "    </tr>\n",
       "    <tr>\n",
       "      <th>std</th>\n",
       "      <td>4.636157e+07</td>\n",
       "      <td>2.474767e+08</td>\n",
       "      <td>1.694239</td>\n",
       "      <td>3.463438</td>\n",
       "    </tr>\n",
       "    <tr>\n",
       "      <th>min</th>\n",
       "      <td>2.500000e+03</td>\n",
       "      <td>1.900000e+01</td>\n",
       "      <td>7.824046</td>\n",
       "      <td>2.944439</td>\n",
       "    </tr>\n",
       "    <tr>\n",
       "      <th>25%</th>\n",
       "      <td>3.600000e+06</td>\n",
       "      <td>5.651243e+06</td>\n",
       "      <td>15.096444</td>\n",
       "      <td>15.547373</td>\n",
       "    </tr>\n",
       "    <tr>\n",
       "      <th>50%</th>\n",
       "      <td>1.400000e+07</td>\n",
       "      <td>3.469875e+07</td>\n",
       "      <td>16.454568</td>\n",
       "      <td>17.362214</td>\n",
       "    </tr>\n",
       "    <tr>\n",
       "      <th>75%</th>\n",
       "      <td>3.500000e+07</td>\n",
       "      <td>1.268048e+08</td>\n",
       "      <td>17.370859</td>\n",
       "      <td>18.658149</td>\n",
       "    </tr>\n",
       "    <tr>\n",
       "      <th>max</th>\n",
       "      <td>3.551000e+08</td>\n",
       "      <td>2.923706e+09</td>\n",
       "      <td>19.687910</td>\n",
       "      <td>21.796118</td>\n",
       "    </tr>\n",
       "  </tbody>\n",
       "</table>\n",
       "</div>"
      ]
     },
     "execution_count": 73,
     "metadata": {},
     "output_type": "execute_result"
    }
   ],
   "execution_count": 73
  },
  {
   "metadata": {
    "ExecuteTime": {
     "end_time": "2025-05-10T21:37:13.414090Z",
     "start_time": "2025-05-10T21:37:13.410604Z"
    }
   },
   "cell_type": "code",
   "source": "director_top_15_case_2 = director_budget_cnt.head(15).index.tolist()",
   "id": "79a56c9237ed8027",
   "outputs": [],
   "execution_count": 74
  },
  {
   "metadata": {
    "ExecuteTime": {
     "end_time": "2025-05-10T21:37:13.481171Z",
     "start_time": "2025-05-10T21:37:13.476009Z"
    }
   },
   "cell_type": "code",
   "source": [
    "h0_ = case_2.query('director != @director_top_15')\n",
    "h1_ = case_2.query('director == @director_top_15')"
   ],
   "id": "cecd323ea410ca91",
   "outputs": [],
   "execution_count": 75
  },
  {
   "metadata": {
    "ExecuteTime": {
     "end_time": "2025-05-10T21:37:13.561771Z",
     "start_time": "2025-05-10T21:37:13.558605Z"
    }
   },
   "cell_type": "code",
   "source": [
    "print('Анализ средних значений:')\n",
    "print(f'Среднее бюджетов картин, снятых режиссерами, не входящими в топ-15 по количеству снятых фильмов,\\\n",
    " равно {round(h0_.budget.mean(),2)}')\n",
    "print(f'Среднее бюджетов картин, снятых режиссерами, входящими в топ-15 по количеству снятых фильмов,\\\n",
    " равно {round(h1_.budget.mean(),2)}')\n",
    "print()\n",
    "print(f'Среднее логарифмированных бюджетов картин, снятых режиссерами, не входящими в топ-15 по количеству снятых фильмов,\\\n",
    " равно {round(h0_.log_budget.mean(),2)}')\n",
    "print(f'Среднее логарифмированных бюджетов картин, снятых режиссерами, входящими в топ-15 по количеству снятых фильмов,\\\n",
    " равно {round(h1_.log_budget.mean(),2)}')"
   ],
   "id": "852c6ebdce3c9cd4",
   "outputs": [
    {
     "name": "stdout",
     "output_type": "stream",
     "text": [
      "Анализ средних значений:\n",
      "Среднее бюджетов картин, снятых режиссерами, не входящими в топ-15 по количеству снятых фильмов, равно 29056487.49\n",
      "Среднее бюджетов картин, снятых режиссерами, входящими в топ-15 по количеству снятых фильмов, равно 42787853.81\n",
      "\n",
      "Среднее логарифмированных бюджетов картин, снятых режиссерами, не входящими в топ-15 по количеству снятых фильмов, равно 16.14\n",
      "Среднее логарифмированных бюджетов картин, снятых режиссерами, входящими в топ-15 по количеству снятых фильмов, равно 16.58\n"
     ]
    }
   ],
   "execution_count": 76
  },
  {
   "metadata": {
    "ExecuteTime": {
     "end_time": "2025-05-10T21:37:13.601395Z",
     "start_time": "2025-05-10T21:37:13.597751Z"
    }
   },
   "cell_type": "code",
   "source": [
    "print('Анализ средних значений:')\n",
    "print(f'Среднее кассовых сборов картин, снятых режиссерами, не входящими в топ-15 по количеству снятых фильмов,\\\n",
    " равно {round(h0_.worldwide_gross.mean(),2)}')\n",
    "print(f'Среднее кассовых сборов картин, снятых режиссерами, входящими в топ-15 по количеству снятых фильмов,\\\n",
    " равно {round(h1_.worldwide_gross.mean(),2)}')\n",
    "print()\n",
    "print(f'Среднее логарифмированных кассовых сборов картин, снятых режиссерами, не входящими в топ-15 по количеству снятых фильмов,\\\n",
    " равно {round(h0_.log_worldwide_gross.mean(),2)}')\n",
    "print(f'Среднее логарифмированных кассовых сборов картин, снятых режиссерами, входящими в топ-15 по количеству снятых фильмов,\\\n",
    " равно {round(h1_.log_worldwide_gross.mean(),2)}')"
   ],
   "id": "7d35b19e6edc11fe",
   "outputs": [
    {
     "name": "stdout",
     "output_type": "stream",
     "text": [
      "Анализ средних значений:\n",
      "Среднее кассовых сборов картин, снятых режиссерами, не входящими в топ-15 по количеству снятых фильмов, равно 120416749.18\n",
      "Среднее кассовых сборов картин, снятых режиссерами, входящими в топ-15 по количеству снятых фильмов, равно 177097939.99\n",
      "\n",
      "Среднее логарифмированных кассовых сборов картин, снятых режиссерами, не входящими в топ-15 по количеству снятых фильмов, равно 16.38\n",
      "Среднее логарифмированных кассовых сборов картин, снятых режиссерами, входящими в топ-15 по количеству снятых фильмов, равно 16.66\n"
     ]
    }
   ],
   "execution_count": 77
  },
  {
   "metadata": {
    "ExecuteTime": {
     "end_time": "2025-05-10T21:37:13.641778Z",
     "start_time": "2025-05-10T21:37:13.637621Z"
    }
   },
   "cell_type": "code",
   "source": [
    "print('Проверка нормальности данных, разделенных на группы без логарифмирования бюджета')\n",
    "print(ss.shapiro(h0_.budget))\n",
    "print(ss.shapiro(h1_.budget))\n",
    "print()\n",
    "print('Проверка нормальности данных, разделенных на группы с логарифмированием бюджета')\n",
    "print(ss.shapiro(h0_.log_budget))\n",
    "print(ss.shapiro(h1_.log_budget))"
   ],
   "id": "e8c8a72d3fcfe599",
   "outputs": [
    {
     "name": "stdout",
     "output_type": "stream",
     "text": [
      "Проверка нормальности данных, разделенных на группы без логарифмирования бюджета\n",
      "ShapiroResult(statistic=np.float64(0.6279275880453412), pvalue=np.float64(4.858608914671594e-46))\n",
      "ShapiroResult(statistic=np.float64(0.7597440561488074), pvalue=np.float64(5.234142886176915e-16))\n",
      "\n",
      "Проверка нормальности данных, разделенных на группы с логарифмированием бюджета\n",
      "ShapiroResult(statistic=np.float64(0.9738688055770023), pvalue=np.float64(2.0963869444092914e-14))\n",
      "ShapiroResult(statistic=np.float64(0.9464690897355971), pvalue=np.float64(2.3005319413505437e-06))\n"
     ]
    }
   ],
   "execution_count": 78
  },
  {
   "metadata": {
    "ExecuteTime": {
     "end_time": "2025-05-10T21:37:13.719218Z",
     "start_time": "2025-05-10T21:37:13.716179Z"
    }
   },
   "cell_type": "code",
   "source": [
    "print('Проверка нормальности данных, разделенных на группы без логарифмирования кассовых сборов')\n",
    "print(ss.shapiro(h0_.worldwide_gross))\n",
    "print(ss.shapiro(h1_.worldwide_gross))\n",
    "print()\n",
    "print('Проверка нормальности данных, разделенных на группы с логарифмированием кассовых сборов')\n",
    "print(ss.shapiro(h0_.log_worldwide_gross))\n",
    "print(ss.shapiro(h1_.log_worldwide_gross))"
   ],
   "id": "d751f888ff31407",
   "outputs": [
    {
     "name": "stdout",
     "output_type": "stream",
     "text": [
      "Проверка нормальности данных, разделенных на группы без логарифмирования кассовых сборов\n",
      "ShapiroResult(statistic=np.float64(0.5085468650848834), pvalue=np.float64(1.8663157615077445e-50))\n",
      "ShapiroResult(statistic=np.float64(0.6993942841943231), pvalue=np.float64(7.036576598496582e-18))\n",
      "\n",
      "Проверка нормальности данных, разделенных на группы с логарифмированием кассовых сборов\n",
      "ShapiroResult(statistic=np.float64(0.856177501348553), pvalue=np.float64(1.5530656023846055e-32))\n",
      "ShapiroResult(statistic=np.float64(0.8358267170896808), pvalue=np.float64(4.3685830462219246e-13))\n"
     ]
    }
   ],
   "execution_count": 79
  },
  {
   "metadata": {
    "ExecuteTime": {
     "end_time": "2025-05-10T21:37:13.763177Z",
     "start_time": "2025-05-10T21:37:13.758706Z"
    }
   },
   "cell_type": "code",
   "source": [
    "print('Проверка на равенство дисперсий как без логарифмирования бюджета, так и без это операции')\n",
    "print(ss.levene(h0_.budget, h1_.budget))\n",
    "print()\n",
    "print('Проверка на равенство дисперсий как без логарифмирования кассовых сборов, так и без это операции')\n",
    "print(ss.levene(h0_.worldwide_gross, h1_.worldwide_gross))"
   ],
   "id": "e9ef71a4d70c4098",
   "outputs": [
    {
     "name": "stdout",
     "output_type": "stream",
     "text": [
      "Проверка на равенство дисперсий как без логарифмирования бюджета, так и без это операции\n",
      "LeveneResult(statistic=np.float64(11.91082395974925), pvalue=np.float64(0.0005740826065967562))\n",
      "\n",
      "Проверка на равенство дисперсий как без логарифмирования кассовых сборов, так и без это операции\n",
      "LeveneResult(statistic=np.float64(7.977779192889863), pvalue=np.float64(0.004800184920836188))\n"
     ]
    }
   ],
   "execution_count": 80
  },
  {
   "metadata": {
    "ExecuteTime": {
     "end_time": "2025-05-10T21:37:13.813946Z",
     "start_time": "2025-05-10T21:37:13.808615Z"
    }
   },
   "cell_type": "code",
   "source": [
    "print('Проверка на равенство дисперсий как без логарифмирования рейтинга, так и без это операции')\n",
    "print(ss.mannwhitneyu(h0_.budget, h1_.budget))\n",
    "print()\n",
    "print('Проверка на равенство дисперсий как без логарифмирования рейтинга, так и без это операции')\n",
    "print(ss.mannwhitneyu(h0_.worldwide_gross, h1_.worldwide_gross))"
   ],
   "id": "ad32d78a21473f2a",
   "outputs": [
    {
     "name": "stdout",
     "output_type": "stream",
     "text": [
      "Проверка на равенство дисперсий как без логарифмирования рейтинга, так и без это операции\n",
      "MannwhitneyuResult(statistic=np.float64(97091.5), pvalue=np.float64(0.0002819609049598175))\n",
      "\n",
      "Проверка на равенство дисперсий как без логарифмирования рейтинга, так и без это операции\n",
      "MannwhitneyuResult(statistic=np.float64(102626.0), pvalue=np.float64(0.009613091288168183))\n"
     ]
    }
   ],
   "execution_count": 81
  },
  {
   "metadata": {
    "ExecuteTime": {
     "end_time": "2025-05-10T21:37:13.859Z",
     "start_time": "2025-05-10T21:37:13.856070Z"
    }
   },
   "cell_type": "code",
   "source": "case_2.columns",
   "id": "c3623f854fd03c46",
   "outputs": [
    {
     "data": {
      "text/plain": [
       "Index(['director', 'budget', 'worldwide_gross', 'log_budget',\n",
       "       'log_worldwide_gross'],\n",
       "      dtype='object')"
      ]
     },
     "execution_count": 82,
     "metadata": {},
     "output_type": "execute_result"
    }
   ],
   "execution_count": 82
  },
  {
   "metadata": {
    "ExecuteTime": {
     "end_time": "2025-05-10T21:41:08.878947Z",
     "start_time": "2025-05-10T21:41:08.876715Z"
    }
   },
   "cell_type": "code",
   "source": [
    "correlation = np.corrcoef(case_2.budget, case_2.worldwide_gross)[0, 1]\n",
    "print(\"Корреляция Пирсона:\", correlation)"
   ],
   "id": "c2d8ef13b030f720",
   "outputs": [
    {
     "name": "stdout",
     "output_type": "stream",
     "text": [
      "Корреляция Пирсона: 0.7936112391726786\n"
     ]
    }
   ],
   "execution_count": 88
  },
  {
   "metadata": {
    "ExecuteTime": {
     "end_time": "2025-05-10T21:44:30.176543Z",
     "start_time": "2025-05-10T21:44:30.130231Z"
    }
   },
   "cell_type": "code",
   "source": [
    "plt.scatter(case_2.budget, case_2.worldwide_gross)\n",
    "plt.xlabel(\"Бюджет\")\n",
    "plt.ylabel(\"Кассовые сборы\")\n",
    "plt.show()"
   ],
   "id": "de67aac44148a2cd",
   "outputs": [
    {
     "data": {
      "text/plain": [
       "<Figure size 640x480 with 1 Axes>"
      ],
      "image/png": "[encoded data removed]"
     },
     "metadata": {},
     "output_type": "display_data"
    }
   ],
   "execution_count": 90
  },
  {
   "metadata": {
    "ExecuteTime": {
     "end_time": "2025-05-10T21:45:06.272691Z",
     "start_time": "2025-05-10T21:45:06.231037Z"
    }
   },
   "cell_type": "code",
   "source": [
    "plt.scatter(case_1.average_rating, case_2.worldwide_gross)\n",
    "plt.xlabel(\"Рейтинг\")\n",
    "plt.ylabel(\"Кассовые сборы\")\n",
    "plt.show()"
   ],
   "id": "2694cf9e71bb3761",
   "outputs": [
    {
     "data": {
      "text/plain": [
       "<Figure size 640x480 with 1 Axes>"
      ],
      "image/png": "[encoded data removed]"
     },
     "metadata": {},
     "output_type": "display_data"
    }
   ],
   "execution_count": 91
  },
  {
   "metadata": {
    "ExecuteTime": {
     "end_time": "2025-05-10T21:46:31.297928Z",
     "start_time": "2025-05-10T21:46:31.254472Z"
    }
   },
   "cell_type": "code",
   "source": [
    "plt.scatter(case_1.average_rating, case_2.budget)\n",
    "plt.xlabel(\"Рейтинг\")\n",
    "plt.ylabel(\"Бюджет\")\n",
    "plt.show()"
   ],
   "id": "7f3717f8d55d16d",
   "outputs": [
    {
     "data": {
      "text/plain": [
       "<Figure size 640x480 with 1 Axes>"
      ],
      "image/png": "[encoded data removed]"
     },
     "metadata": {},
     "output_type": "display_data"
    }
   ],
   "execution_count": 92
  },
  {
   "metadata": {},
   "cell_type": "markdown",
   "source": "__*Вывод: Проведенный анализ подтверждает корректность *H₁* \"Режиссер влияет на бюджет и кассовые сборы картин\"*__.\n",
   "id": "9e36bfaf817bbbc8"
  },
  {
   "metadata": {},
   "cell_type": "markdown",
   "source": "## В качестве продолжения работы, необходимо спрогнозировать рейтинги и кассовые сборы с помощью моделей линейной регрессии.",
   "id": "7a908fbec79bf328"
  }
 ],
 "metadata": {
  "kernelspec": {
   "display_name": "Python 3",
   "language": "python",
   "name": "python3"
  },
  "language_info": {
   "codemirror_mode": {
    "name": "ipython",
    "version": 2
   },
   "file_extension": ".py",
   "mimetype": "text/x-python",
   "name": "python",
   "nbconvert_exporter": "python",
   "pygments_lexer": "ipython2",
   "version": "2.7.6"
  }
 },
 "nbformat": 4,
 "nbformat_minor": 5
}
