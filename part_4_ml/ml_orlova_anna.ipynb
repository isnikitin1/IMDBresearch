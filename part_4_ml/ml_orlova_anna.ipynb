{
  "nbformat": 4,
  "nbformat_minor": 0,
  "metadata": {
    "colab": {
      "provenance": []
    },
    "kernelspec": {
      "name": "python3",
      "display_name": "Python 3"
    },
    "language_info": {
      "name": "python"
    }
  },
  "cells": [
    {
      "cell_type": "code",
      "execution_count": null,
      "metadata": {
        "id": "h0l9Ry6-4d39"
      },
      "outputs": [],
      "source": [
        "# Импорт библиотек\n",
        "import pandas as pd\n",
        "from sklearn.model_selection import train_test_split\n",
        "from sklearn.linear_model import LinearRegression\n",
        "from sklearn.metrics import mean_squared_error, r2_score\n",
        "from sklearn.preprocessing import OneHotEncoder\n",
        "from sklearn.compose import ColumnTransformer\n",
        "from sklearn.pipeline import Pipeline"
      ]
    },
    {
      "cell_type": "code",
      "source": [
        "# Загрузка датафрейма\n",
        "df = pd.read_csv('data_after_eda (2).csv')"
      ],
      "metadata": {
        "id": "vxZ_EUNT6zto"
      },
      "execution_count": null,
      "outputs": []
    },
    {
      "cell_type": "code",
      "source": [
        "# Задание целевой переменной worldwide_gross (кассовые сборы)\n",
        "y = df[\"worldwide_gross\"]\n",
        "X = df.drop(columns=[\n",
        "    \"worldwide_gross\", \"Unnamed: 0\", \"title\", \"writer\", \"cast\"\n",
        "])\n",
        "\n",
        "# Определение цифровых и категориальных переменных\n",
        "numeric_features = [\"average_rating\", \"metascore\", \"runtime\", \"budget\",\n",
        "                    \"release_year\", \"profit_or_loss\", \"p&l_rate\",\n",
        "                    \"lang_cnt\", \"country_cnt\", \"coproduction\"]\n",
        "categorical_features = [\"director\", \"country_of_origin\", \"languages\", \"genre\"]\n",
        "\n",
        "# Обработка категориальных переменных\n",
        "preprocessor = ColumnTransformer(\n",
        "    transformers=[\n",
        "        (\"num\", \"passthrough\", numeric_features),\n",
        "        (\"cat\", OneHotEncoder(handle_unknown=\"ignore\"), categorical_features),\n",
        "    ]\n",
        ")\n",
        "\n",
        "# Построение модели линейной регрессии\n",
        "model = Pipeline([\n",
        "    (\"preprocessor\", preprocessor),\n",
        "    (\"regressor\", LinearRegression())\n",
        "])\n",
        "\n",
        "# Разделение на тестовую 80% и тренировочную 20% выборку (с рандомным коэффициентом 42)\n",
        "X_train, X_test, y_train, y_test = train_test_split(X, y, test_size=0.2, random_state=42)\n",
        "\n",
        "# Обучение модели\n",
        "model.fit(X_train, y_train)\n",
        "\n",
        "# Прогноз и оценка модели\n",
        "y_pred = model.predict(X_test)\n",
        "mse = mean_squared_error(y_test, y_pred)\n",
        "r2 = r2_score(y_test, y_pred)\n",
        "\n",
        "print(f\"MSE: {mse:.2f}\")\n",
        "print(f\"R^2 Score: {r2:.2f}\")"
      ],
      "metadata": {
        "id": "q0uZXuihqpp8",
        "colab": {
          "base_uri": "https://localhost:8080/"
        },
        "outputId": "8fcc4a59-eb70-4222-d3a3-31c4e11abe50"
      },
      "execution_count": null,
      "outputs": [
        {
          "output_type": "stream",
          "name": "stdout",
          "text": [
            "MSE: 0.00\n",
            "R^2 Score: 1.00\n"
          ]
        }
      ]
    },
    {
      "cell_type": "markdown",
      "source": [
        "Перефит: модель слишком хорошо подогналась под тренировочные данные, причиной могло послужить \"утечка данных\" (например, фичи напрямую коррелируют с worldwide_gross - profit_or_loss).\n"
      ],
      "metadata": {
        "id": "6ren7RXYrs9k"
      }
    },
    {
      "cell_type": "code",
      "source": [
        "# Загрузка датафрейма\n",
        "df_1 = pd.read_csv('data_after_eda (2).csv')"
      ],
      "metadata": {
        "id": "oCBlE4GzQzno"
      },
      "execution_count": null,
      "outputs": []
    },
    {
      "cell_type": "code",
      "source": [
        "# Задание целевой переменной worldwide_gross (кассовые сборы),\n",
        "# Устранение целевых признаков утечки (p&l_rate)\n",
        "df_1 = df_1.drop(columns=[\"profit_or_loss\", \"p&l_rate\"])\n",
        "\n",
        "# Задание целевой функции и переменной\n",
        "y = df_1[\"worldwide_gross\"]\n",
        "X = df_1.drop(columns=[\"worldwide_gross\", \"Unnamed: 0\", \"title\", \"writer\", \"cast\"])\n",
        "\n",
        "#  Определение цифровых и категориальных переменных\n",
        "numeric_features = [\"average_rating\", \"metascore\", \"runtime\", \"budget\",\n",
        "                    \"release_year\", \"lang_cnt\", \"country_cnt\", \"coproduction\"]\n",
        "categorical_features = [\"director\", \"country_of_origin\", \"languages\", \"genre\"]\n",
        "\n",
        "# Разделение категориальных признаков\n",
        "preprocessor = ColumnTransformer(\n",
        "    transformers=[\n",
        "        (\"num\", \"passthrough\", numeric_features),\n",
        "        (\"cat\", OneHotEncoder(handle_unknown=\"ignore\"), categorical_features),\n",
        "    ]\n",
        ")\n",
        "\n",
        "# Построение модели ридж-регрессии\n",
        "model_2 = Pipeline([\n",
        "    (\"preprocessor\", preprocessor),\n",
        "    (\"regressor\", LinearRegression())\n",
        "])\n",
        "\n",
        "# Разделение на тестовую 80% и тренировочную 20% выборку (с рандомным коэффициентом 42)\n",
        "X_train, X_test, y_train, y_test = train_test_split(X, y, test_size=0.2, random_state=42)\n",
        "\n",
        "# Обучение модели\n",
        "model_2.fit(X_train, y_train)\n",
        "\n",
        "# Прогноз и оценка модели\n",
        "y_pred = model_2.predict(X_test)\n",
        "mse = mean_squared_error(y_test, y_pred)\n",
        "r2 = r2_score(y_test, y_pred)\n",
        "\n",
        "print(f\"MSE: {mse:.2f}\")\n",
        "print(f\"R^2 Score: {r2:.2f}\")"
      ],
      "metadata": {
        "colab": {
          "base_uri": "https://localhost:8080/"
        },
        "id": "FCA5kmjdQ5NF",
        "outputId": "1dc09eb5-189f-4d29-b57e-f9d7419f0772"
      },
      "execution_count": null,
      "outputs": [
        {
          "output_type": "stream",
          "name": "stdout",
          "text": [
            "MSE: 18899663850822424.00\n",
            "R^2 Score: 0.61\n"
          ]
        }
      ]
    },
    {
      "cell_type": "markdown",
      "source": [
        "Итак, коэффициент детерминации R^2 модели линейной регрессии равен 0,61, но величина MSE - огромна."
      ],
      "metadata": {
        "id": "c875G8pHRmA-"
      }
    },
    {
      "cell_type": "markdown",
      "source": [
        "Попробуйем протестировать другую модель, например, ридж-регрессии."
      ],
      "metadata": {
        "id": "wsUcnbqVR9tx"
      }
    },
    {
      "cell_type": "code",
      "source": [
        "# Загрузка датафрейма\n",
        "df_2 = pd.read_csv('data_after_eda (2).csv')"
      ],
      "metadata": {
        "id": "RC1v3GqKsbV1"
      },
      "execution_count": null,
      "outputs": []
    },
    {
      "cell_type": "code",
      "source": [
        "# Задание целевой переменной worldwide_gross (кассовые сборы),\n",
        "# Устранение целевых признаков утечки (p&l_rate)\n",
        "df_2 = df_2.drop(columns=[\"profit_or_loss\", \"p&l_rate\"])\n",
        "\n",
        "# Задание целевой функции и переменной\n",
        "y = df_2[\"worldwide_gross\"]\n",
        "X = df_2.drop(columns=[\"worldwide_gross\", \"Unnamed: 0\", \"title\", \"writer\", \"cast\"])\n",
        "\n",
        "#  Определение цифровых и категориальных переменных\n",
        "numeric_features = [\"average_rating\", \"metascore\", \"runtime\", \"budget\",\n",
        "                    \"release_year\", \"lang_cnt\", \"country_cnt\", \"coproduction\"]\n",
        "categorical_features = [\"director\", \"country_of_origin\", \"languages\", \"genre\"]\n",
        "\n",
        "# Разделение категориальных признаков\n",
        "preprocessor = ColumnTransformer(\n",
        "    transformers=[\n",
        "        (\"num\", \"passthrough\", numeric_features),\n",
        "        (\"cat\", OneHotEncoder(handle_unknown=\"ignore\"), categorical_features),\n",
        "    ]\n",
        ")\n",
        "\n",
        "# Построение модели ридж-регрессии\n",
        "ridge_model = Pipeline([\n",
        "    (\"preprocessor\", preprocessor),\n",
        "    (\"regressor\", Ridge(alpha=1.0))\n",
        "])\n",
        "\n",
        "# Разделение на тестовую 80% и тренировочную 20% выборку (с рандомным коэффициентом 42)\n",
        "X_train, X_test, y_train, y_test = train_test_split(X, y, test_size=0.2, random_state=42)\n",
        "\n",
        "# Обучение модели\n",
        "ridge_model.fit(X_train, y_train)\n",
        "\n",
        "# Прогноз и оценка модели\n",
        "y_pred = ridge_model.predict(X_test)\n",
        "mse = mean_squared_error(y_test, y_pred)\n",
        "r2 = r2_score(y_test, y_pred)\n",
        "\n",
        "print(\"Ridge Regression Results:\")\n",
        "print(f\"MSE: {mse:.2f}\")\n",
        "print(f\"R^2 Score: {r2:.2f}\")"
      ],
      "metadata": {
        "colab": {
          "base_uri": "https://localhost:8080/"
        },
        "id": "baFAtm9mnTF1",
        "outputId": "483c4795-fd44-4e7d-d1ee-e8e37c7def3f"
      },
      "execution_count": null,
      "outputs": [
        {
          "output_type": "stream",
          "name": "stdout",
          "text": [
            "Ridge Regression Results:\n",
            "MSE: 324124552742943522816.00\n",
            "R^2 Score: -6742.36\n"
          ]
        }
      ]
    },
    {
      "cell_type": "markdown",
      "source": [
        "Модель Ridge Regression отработала плохо. Далее нет смысла ее улучшать."
      ],
      "metadata": {
        "id": "1MQbDa2utav1"
      }
    },
    {
      "cell_type": "markdown",
      "source": [
        "Попробуем протестировать модель Lasso-регрессии. Данная модель проводит отбор признаков."
      ],
      "metadata": {
        "id": "WPpRDepZSNJT"
      }
    },
    {
      "cell_type": "code",
      "source": [
        "from sklearn.linear_model import LassoCV\n",
        "\n",
        "# Построение модели\n",
        "lasso_model = Pipeline([\n",
        "    (\"preprocessor\", preprocessor),\n",
        "    (\"regressor\", LassoCV(cv=5))\n",
        "])\n",
        "\n",
        "# Обучение модели\n",
        "lasso_model.fit(X_train, y_train)\n",
        "\n",
        "# Прогноз и оценка модели\n",
        "y_pred_lasso = lasso_model.predict(X_test)\n",
        "mse_lasso = mean_squared_error(y_test, y_pred_lasso)\n",
        "r2_lasso = r2_score(y_test, y_pred_lasso)\n",
        "\n",
        "print(\"\\nLasso Regression Results:\")\n",
        "print(f\"MSE: {mse_lasso:.2f}\")\n",
        "print(f\"R^2 Score: {r2_lasso:.2f}\")\n"
      ],
      "metadata": {
        "colab": {
          "base_uri": "https://localhost:8080/"
        },
        "id": "lnf1BhrWnUsD",
        "outputId": "e6e247b2-335e-485c-ebdb-ecaa01d694f8"
      },
      "execution_count": null,
      "outputs": [
        {
          "output_type": "stream",
          "name": "stdout",
          "text": [
            "\n",
            "Lasso Regression Results:\n",
            "MSE: 18853453312172448.00\n",
            "R^2 Score: 0.61\n"
          ]
        }
      ]
    },
    {
      "cell_type": "markdown",
      "source": [
        "Модель Lasso Regression успешно провела регуляризацию и отброс лишние фичи, справившись с переобучением. При этом коэффициент детерминации R^2 модели  Lasso Regression равен 0,61 (как и у линейной регрессии). И при этом значение MSE также сликом большое."
      ],
      "metadata": {
        "id": "vosS4G0OuDT4"
      }
    },
    {
      "cell_type": "markdown",
      "source": [
        "Возможно, призанки надо было отмасштабировать. Сделаем это в следующем шаге для модели Lasso Regression."
      ],
      "metadata": {
        "id": "TDttixqEuMGN"
      }
    },
    {
      "cell_type": "code",
      "source": [
        "# Построение модели с масштабированием\n",
        "lasso_model = Pipeline([\n",
        "    (\"preprocessor\", preprocessor),\n",
        "    (\"regressor\", LassoCV(cv=5, max_iter=10000))\n",
        "])\n",
        "\n",
        "# Обучение модели\n",
        "lasso_model.fit(X_train, y_train)\n",
        "\n",
        "# Прогноз и оценка модели\n",
        "y_pred_lasso = lasso_model.predict(X_test)\n",
        "mse_lasso = mean_squared_error(y_test, y_pred_lasso)\n",
        "r2_lasso = r2_score(y_test, y_pred_lasso)\n",
        "\n",
        "print(\"\\nLasso Regression Results:\")\n",
        "print(f\"MSE: {mse_lasso:.2f}\")\n",
        "print(f\"R^2 Score: {r2_lasso:.2f}\")"
      ],
      "metadata": {
        "colab": {
          "base_uri": "https://localhost:8080/"
        },
        "id": "jPENMzmkoItk",
        "outputId": "32d8cc5c-5520-45af-9f7a-114dd3ae791e"
      },
      "execution_count": null,
      "outputs": [
        {
          "output_type": "stream",
          "name": "stdout",
          "text": [
            "\n",
            "Lasso Regression Results:\n",
            "MSE: 18853453312172448.00\n",
            "R^2 Score: 0.61\n"
          ]
        }
      ]
    },
    {
      "cell_type": "markdown",
      "source": [
        "Масштабирование не повлияло на R^2, так как она уже сходилась корректно. Дело в том, что Lasso автоматически отбирает признаки, зануляя коэффициенты некоторых из них."
      ],
      "metadata": {
        "id": "kzhQHfaXvRdH"
      }
    },
    {
      "cell_type": "markdown",
      "source": [
        "Попробуем протестировать модель Kernel Ridge Regression. Она исполтзуется для моделирования нелинейных зависимостей между признаками и целевой переменной."
      ],
      "metadata": {
        "id": "PSp-Ke34Tt2r"
      }
    },
    {
      "cell_type": "code",
      "source": [
        "# Импорт библиотеки\n",
        "from sklearn.kernel_ridge import KernelRidge\n",
        "\n",
        "# Загрузка датасета, подготовка данных\n",
        "df_3 = pd.read_csv('data_after_eda (2).csv')\n",
        "df_3 = df_3.drop(columns=[\"profit_or_loss\", \"p&l_rate\"])\n",
        "y = df_3[\"worldwide_gross\"]\n",
        "X = df_3.drop(columns=[\"worldwide_gross\", \"Unnamed: 0\", \"title\", \"writer\", \"cast\"])\n",
        "\n",
        "# Разделение числовых и категориальных признаков\n",
        "numeric_features = [\"average_rating\", \"metascore\", \"runtime\", \"budget\",\n",
        "                    \"release_year\", \"lang_cnt\", \"country_cnt\", \"coproduction\"]\n",
        "categorical_features = [\"director\", \"country_of_origin\", \"languages\", \"genre\"]\n",
        "\n",
        "# Построение модели\n",
        "preprocessor = ColumnTransformer(\n",
        "    transformers=[\n",
        "        (\"num\", StandardScaler(), numeric_features),\n",
        "        (\"cat\", OneHotEncoder(handle_unknown=\"ignore\"), categorical_features),\n",
        "    ]\n",
        ")\n",
        "\n",
        "# Разделение на тестовую 80% и тренировочную 20% выборку (с рандомным коэффициентом 42)\n",
        "X_train, X_test, y_train, y_test = train_test_split(X, y, test_size=0.2, random_state=42)\n",
        "\n",
        "\n",
        "# Обучение модели\n",
        "kernel_model = Pipeline([\n",
        "    (\"preprocessor\", preprocessor),\n",
        "    (\"regressor\", KernelRidge(kernel='rbf', alpha=1.0))\n",
        "])\n",
        "\n",
        "# Прогноз и оценка модели\n",
        "kernel_model.fit(X_train, y_train)\n",
        "y_pred_kernel = kernel_model.predict(X_test)\n",
        "print(\"\\nKernel Ridge Regression Results:\")\n",
        "print(\"MSE:\", mean_squared_error(y_test, y_pred_kernel))\n",
        "print(\"R^2:\", r2_score(y_test, y_pred_kernel))\n"
      ],
      "metadata": {
        "colab": {
          "base_uri": "https://localhost:8080/"
        },
        "id": "jTIU3jLJx63f",
        "outputId": "11a6da90-176e-4400-ada0-2a3f121e4cf1"
      },
      "execution_count": null,
      "outputs": [
        {
          "output_type": "stream",
          "name": "stdout",
          "text": [
            "\n",
            "Kernel Ridge Regression Results:\n",
            "MSE: 2.0829011516680348e+16\n",
            "R^2: 0.5666558771841989\n"
          ]
        }
      ]
    },
    {
      "cell_type": "markdown",
      "source": [
        "KernelRidge работает немного хуже, чем Lasso и линейная регрессия (0,56 против 0,61), но лучше, чем Ridge. Но MSE - гигантское."
      ],
      "metadata": {
        "id": "1vqI_v2fyp9L"
      }
    },
    {
      "cell_type": "markdown",
      "source": [
        "Попробуем улучшить модель KernelRidge, произведя автоматический подбор наилучших гиперпараметров модели с помощью перебора по сетке и кросс-валидации.\n",
        "То есть перебираются значения alpha (регуляризация) и gamma (ширина ядра RBF). В данном случае:\n",
        "cv=5: 5-кратная кросс-валидация;\n",
        "scoring='r2': метрика для оценки модели;\n",
        "n_jobs=-1: использовать все ядра CPU."
      ],
      "metadata": {
        "id": "guAyCbG1VN5L"
      }
    },
    {
      "cell_type": "code",
      "source": [
        "# Загрузка датасета, подготовка данных\n",
        "df_4 = pd.read_csv('data_after_eda (2).csv')\n",
        "df_4 = df_4.drop(columns=[\"profit_or_loss\", \"p&l_rate\"])\n",
        "y = df_4[\"worldwide_gross\"]\n",
        "X = df_4.drop(columns=[\"worldwide_gross\", \"Unnamed: 0\", \"title\", \"writer\", \"cast\"])\n",
        "\n",
        "# Разделение числовых и категориальных признаков\n",
        "numeric_features = [\"average_rating\", \"metascore\", \"runtime\", \"budget\",\n",
        "                    \"release_year\", \"lang_cnt\", \"country_cnt\", \"coproduction\"]\n",
        "categorical_features = [\"director\", \"country_of_origin\", \"languages\", \"genre\"]\n",
        "\n",
        "# Построение модели\n",
        "preprocessor = ColumnTransformer(\n",
        "    transformers=[\n",
        "        (\"num\", StandardScaler(), numeric_features),\n",
        "        (\"cat\", OneHotEncoder(handle_unknown=\"ignore\"), categorical_features),\n",
        "    ]\n",
        ")\n",
        "\n",
        "# Разделение на тестовую 80% и тренировочную 20% выборку (с рандомным коэффициентом 42)\n",
        "X_train, X_test, y_train, y_test = train_test_split(X, y, test_size=0.2, random_state=42)\n",
        "\n",
        "# Обучение модели (с автоподбором параметров)\n",
        "krr_pipeline = Pipeline([\n",
        "    (\"preprocessor\", preprocessor),\n",
        "    (\"regressor\", KernelRidge(kernel='rbf'))\n",
        "])\n",
        "\n",
        "# Начальные настройки для автоподбора гиперпараметров\n",
        "grid_params = {\n",
        "    \"regressor__alpha\": [0.1, 1.0, 10.0, 100.0],\n",
        "    \"regressor__gamma\": [1e-3, 1e-2, 1e-1, 1.0]\n",
        "}\n",
        "\n",
        "# Автоподбор гиперпараметров\n",
        "search = GridSearchCV(krr_pipeline, grid_params, cv=5, scoring='r2', verbose=1, n_jobs=-1)\n",
        "search.fit(X_train, y_train)\n",
        "\n",
        "# Прогноз и оценка модели\n",
        "y_pred = search.predict(X_test)\n",
        "print(\"Best Kernel Ridge Parameters:\", search.best_params_)\n",
        "print(\"MSE:\", mean_squared_error(y_test, y_pred))\n",
        "print(\"R^2:\", r2_score(y_test, y_pred))"
      ],
      "metadata": {
        "colab": {
          "base_uri": "https://localhost:8080/"
        },
        "id": "Yfl54S7pzHAa",
        "outputId": "93b3603a-289b-4d77-cf4c-91eb86cee2e9"
      },
      "execution_count": null,
      "outputs": [
        {
          "output_type": "stream",
          "name": "stdout",
          "text": [
            "Fitting 5 folds for each of 16 candidates, totalling 80 fits\n",
            "Best Kernel Ridge Parameters: {'regressor__alpha': 0.1, 'regressor__gamma': 0.01}\n",
            "MSE: 1.755824283589858e+16\n",
            "R^2: 0.6347036759850065\n"
          ]
        }
      ]
    },
    {
      "cell_type": "markdown",
      "source": [
        "KernelRidge с автоматическим подбором наилучших гиперпараметров показала R^2 равный 0,63, теперь она немного лучше, чем Lasso-регрессия и классическая регрессия."
      ],
      "metadata": {
        "id": "Hd8vXI9bYG3q"
      }
    },
    {
      "cell_type": "markdown",
      "source": [
        "Попробуем протестировать модель CatBoostRegressor (которая работает с сырыми данными)."
      ],
      "metadata": {
        "id": "Ri2vZx6UAjRO"
      }
    },
    {
      "cell_type": "code",
      "source": [
        "# Загрузка датасета, подготовка данных\n",
        "df_5 = pd.read_csv(\"data_after_eda (2).csv\")\n",
        "df_5 = df_5.drop(columns=[\"profit_or_loss\", \"p&l_rate\"])\n",
        "y = df_5[\"worldwide_gross\"]\n",
        "X = df_5.drop(columns=[\"worldwide_gross\", \"Unnamed: 0\", \"title\", \"writer\", \"cast\"])\n",
        "\n",
        "# Разделение числовых и категориальных признаков\n",
        "numeric_features = [\"average_rating\", \"metascore\", \"runtime\", \"budget\",\n",
        "                    \"release_year\", \"lang_cnt\", \"country_cnt\", \"coproduction\"]\n",
        "categorical_features = [\"director\", \"country_of_origin\", \"languages\", \"genre\"]\n",
        "\n",
        "# Построение модели\n",
        "preprocessor = ColumnTransformer(\n",
        "    transformers=[\n",
        "        (\"num\", StandardScaler(), numeric_features),\n",
        "        (\"cat\", OneHotEncoder(handle_unknown=\"ignore\"), categorical_features),\n",
        "    ]\n",
        ")\n",
        "\n",
        "# Разделение на тестовую 80% и тренировочную 20% выборку (с рандомным коэффициентом 42)\n",
        "X_train, X_test, y_train, y_test = train_test_split(X, y, test_size=0.2, random_state=42)\n",
        "\n",
        "# Фиксация параметров для последующих преобразований\n",
        "preprocessor.fit(X_train)\n",
        "\n",
        "# Построение модели\n",
        "catboost_model = CatBoostRegressor(verbose=0, random_state=42)\n",
        "\n",
        "# Обучение модели\n",
        "X_train_processed = preprocessor.transform(X_train)\n",
        "X_test_processed = preprocessor.transform(X_test)\n",
        "\n",
        "# Прогноз и оценка модели\n",
        "catboost_model.fit(X_train_processed, y_train)\n",
        "y_pred_cb = catboost_model.predict(X_test_processed)\n",
        "print(\"\\nCatBoost Regressor:\")\n",
        "print(\"MSE:\", mean_squared_error(y_test, y_pred_cb))\n",
        "print(\"R^2:\", r2_score(y_test, y_pred_cb))"
      ],
      "metadata": {
        "colab": {
          "base_uri": "https://localhost:8080/"
        },
        "id": "k9Tko37y_rS7",
        "outputId": "a035c10e-90e7-4103-dbfe-4ba2cb9e62a0"
      },
      "execution_count": null,
      "outputs": [
        {
          "output_type": "stream",
          "name": "stdout",
          "text": [
            "\n",
            "CatBoost Regressor:\n",
            "MSE: 1.4545365258669544e+16\n",
            "R^2: 0.697386093237988\n"
          ]
        }
      ]
    },
    {
      "cell_type": "markdown",
      "source": [
        "CatBoostRegressor показывает лучший результат R^2: 0,70. Значит, модель все-таки нелинейна (это логично, с учетом достаточного большого количества категориальных признаков)."
      ],
      "metadata": {
        "id": "0B3jWTESbPDy"
      }
    },
    {
      "cell_type": "markdown",
      "source": [
        "А что будет, если все-таки удалить все категориальные признаки?"
      ],
      "metadata": {
        "id": "BhvJj0Qnb_Bz"
      }
    },
    {
      "cell_type": "code",
      "source": [
        "# Загрузка датасета, подготовка данных\n",
        "df_6 = pd.read_csv(\"data_after_eda (2).csv\")\n",
        "df_6 = df_6.drop(columns=[\"profit_or_loss\", \"p&l_rate\"])\n",
        "y = df_6[\"worldwide_gross\"]\n",
        "X = df_6.drop(columns=[\"worldwide_gross\", \"Unnamed: 0\", \"title\", \"writer\", \"cast\", \"director\", \"country_of_origin\", \"languages\", \"genre\"])"
      ],
      "metadata": {
        "id": "P4PThVOgcFnc"
      },
      "execution_count": null,
      "outputs": []
    },
    {
      "cell_type": "markdown",
      "source": [
        "Классическая модель регрессии"
      ],
      "metadata": {
        "id": "3XeX2yHKcbav"
      }
    },
    {
      "cell_type": "code",
      "source": [
        "#  Определение цифровых и категориальных переменных\n",
        "numeric_features = [\"average_rating\", \"metascore\", \"runtime\", \"budget\",\n",
        "                    \"release_year\", \"lang_cnt\", \"country_cnt\", \"coproduction\"]\n",
        "\n",
        "# Разделение категориальных признаков\n",
        "preprocessor = ColumnTransformer(\n",
        "    transformers=[\n",
        "        (\"num\", \"passthrough\", numeric_features),\n",
        "    ]\n",
        ")\n",
        "\n",
        "# Построение модели ридж-регрессии\n",
        "model_2 = Pipeline([\n",
        "    (\"preprocessor\", preprocessor),\n",
        "    (\"regressor\", LinearRegression())\n",
        "])\n",
        "\n",
        "# Разделение на тестовую 80% и тренировочную 20% выборку (с рандомным коэффициентом 42)\n",
        "X_train, X_test, y_train, y_test = train_test_split(X, y, test_size=0.2, random_state=42)\n",
        "\n",
        "# Обучение модели\n",
        "model_2.fit(X_train, y_train)\n",
        "\n",
        "# Прогноз и оценка модели\n",
        "y_pred = model_2.predict(X_test)\n",
        "mse = mean_squared_error(y_test, y_pred)\n",
        "r2 = r2_score(y_test, y_pred)\n",
        "\n",
        "print(f\"MSE: {mse:.2f}\")\n",
        "print(f\"R^2 Score: {r2:.2f}\")"
      ],
      "metadata": {
        "colab": {
          "base_uri": "https://localhost:8080/"
        },
        "id": "ttoFRlTzcqYi",
        "outputId": "d1772e10-77eb-4244-b16c-097ce836947e"
      },
      "execution_count": null,
      "outputs": [
        {
          "output_type": "stream",
          "name": "stdout",
          "text": [
            "MSE: 17862038853059194.00\n",
            "R^2 Score: 0.63\n"
          ]
        }
      ]
    },
    {
      "cell_type": "markdown",
      "source": [
        "Ридж-регрессия"
      ],
      "metadata": {
        "id": "ho1kyxHLeDP9"
      }
    },
    {
      "cell_type": "code",
      "source": [
        "#  Определение цифровых и категориальных переменных\n",
        "numeric_features = [\"average_rating\", \"metascore\", \"runtime\", \"budget\",\n",
        "                    \"release_year\", \"lang_cnt\", \"country_cnt\", \"coproduction\"]\n",
        "\n",
        "# Разделение категориальных признаков\n",
        "preprocessor = ColumnTransformer(\n",
        "    transformers=[\n",
        "        (\"num\", \"passthrough\", numeric_features),\n",
        "])\n",
        "\n",
        "# Построение модели ридж-регрессии\n",
        "from sklearn.linear_model import Ridge\n",
        "ridge_model = Pipeline([\n",
        "    (\"preprocessor\", preprocessor),\n",
        "    (\"regressor\", Ridge(alpha=1.0))\n",
        "])\n",
        "\n",
        "# Разделение на тестовую 80% и тренировочную 20% выборку (с рандомным коэффициентом 42)\n",
        "X_train, X_test, y_train, y_test = train_test_split(X, y, test_size=0.2, random_state=42)\n",
        "\n",
        "# Обучение модели\n",
        "ridge_model.fit(X_train, y_train)\n",
        "\n",
        "# Прогноз и оценка модели\n",
        "y_pred = ridge_model.predict(X_test)\n",
        "mse = mean_squared_error(y_test, y_pred)\n",
        "r2 = r2_score(y_test, y_pred)\n",
        "\n",
        "print(\"Ridge Regression Results:\")\n",
        "print(f\"MSE: {mse:.2f}\")\n",
        "print(f\"R^2 Score: {r2:.2f}\")\n",
        "from sklearn.linear_model import Ridge\n",
        "ridge_model = Pipeline([\n",
        "    (\"preprocessor\", preprocessor),\n",
        "    (\"regressor\", Ridge(alpha=1.0))\n",
        "])\n",
        "\n",
        "# Разделение на тестовую 80% и тренировочную 20% выборку (с рандомным коэффициентом 42)\n",
        "X_train, X_test, y_train, y_test = train_test_split(X, y, test_size=0.2, random_state=42)\n",
        "\n",
        "# Обучение модели\n",
        "ridge_model.fit(X_train, y_train)\n",
        "\n",
        "# Прогноз и оценка модели\n",
        "y_pred = ridge_model.predict(X_test)\n",
        "mse = mean_squared_error(y_test, y_pred)\n",
        "r2 = r2_score(y_test, y_pred)\n",
        "\n",
        "print(\"Ridge Regression Results:\")\n",
        "print(f\"MSE: {mse:.2f}\")\n",
        "print(f\"R^2 Score: {r2:.2f}\")"
      ],
      "metadata": {
        "colab": {
          "base_uri": "https://localhost:8080/"
        },
        "id": "5e6iXehRdZRy",
        "outputId": "49c7a33b-36f7-406f-efbd-0f64d451729a"
      },
      "execution_count": null,
      "outputs": [
        {
          "output_type": "stream",
          "name": "stdout",
          "text": [
            "Ridge Regression Results:\n",
            "MSE: 17864991229121036.00\n",
            "R^2 Score: 0.63\n",
            "Ridge Regression Results:\n",
            "MSE: 17864991229121036.00\n",
            "R^2 Score: 0.63\n"
          ]
        },
        {
          "output_type": "stream",
          "name": "stderr",
          "text": [
            "/usr/local/lib/python3.11/dist-packages/sklearn/linear_model/_ridge.py:215: LinAlgWarning: Ill-conditioned matrix (rcond=3.66767e-17): result may not be accurate.\n",
            "  return linalg.solve(A, Xy, assume_a=\"pos\", overwrite_a=True).T\n",
            "/usr/local/lib/python3.11/dist-packages/sklearn/linear_model/_ridge.py:215: LinAlgWarning: Ill-conditioned matrix (rcond=3.66767e-17): result may not be accurate.\n",
            "  return linalg.solve(A, Xy, assume_a=\"pos\", overwrite_a=True).T\n"
          ]
        }
      ]
    },
    {
      "cell_type": "markdown",
      "source": [
        "Lasso-регрессия"
      ],
      "metadata": {
        "id": "Gks-Sp_weY0_"
      }
    },
    {
      "cell_type": "code",
      "source": [
        "# Построение модели\n",
        "lasso_model = Pipeline([\n",
        "    (\"preprocessor\", preprocessor),\n",
        "    (\"regressor\", LassoCV(cv=5))\n",
        "])\n",
        "\n",
        "# Обучение модели\n",
        "lasso_model.fit(X_train, y_train)\n",
        "\n",
        "# Прогноз и оценка модели\n",
        "y_pred_lasso = lasso_model.predict(X_test)\n",
        "mse_lasso = mean_squared_error(y_test, y_pred_lasso)\n",
        "r2_lasso = r2_score(y_test, y_pred_lasso)\n",
        "\n",
        "print(\"\\nLasso Regression Results:\")\n",
        "print(f\"MSE: {mse_lasso:.2f}\")\n",
        "print(f\"R^2 Score: {r2_lasso:.2f}\")"
      ],
      "metadata": {
        "colab": {
          "base_uri": "https://localhost:8080/"
        },
        "id": "xMKNzNVoeZNY",
        "outputId": "cb174ce8-d78b-4f1f-9c7a-762016593391"
      },
      "execution_count": null,
      "outputs": [
        {
          "output_type": "stream",
          "name": "stdout",
          "text": [
            "\n",
            "Lasso Regression Results:\n",
            "MSE: 18853453312172468.00\n",
            "R^2 Score: 0.61\n"
          ]
        }
      ]
    },
    {
      "cell_type": "markdown",
      "source": [
        "KernelRidge регрессия"
      ],
      "metadata": {
        "id": "bPG2kVQ9eu2S"
      }
    },
    {
      "cell_type": "code",
      "source": [
        "# Обучение модели\n",
        "kernel_model = Pipeline([\n",
        "    (\"preprocessor\", preprocessor),\n",
        "    (\"regressor\", KernelRidge(kernel='rbf', alpha=1.0))\n",
        "])\n",
        "\n",
        "# Прогноз и оценка модели\n",
        "kernel_model.fit(X_train, y_train)\n",
        "y_pred_kernel = kernel_model.predict(X_test)\n",
        "print(\"\\nKernel Ridge Regression Results:\")\n",
        "print(\"MSE:\", mean_squared_error(y_test, y_pred_kernel))\n",
        "print(\"R^2:\", r2_score(y_test, y_pred_kernel))"
      ],
      "metadata": {
        "colab": {
          "base_uri": "https://localhost:8080/"
        },
        "id": "QdCpPVOkeu_u",
        "outputId": "b1778dca-8e20-4f83-b697-21ae917adb82"
      },
      "execution_count": null,
      "outputs": [
        {
          "output_type": "stream",
          "name": "stdout",
          "text": [
            "\n",
            "Kernel Ridge Regression Results:\n",
            "MSE: 6.348504630773886e+16\n",
            "R^2: -0.32079583719641613\n"
          ]
        }
      ]
    },
    {
      "cell_type": "markdown",
      "source": [
        "\n",
        "KernelRidge регрессия с автоподбором параметров"
      ],
      "metadata": {
        "id": "Ln1hbmuvfGMv"
      }
    },
    {
      "cell_type": "code",
      "source": [
        "# Обучение модели (с автоподбором параметров)\n",
        "krr_pipeline = Pipeline([\n",
        "    (\"preprocessor\", preprocessor),\n",
        "    (\"regressor\", KernelRidge(kernel='rbf'))\n",
        "])\n",
        "\n",
        "# Начальные настройки для автоподбора гиперпараметров\n",
        "grid_params = {\n",
        "    \"regressor__alpha\": [0.1, 1.0, 10.0, 100.0],\n",
        "    \"regressor__gamma\": [1e-3, 1e-2, 1e-1, 1.0]\n",
        "}\n",
        "\n",
        "# Автоподбор гиперпараметров\n",
        "search = GridSearchCV(krr_pipeline, grid_params, cv=5, scoring='r2', verbose=1, n_jobs=-1)\n",
        "search.fit(X_train, y_train)\n",
        "\n",
        "# Прогноз и оценка модели\n",
        "y_pred = search.predict(X_test)\n",
        "print(\"Best Kernel Ridge Parameters:\", search.best_params_)\n",
        "print(\"MSE:\", mean_squared_error(y_test, y_pred))\n",
        "print(\"R^2:\", r2_score(y_test, y_pred))"
      ],
      "metadata": {
        "colab": {
          "base_uri": "https://localhost:8080/"
        },
        "id": "Od7OsLKsfF6A",
        "outputId": "0037e95f-b7e7-4777-9b7a-c2d1db77577e"
      },
      "execution_count": null,
      "outputs": [
        {
          "output_type": "stream",
          "name": "stdout",
          "text": [
            "Fitting 5 folds for each of 16 candidates, totalling 80 fits\n",
            "Best Kernel Ridge Parameters: {'regressor__alpha': 0.1, 'regressor__gamma': 0.001}\n",
            "MSE: 2.8941845126541864e+16\n",
            "R^2: 0.39786972228671\n"
          ]
        }
      ]
    },
    {
      "cell_type": "markdown",
      "source": [
        "KernelRidge отработала плохо"
      ],
      "metadata": {
        "id": "d3EsfpZqfRvV"
      }
    }
  ]
}