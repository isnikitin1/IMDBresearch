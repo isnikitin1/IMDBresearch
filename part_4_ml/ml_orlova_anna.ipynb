{
  "cells": [
    {
      "cell_type": "code",
      "execution_count": null,
      "metadata": {
        "id": "h0l9Ry6-4d39"
      },
      "outputs": [],
      "source": [
        "# Импорт библиотек\n",
        "import pandas as pd\n",
        "from sklearn.model_selection import train_test_split\n",
        "from sklearn.linear_model import LinearRegression\n",
        "from sklearn.metrics import mean_squared_error, r2_score\n",
        "from sklearn.preprocessing import OneHotEncoder\n",
        "from sklearn.compose import ColumnTransformer\n",
        "from sklearn.pipeline import Pipeline"
      ]
    },
    {
      "cell_type": "code",
      "execution_count": null,
      "metadata": {
        "id": "vxZ_EUNT6zto"
      },
      "outputs": [],
      "source": [
        "# Загрузка датафрейма\n",
        "df = pd.read_csv('data_after_eda.csv')"
      ]
    },
    {
      "cell_type": "code",
      "execution_count": null,
      "metadata": {
        "colab": {
          "base_uri": "https://localhost:8080/"
        },
        "id": "q0uZXuihqpp8",
        "outputId": "8fcc4a59-eb70-4222-d3a3-31c4e11abe50"
      },
      "outputs": [
        {
          "name": "stdout",
          "output_type": "stream",
          "text": [
            "MSE: 0.00\n",
            "R^2 Score: 1.00\n"
          ]
        }
      ],
      "source": [
        "# Задание целевой переменной worldwide_gross (кассовые сборы)\n",
        "y = df[\"worldwide_gross\"]\n",
        "X = df.drop(columns=[\n",
        "    \"worldwide_gross\", \"Unnamed: 0\", \"title\", \"writer\", \"cast\"\n",
        "])\n",
        "\n",
        "# Определение цифровых и категориальных переменных\n",
        "numeric_features = [\"average_rating\", \"metascore\", \"runtime\", \"budget\",\n",
        "                    \"release_year\", \"profit_or_loss\", \"p&l_rate\",\n",
        "                    \"lang_cnt\", \"country_cnt\", \"coproduction\"]\n",
        "categorical_features = [\"director\", \"country_of_origin\", \"languages\", \"genre\"]\n",
        "\n",
        "# Обработка категориальных переменных\n",
        "preprocessor = ColumnTransformer(\n",
        "    transformers=[\n",
        "        (\"num\", \"passthrough\", numeric_features),\n",
        "        (\"cat\", OneHotEncoder(handle_unknown=\"ignore\"), categorical_features),\n",
        "    ]\n",
        ")\n",
        "\n",
        "# Построение модели линейной регрессии\n",
        "model = Pipeline([\n",
        "    (\"preprocessor\", preprocessor),\n",
        "    (\"regressor\", LinearRegression())\n",
        "])\n",
        "\n",
        "# Разделение на тестовую 80% и тренировочную 20% выборку (с рандомным коэффициентом 42)\n",
        "X_train, X_test, y_train, y_test = train_test_split(X, y, test_size=0.2, random_state=42)\n",
        "\n",
        "# Обучение модели\n",
        "model.fit(X_train, y_train)\n",
        "\n",
        "# Прогноз и оценка модели\n",
        "y_pred = model.predict(X_test)\n",
        "mse = mean_squared_error(y_test, y_pred)\n",
        "r2 = r2_score(y_test, y_pred)\n",
        "\n",
        "print(f\"MSE: {mse:.2f}\")\n",
        "print(f\"R^2 Score: {r2:.2f}\")"
      ]
    },
    {
      "cell_type": "markdown",
      "metadata": {
        "id": "6ren7RXYrs9k"
      },
      "source": [
        "Перефит: модель слишком хорошо подогналась под тренировочные данные, причиной могло послужить \"утечка данных\" (например, фичи напрямую коррелируют с worldwide_gross - profit_or_loss).\n"
      ]
    },
    {
      "cell_type": "code",
      "execution_count": null,
      "metadata": {
        "id": "oCBlE4GzQzno"
      },
      "outputs": [],
      "source": [
        "# Загрузка датафрейма\n",
        "df_1 = pd.read_csv('data_after_eda (2).csv')"
      ]
    },
    {
      "cell_type": "code",
      "execution_count": null,
      "metadata": {
        "colab": {
          "base_uri": "https://localhost:8080/"
        },
        "id": "FCA5kmjdQ5NF",
        "outputId": "1dc09eb5-189f-4d29-b57e-f9d7419f0772"
      },
      "outputs": [
        {
          "name": "stdout",
          "output_type": "stream",
          "text": [
            "MSE: 18899663850822424.00\n",
            "R^2 Score: 0.61\n"
          ]
        }
      ],
      "source": [
        "# Задание целевой переменной worldwide_gross (кассовые сборы),\n",
        "# Устранение целевых признаков утечки (p&l_rate)\n",
        "df_1 = df_1.drop(columns=[\"profit_or_loss\", \"p&l_rate\"])\n",
        "\n",
        "# Задание целевой функции и переменной\n",
        "y = df_1[\"worldwide_gross\"]\n",
        "X = df_1.drop(columns=[\"worldwide_gross\", \"Unnamed: 0\", \"title\", \"writer\", \"cast\"])\n",
        "\n",
        "#  Определение цифровых и категориальных переменных\n",
        "numeric_features = [\"average_rating\", \"metascore\", \"runtime\", \"budget\",\n",
        "                    \"release_year\", \"lang_cnt\", \"country_cnt\", \"coproduction\"]\n",
        "categorical_features = [\"director\", \"country_of_origin\", \"languages\", \"genre\"]\n",
        "\n",
        "# Разделение категориальных признаков\n",
        "preprocessor = ColumnTransformer(\n",
        "    transformers=[\n",
        "        (\"num\", \"passthrough\", numeric_features),\n",
        "        (\"cat\", OneHotEncoder(handle_unknown=\"ignore\"), categorical_features),\n",
        "    ]\n",
        ")\n",
        "\n",
        "# Построение модели ридж-регрессии\n",
        "model_2 = Pipeline([\n",
        "    (\"preprocessor\", preprocessor),\n",
        "    (\"regressor\", LinearRegression())\n",
        "])\n",
        "\n",
        "# Разделение на тестовую 80% и тренировочную 20% выборку (с рандомным коэффициентом 42)\n",
        "X_train, X_test, y_train, y_test = train_test_split(X, y, test_size=0.2, random_state=42)\n",
        "\n",
        "# Обучение модели\n",
        "model_2.fit(X_train, y_train)\n",
        "\n",
        "# Прогноз и оценка модели\n",
        "y_pred = model_2.predict(X_test)\n",
        "mse = mean_squared_error(y_test, y_pred)\n",
        "r2 = r2_score(y_test, y_pred)\n",
        "\n",
        "print(f\"MSE: {mse:.2f}\")\n",
        "print(f\"R^2 Score: {r2:.2f}\")"
      ]
    },
    {
      "cell_type": "markdown",
      "metadata": {
        "id": "c875G8pHRmA-"
      },
      "source": [
        "Итак, коэффициент детерминации R^2 модели линейной регрессии равен 0,61, но величина MSE - огромна."
      ]
    },
    {
      "cell_type": "markdown",
      "metadata": {
        "id": "wsUcnbqVR9tx"
      },
      "source": [
        "Попробуйем протестировать другую модель, например, ридж-регрессии."
      ]
    },
    {
      "cell_type": "code",
      "execution_count": null,
      "metadata": {
        "id": "RC1v3GqKsbV1"
      },
      "outputs": [],
      "source": [
        "# Загрузка датафрейма\n",
        "df_2 = pd.read_csv('data_after_eda (2).csv')"
      ]
    },
    {
      "cell_type": "code",
      "execution_count": null,
      "metadata": {
        "colab": {
          "base_uri": "https://localhost:8080/"
        },
        "id": "baFAtm9mnTF1",
        "outputId": "483c4795-fd44-4e7d-d1ee-e8e37c7def3f"
      },
      "outputs": [
        {
          "name": "stdout",
          "output_type": "stream",
          "text": [
            "Ridge Regression Results:\n",
            "MSE: 324124552742943522816.00\n",
            "R^2 Score: -6742.36\n"
          ]
        }
      ],
      "source": [
        "# Задание целевой переменной worldwide_gross (кассовые сборы),\n",
        "# Устранение целевых признаков утечки (p&l_rate)\n",
        "df_2 = df_2.drop(columns=[\"profit_or_loss\", \"p&l_rate\"])\n",
        "\n",
        "# Задание целевой функции и переменной\n",
        "y = df_2[\"worldwide_gross\"]\n",
        "X = df_2.drop(columns=[\"worldwide_gross\", \"Unnamed: 0\", \"title\", \"writer\", \"cast\"])\n",
        "\n",
        "#  Определение цифровых и категориальных переменных\n",
        "numeric_features = [\"average_rating\", \"metascore\", \"runtime\", \"budget\",\n",
        "                    \"release_year\", \"lang_cnt\", \"country_cnt\", \"coproduction\"]\n",
        "categorical_features = [\"director\", \"country_of_origin\", \"languages\", \"genre\"]\n",
        "\n",
        "# Разделение категориальных признаков\n",
        "preprocessor = ColumnTransformer(\n",
        "    transformers=[\n",
        "        (\"num\", \"passthrough\", numeric_features),\n",
        "        (\"cat\", OneHotEncoder(handle_unknown=\"ignore\"), categorical_features),\n",
        "    ]\n",
        ")\n",
        "\n",
        "# Построение модели ридж-регрессии\n",
        "ridge_model = Pipeline([\n",
        "    (\"preprocessor\", preprocessor),\n",
        "    (\"regressor\", Ridge(alpha=1.0))\n",
        "])\n",
        "\n",
        "# Разделение на тестовую 80% и тренировочную 20% выборку (с рандомным коэффициентом 42)\n",
        "X_train, X_test, y_train, y_test = train_test_split(X, y, test_size=0.2, random_state=42)\n",
        "\n",
        "# Обучение модели\n",
        "ridge_model.fit(X_train, y_train)\n",
        "\n",
        "# Прогноз и оценка модели\n",
        "y_pred = ridge_model.predict(X_test)\n",
        "mse = mean_squared_error(y_test, y_pred)\n",
        "r2 = r2_score(y_test, y_pred)\n",
        "\n",
        "print(\"Ridge Regression Results:\")\n",
        "print(f\"MSE: {mse:.2f}\")\n",
        "print(f\"R^2 Score: {r2:.2f}\")"
      ]
    },
    {
      "cell_type": "markdown",
      "metadata": {
        "id": "1MQbDa2utav1"
      },
      "source": [
        "Модель Ridge Regression отработала плохо. Далее нет смысла ее улучшать."
      ]
    },
    {
      "cell_type": "markdown",
      "metadata": {
        "id": "WPpRDepZSNJT"
      },
      "source": [
        "Попробуем протестировать модель Lasso-регрессии. Данная модель проводит отбор признаков."
      ]
    },
    {
      "cell_type": "code",
      "execution_count": null,
      "metadata": {
        "colab": {
          "base_uri": "https://localhost:8080/"
        },
        "id": "lnf1BhrWnUsD",
        "outputId": "e6e247b2-335e-485c-ebdb-ecaa01d694f8"
      },
      "outputs": [
        {
          "name": "stdout",
          "output_type": "stream",
          "text": [
            "\n",
            "Lasso Regression Results:\n",
            "MSE: 18853453312172448.00\n",
            "R^2 Score: 0.61\n"
          ]
        }
      ],
      "source": [
        "from sklearn.linear_model import LassoCV\n",
        "\n",
        "# Построение модели\n",
        "lasso_model = Pipeline([\n",
        "    (\"preprocessor\", preprocessor),\n",
        "    (\"regressor\", LassoCV(cv=5))\n",
        "])\n",
        "\n",
        "# Обучение модели\n",
        "lasso_model.fit(X_train, y_train)\n",
        "\n",
        "# Прогноз и оценка модели\n",
        "y_pred_lasso = lasso_model.predict(X_test)\n",
        "mse_lasso = mean_squared_error(y_test, y_pred_lasso)\n",
        "r2_lasso = r2_score(y_test, y_pred_lasso)\n",
        "\n",
        "print(\"\\nLasso Regression Results:\")\n",
        "print(f\"MSE: {mse_lasso:.2f}\")\n",
        "print(f\"R^2 Score: {r2_lasso:.2f}\")\n"
      ]
    },
    {
      "cell_type": "markdown",
      "metadata": {
        "id": "vosS4G0OuDT4"
      },
      "source": [
        "Модель Lasso Regression успешно провела регуляризацию и отброс лишние фичи, справившись с переобучением. При этом коэффициент детерминации R^2 модели  Lasso Regression равен 0,61 (как и у линейной регрессии). И при этом значение MSE также сликом большое."
      ]
    },
    {
      "cell_type": "markdown",
      "metadata": {
        "id": "TDttixqEuMGN"
      },
      "source": [
        "Возможно, призанки надо было отмасштабировать. Сделаем это в следующем шаге для модели Lasso Regression."
      ]
    },
    {
      "cell_type": "code",
      "execution_count": null,
      "metadata": {
        "colab": {
          "base_uri": "https://localhost:8080/"
        },
        "id": "jPENMzmkoItk",
        "outputId": "32d8cc5c-5520-45af-9f7a-114dd3ae791e"
      },
      "outputs": [
        {
          "name": "stdout",
          "output_type": "stream",
          "text": [
            "\n",
            "Lasso Regression Results:\n",
            "MSE: 18853453312172448.00\n",
            "R^2 Score: 0.61\n"
          ]
        }
      ],
      "source": [
        "# Построение модели с масштабированием\n",
        "lasso_model = Pipeline([\n",
        "    (\"preprocessor\", preprocessor),\n",
        "    (\"regressor\", LassoCV(cv=5, max_iter=10000))\n",
        "])\n",
        "\n",
        "# Обучение модели\n",
        "lasso_model.fit(X_train, y_train)\n",
        "\n",
        "# Прогноз и оценка модели\n",
        "y_pred_lasso = lasso_model.predict(X_test)\n",
        "mse_lasso = mean_squared_error(y_test, y_pred_lasso)\n",
        "r2_lasso = r2_score(y_test, y_pred_lasso)\n",
        "\n",
        "print(\"\\nLasso Regression Results:\")\n",
        "print(f\"MSE: {mse_lasso:.2f}\")\n",
        "print(f\"R^2 Score: {r2_lasso:.2f}\")"
      ]
    },
    {
      "cell_type": "markdown",
      "metadata": {
        "id": "kzhQHfaXvRdH"
      },
      "source": [
        "Масштабирование не повлияло на R^2, так как она уже сходилась корректно. Дело в том, что Lasso автоматически отбирает признаки, зануляя коэффициенты некоторых из них."
      ]
    },
    {
      "cell_type": "markdown",
      "metadata": {
        "id": "PSp-Ke34Tt2r"
      },
      "source": [
        "Попробуем протестировать модель Kernel Ridge Regression. Она исполтзуется для моделирования нелинейных зависимостей между признаками и целевой переменной."
      ]
    },
    {
      "cell_type": "code",
      "execution_count": null,
      "metadata": {
        "colab": {
          "base_uri": "https://localhost:8080/"
        },
        "id": "jTIU3jLJx63f",
        "outputId": "11a6da90-176e-4400-ada0-2a3f121e4cf1"
      },
      "outputs": [
        {
          "name": "stdout",
          "output_type": "stream",
          "text": [
            "\n",
            "Kernel Ridge Regression Results:\n",
            "MSE: 2.0829011516680348e+16\n",
            "R^2: 0.5666558771841989\n"
          ]
        }
      ],
      "source": [
        "# Импорт библиотеки\n",
        "from sklearn.kernel_ridge import KernelRidge\n",
        "\n",
        "# Загрузка датасета, подготовка данных\n",
        "df_3 = pd.read_csv('data_after_eda (2).csv')\n",
        "df_3 = df_3.drop(columns=[\"profit_or_loss\", \"p&l_rate\"])\n",
        "y = df_3[\"worldwide_gross\"]\n",
        "X = df_3.drop(columns=[\"worldwide_gross\", \"Unnamed: 0\", \"title\", \"writer\", \"cast\"])\n",
        "\n",
        "# Разделение числовых и категориальных признаков\n",
        "numeric_features = [\"average_rating\", \"metascore\", \"runtime\", \"budget\",\n",
        "                    \"release_year\", \"lang_cnt\", \"country_cnt\", \"coproduction\"]\n",
        "categorical_features = [\"director\", \"country_of_origin\", \"languages\", \"genre\"]\n",
        "\n",
        "# Построение модели\n",
        "preprocessor = ColumnTransformer(\n",
        "    transformers=[\n",
        "        (\"num\", StandardScaler(), numeric_features),\n",
        "        (\"cat\", OneHotEncoder(handle_unknown=\"ignore\"), categorical_features),\n",
        "    ]\n",
        ")\n",
        "\n",
        "# Разделение на тестовую 80% и тренировочную 20% выборку (с рандомным коэффициентом 42)\n",
        "X_train, X_test, y_train, y_test = train_test_split(X, y, test_size=0.2, random_state=42)\n",
        "\n",
        "\n",
        "# Обучение модели\n",
        "kernel_model = Pipeline([\n",
        "    (\"preprocessor\", preprocessor),\n",
        "    (\"regressor\", KernelRidge(kernel='rbf', alpha=1.0))\n",
        "])\n",
        "\n",
        "# Прогноз и оценка модели\n",
        "kernel_model.fit(X_train, y_train)\n",
        "y_pred_kernel = kernel_model.predict(X_test)\n",
        "print(\"\\nKernel Ridge Regression Results:\")\n",
        "print(\"MSE:\", mean_squared_error(y_test, y_pred_kernel))\n",
        "print(\"R^2:\", r2_score(y_test, y_pred_kernel))\n"
      ]
    },
    {
      "cell_type": "markdown",
      "metadata": {
        "id": "1vqI_v2fyp9L"
      },
      "source": [
        "KernelRidge работает немного хуже, чем Lasso и линейная регрессия (0,56 против 0,61), но лучше, чем Ridge. Но MSE - гигантское."
      ]
    },
    {
      "cell_type": "markdown",
      "metadata": {
        "id": "guAyCbG1VN5L"
      },
      "source": [
        "Попробуем улучшить модель KernelRidge, произведя автоматический подбор наилучших гиперпараметров модели с помощью перебора по сетке и кросс-валидации.\n",
        "То есть перебираются значения alpha (регуляризация) и gamma (ширина ядра RBF). В данном случае:\n",
        "cv=5: 5-кратная кросс-валидация;\n",
        "scoring='r2': метрика для оценки модели;\n",
        "n_jobs=-1: использовать все ядра CPU."
      ]
    },
    {
      "cell_type": "code",
      "execution_count": null,
      "metadata": {
        "colab": {
          "base_uri": "https://localhost:8080/"
        },
        "id": "Yfl54S7pzHAa",
        "outputId": "93b3603a-289b-4d77-cf4c-91eb86cee2e9"
      },
      "outputs": [
        {
          "name": "stdout",
          "output_type": "stream",
          "text": [
            "Fitting 5 folds for each of 16 candidates, totalling 80 fits\n",
            "Best Kernel Ridge Parameters: {'regressor__alpha': 0.1, 'regressor__gamma': 0.01}\n",
            "MSE: 1.755824283589858e+16\n",
            "R^2: 0.6347036759850065\n"
          ]
        }
      ],
      "source": [
        "# Загрузка датасета, подготовка данных\n",
        "df_4 = pd.read_csv('data_after_eda (2).csv')\n",
        "df_4 = df_4.drop(columns=[\"profit_or_loss\", \"p&l_rate\"])\n",
        "y = df_4[\"worldwide_gross\"]\n",
        "X = df_4.drop(columns=[\"worldwide_gross\", \"Unnamed: 0\", \"title\", \"writer\", \"cast\"])\n",
        "\n",
        "# Разделение числовых и категориальных признаков\n",
        "numeric_features = [\"average_rating\", \"metascore\", \"runtime\", \"budget\",\n",
        "                    \"release_year\", \"lang_cnt\", \"country_cnt\", \"coproduction\"]\n",
        "categorical_features = [\"director\", \"country_of_origin\", \"languages\", \"genre\"]\n",
        "\n",
        "# Построение модели\n",
        "preprocessor = ColumnTransformer(\n",
        "    transformers=[\n",
        "        (\"num\", StandardScaler(), numeric_features),\n",
        "        (\"cat\", OneHotEncoder(handle_unknown=\"ignore\"), categorical_features),\n",
        "    ]\n",
        ")\n",
        "\n",
        "# Разделение на тестовую 80% и тренировочную 20% выборку (с рандомным коэффициентом 42)\n",
        "X_train, X_test, y_train, y_test = train_test_split(X, y, test_size=0.2, random_state=42)\n",
        "\n",
        "# Обучение модели (с автоподбором параметров)\n",
        "krr_pipeline = Pipeline([\n",
        "    (\"preprocessor\", preprocessor),\n",
        "    (\"regressor\", KernelRidge(kernel='rbf'))\n",
        "])\n",
        "\n",
        "# Начальные настройки для автоподбора гиперпараметров\n",
        "grid_params = {\n",
        "    \"regressor__alpha\": [0.1, 1.0, 10.0, 100.0],\n",
        "    \"regressor__gamma\": [1e-3, 1e-2, 1e-1, 1.0]\n",
        "}\n",
        "\n",
        "# Автоподбор гиперпараметров\n",
        "search = GridSearchCV(krr_pipeline, grid_params, cv=5, scoring='r2', verbose=1, n_jobs=-1)\n",
        "search.fit(X_train, y_train)\n",
        "\n",
        "# Прогноз и оценка модели\n",
        "y_pred = search.predict(X_test)\n",
        "print(\"Best Kernel Ridge Parameters:\", search.best_params_)\n",
        "print(\"MSE:\", mean_squared_error(y_test, y_pred))\n",
        "print(\"R^2:\", r2_score(y_test, y_pred))"
      ]
    },
    {
      "cell_type": "markdown",
      "metadata": {
        "id": "Hd8vXI9bYG3q"
      },
      "source": [
        "KernelRidge с автоматическим подбором наилучших гиперпараметров показала R^2 равный 0,63, теперь она немного лучше, чем Lasso-регрессия и классическая регрессия."
      ]
    },
    {
      "cell_type": "markdown",
      "metadata": {
        "id": "Ri2vZx6UAjRO"
      },
      "source": [
        "Попробуем протестировать модель CatBoostRegressor (которая работает с сырыми данными)."
      ]
    },
    {
      "cell_type": "code",
      "execution_count": null,
      "metadata": {
        "colab": {
          "base_uri": "https://localhost:8080/"
        },
        "id": "k9Tko37y_rS7",
        "outputId": "a035c10e-90e7-4103-dbfe-4ba2cb9e62a0"
      },
      "outputs": [
        {
          "name": "stdout",
          "output_type": "stream",
          "text": [
            "\n",
            "CatBoost Regressor:\n",
            "MSE: 1.4545365258669544e+16\n",
            "R^2: 0.697386093237988\n"
          ]
        }
      ],
      "source": [
        "# Загрузка датасета, подготовка данных\n",
        "df_5 = pd.read_csv(\"data_after_eda (2).csv\")\n",
        "df_5 = df_5.drop(columns=[\"profit_or_loss\", \"p&l_rate\"])\n",
        "y = df_5[\"worldwide_gross\"]\n",
        "X = df_5.drop(columns=[\"worldwide_gross\", \"Unnamed: 0\", \"title\", \"writer\", \"cast\"])\n",
        "\n",
        "# Разделение числовых и категориальных признаков\n",
        "numeric_features = [\"average_rating\", \"metascore\", \"runtime\", \"budget\",\n",
        "                    \"release_year\", \"lang_cnt\", \"country_cnt\", \"coproduction\"]\n",
        "categorical_features = [\"director\", \"country_of_origin\", \"languages\", \"genre\"]\n",
        "\n",
        "# Построение модели\n",
        "preprocessor = ColumnTransformer(\n",
        "    transformers=[\n",
        "        (\"num\", StandardScaler(), numeric_features),\n",
        "        (\"cat\", OneHotEncoder(handle_unknown=\"ignore\"), categorical_features),\n",
        "    ]\n",
        ")\n",
        "\n",
        "# Разделение на тестовую 80% и тренировочную 20% выборку (с рандомным коэффициентом 42)\n",
        "X_train, X_test, y_train, y_test = train_test_split(X, y, test_size=0.2, random_state=42)\n",
        "\n",
        "# Фиксация параметров для последующих преобразований\n",
        "preprocessor.fit(X_train)\n",
        "\n",
        "# Построение модели\n",
        "catboost_model = CatBoostRegressor(verbose=0, random_state=42)\n",
        "\n",
        "# Обучение модели\n",
        "X_train_processed = preprocessor.transform(X_train)\n",
        "X_test_processed = preprocessor.transform(X_test)\n",
        "\n",
        "# Прогноз и оценка модели\n",
        "catboost_model.fit(X_train_processed, y_train)\n",
        "y_pred_cb = catboost_model.predict(X_test_processed)\n",
        "print(\"\\nCatBoost Regressor:\")\n",
        "print(\"MSE:\", mean_squared_error(y_test, y_pred_cb))\n",
        "print(\"R^2:\", r2_score(y_test, y_pred_cb))"
      ]
    },
    {
      "cell_type": "markdown",
      "metadata": {
        "id": "0B3jWTESbPDy"
      },
      "source": [
        "CatBoostRegressor показывает лучший результат R^2: 0,70. Значит, модель все-таки нелинейна (это логично, с учетом достаточного большого количества категориальных признаков)."
      ]
    },
    {
      "cell_type": "markdown",
      "metadata": {
        "id": "BhvJj0Qnb_Bz"
      },
      "source": [
        "А что будет, если все-таки удалить все категориальные признаки?"
      ]
    },
    {
      "cell_type": "code",
      "execution_count": null,
      "metadata": {
        "id": "P4PThVOgcFnc"
      },
      "outputs": [],
      "source": [
        "# Загрузка датасета, подготовка данных\n",
        "df_6 = pd.read_csv(\"data_after_eda (2).csv\")\n",
        "df_6 = df_6.drop(columns=[\"profit_or_loss\", \"p&l_rate\"])\n",
        "y = df_6[\"worldwide_gross\"]\n",
        "X = df_6.drop(columns=[\"worldwide_gross\", \"Unnamed: 0\", \"title\", \"writer\", \"cast\", \"director\", \"country_of_origin\", \"languages\", \"genre\"])"
      ]
    },
    {
      "cell_type": "markdown",
      "metadata": {
        "id": "3XeX2yHKcbav"
      },
      "source": [
        "Классическая модель регрессии"
      ]
    },
    {
      "cell_type": "code",
      "execution_count": null,
      "metadata": {
        "colab": {
          "base_uri": "https://localhost:8080/"
        },
        "id": "ttoFRlTzcqYi",
        "outputId": "d1772e10-77eb-4244-b16c-097ce836947e"
      },
      "outputs": [
        {
          "name": "stdout",
          "output_type": "stream",
          "text": [
            "MSE: 17862038853059194.00\n",
            "R^2 Score: 0.63\n"
          ]
        }
      ],
      "source": [
        "#  Определение цифровых и категориальных переменных\n",
        "numeric_features = [\"average_rating\", \"metascore\", \"runtime\", \"budget\",\n",
        "                    \"release_year\", \"lang_cnt\", \"country_cnt\", \"coproduction\"]\n",
        "\n",
        "# Разделение категориальных признаков\n",
        "preprocessor = ColumnTransformer(\n",
        "    transformers=[\n",
        "        (\"num\", \"passthrough\", numeric_features),\n",
        "    ]\n",
        ")\n",
        "\n",
        "# Построение модели ридж-регрессии\n",
        "model_2 = Pipeline([\n",
        "    (\"preprocessor\", preprocessor),\n",
        "    (\"regressor\", LinearRegression())\n",
        "])\n",
        "\n",
        "# Разделение на тестовую 80% и тренировочную 20% выборку (с рандомным коэффициентом 42)\n",
        "X_train, X_test, y_train, y_test = train_test_split(X, y, test_size=0.2, random_state=42)\n",
        "\n",
        "# Обучение модели\n",
        "model_2.fit(X_train, y_train)\n",
        "\n",
        "# Прогноз и оценка модели\n",
        "y_pred = model_2.predict(X_test)\n",
        "mse = mean_squared_error(y_test, y_pred)\n",
        "r2 = r2_score(y_test, y_pred)\n",
        "\n",
        "print(f\"MSE: {mse:.2f}\")\n",
        "print(f\"R^2 Score: {r2:.2f}\")"
      ]
    },
    {
      "cell_type": "markdown",
      "metadata": {
        "id": "ho1kyxHLeDP9"
      },
      "source": [
        "Ридж-регрессия"
      ]
    },
    {
      "cell_type": "code",
      "execution_count": null,
      "metadata": {
        "colab": {
          "base_uri": "https://localhost:8080/"
        },
        "id": "5e6iXehRdZRy",
        "outputId": "49c7a33b-36f7-406f-efbd-0f64d451729a"
      },
      "outputs": [
        {
          "name": "stdout",
          "output_type": "stream",
          "text": [
            "Ridge Regression Results:\n",
            "MSE: 17864991229121036.00\n",
            "R^2 Score: 0.63\n",
            "Ridge Regression Results:\n",
            "MSE: 17864991229121036.00\n",
            "R^2 Score: 0.63\n"
          ]
        },
        {
          "name": "stderr",
          "output_type": "stream",
          "text": [
            "/usr/local/lib/python3.11/dist-packages/sklearn/linear_model/_ridge.py:215: LinAlgWarning: Ill-conditioned matrix (rcond=3.66767e-17): result may not be accurate.\n",
            "  return linalg.solve(A, Xy, assume_a=\"pos\", overwrite_a=True).T\n",
            "/usr/local/lib/python3.11/dist-packages/sklearn/linear_model/_ridge.py:215: LinAlgWarning: Ill-conditioned matrix (rcond=3.66767e-17): result may not be accurate.\n",
            "  return linalg.solve(A, Xy, assume_a=\"pos\", overwrite_a=True).T\n"
          ]
        }
      ],
      "source": [
        "#  Определение цифровых и категориальных переменных\n",
        "numeric_features = [\"average_rating\", \"metascore\", \"runtime\", \"budget\",\n",
        "                    \"release_year\", \"lang_cnt\", \"country_cnt\", \"coproduction\"]\n",
        "\n",
        "# Разделение категориальных признаков\n",
        "preprocessor = ColumnTransformer(\n",
        "    transformers=[\n",
        "        (\"num\", \"passthrough\", numeric_features),\n",
        "])\n",
        "\n",
        "# Построение модели ридж-регрессии\n",
        "from sklearn.linear_model import Ridge\n",
        "ridge_model = Pipeline([\n",
        "    (\"preprocessor\", preprocessor),\n",
        "    (\"regressor\", Ridge(alpha=1.0))\n",
        "])\n",
        "\n",
        "# Разделение на тестовую 80% и тренировочную 20% выборку (с рандомным коэффициентом 42)\n",
        "X_train, X_test, y_train, y_test = train_test_split(X, y, test_size=0.2, random_state=42)\n",
        "\n",
        "# Обучение модели\n",
        "ridge_model.fit(X_train, y_train)\n",
        "\n",
        "# Прогноз и оценка модели\n",
        "y_pred = ridge_model.predict(X_test)\n",
        "mse = mean_squared_error(y_test, y_pred)\n",
        "r2 = r2_score(y_test, y_pred)\n",
        "\n",
        "print(\"Ridge Regression Results:\")\n",
        "print(f\"MSE: {mse:.2f}\")\n",
        "print(f\"R^2 Score: {r2:.2f}\")\n",
        "from sklearn.linear_model import Ridge\n",
        "ridge_model = Pipeline([\n",
        "    (\"preprocessor\", preprocessor),\n",
        "    (\"regressor\", Ridge(alpha=1.0))\n",
        "])\n",
        "\n",
        "# Разделение на тестовую 80% и тренировочную 20% выборку (с рандомным коэффициентом 42)\n",
        "X_train, X_test, y_train, y_test = train_test_split(X, y, test_size=0.2, random_state=42)\n",
        "\n",
        "# Обучение модели\n",
        "ridge_model.fit(X_train, y_train)\n",
        "\n",
        "# Прогноз и оценка модели\n",
        "y_pred = ridge_model.predict(X_test)\n",
        "mse = mean_squared_error(y_test, y_pred)\n",
        "r2 = r2_score(y_test, y_pred)\n",
        "\n",
        "print(\"Ridge Regression Results:\")\n",
        "print(f\"MSE: {mse:.2f}\")\n",
        "print(f\"R^2 Score: {r2:.2f}\")"
      ]
    },
    {
      "cell_type": "markdown",
      "metadata": {
        "id": "Gks-Sp_weY0_"
      },
      "source": [
        "Lasso-регрессия"
      ]
    },
    {
      "cell_type": "code",
      "execution_count": null,
      "metadata": {
        "colab": {
          "base_uri": "https://localhost:8080/"
        },
        "id": "xMKNzNVoeZNY",
        "outputId": "cb174ce8-d78b-4f1f-9c7a-762016593391"
      },
      "outputs": [
        {
          "name": "stdout",
          "output_type": "stream",
          "text": [
            "\n",
            "Lasso Regression Results:\n",
            "MSE: 18853453312172468.00\n",
            "R^2 Score: 0.61\n"
          ]
        }
      ],
      "source": [
        "# Построение модели\n",
        "lasso_model = Pipeline([\n",
        "    (\"preprocessor\", preprocessor),\n",
        "    (\"regressor\", LassoCV(cv=5))\n",
        "])\n",
        "\n",
        "# Обучение модели\n",
        "lasso_model.fit(X_train, y_train)\n",
        "\n",
        "# Прогноз и оценка модели\n",
        "y_pred_lasso = lasso_model.predict(X_test)\n",
        "mse_lasso = mean_squared_error(y_test, y_pred_lasso)\n",
        "r2_lasso = r2_score(y_test, y_pred_lasso)\n",
        "\n",
        "print(\"\\nLasso Regression Results:\")\n",
        "print(f\"MSE: {mse_lasso:.2f}\")\n",
        "print(f\"R^2 Score: {r2_lasso:.2f}\")"
      ]
    },
    {
      "cell_type": "markdown",
      "metadata": {
        "id": "bPG2kVQ9eu2S"
      },
      "source": [
        "KernelRidge регрессия"
      ]
    },
    {
      "cell_type": "code",
      "execution_count": null,
      "metadata": {
        "colab": {
          "base_uri": "https://localhost:8080/"
        },
        "id": "QdCpPVOkeu_u",
        "outputId": "b1778dca-8e20-4f83-b697-21ae917adb82"
      },
      "outputs": [
        {
          "name": "stdout",
          "output_type": "stream",
          "text": [
            "\n",
            "Kernel Ridge Regression Results:\n",
            "MSE: 6.348504630773886e+16\n",
            "R^2: -0.32079583719641613\n"
          ]
        }
      ],
      "source": [
        "# Обучение модели\n",
        "kernel_model = Pipeline([\n",
        "    (\"preprocessor\", preprocessor),\n",
        "    (\"regressor\", KernelRidge(kernel='rbf', alpha=1.0))\n",
        "])\n",
        "\n",
        "# Прогноз и оценка модели\n",
        "kernel_model.fit(X_train, y_train)\n",
        "y_pred_kernel = kernel_model.predict(X_test)\n",
        "print(\"\\nKernel Ridge Regression Results:\")\n",
        "print(\"MSE:\", mean_squared_error(y_test, y_pred_kernel))\n",
        "print(\"R^2:\", r2_score(y_test, y_pred_kernel))"
      ]
    },
    {
      "cell_type": "markdown",
      "metadata": {
        "id": "Ln1hbmuvfGMv"
      },
      "source": [
        "\n",
        "KernelRidge регрессия с автоподбором параметров"
      ]
    },
    {
      "cell_type": "code",
      "execution_count": null,
      "metadata": {
        "colab": {
          "base_uri": "https://localhost:8080/"
        },
        "id": "Od7OsLKsfF6A",
        "outputId": "0037e95f-b7e7-4777-9b7a-c2d1db77577e"
      },
      "outputs": [
        {
          "name": "stdout",
          "output_type": "stream",
          "text": [
            "Fitting 5 folds for each of 16 candidates, totalling 80 fits\n",
            "Best Kernel Ridge Parameters: {'regressor__alpha': 0.1, 'regressor__gamma': 0.001}\n",
            "MSE: 2.8941845126541864e+16\n",
            "R^2: 0.39786972228671\n"
          ]
        }
      ],
      "source": [
        "# Обучение модели (с автоподбором параметров)\n",
        "krr_pipeline = Pipeline([\n",
        "    (\"preprocessor\", preprocessor),\n",
        "    (\"regressor\", KernelRidge(kernel='rbf'))\n",
        "])\n",
        "\n",
        "# Начальные настройки для автоподбора гиперпараметров\n",
        "grid_params = {\n",
        "    \"regressor__alpha\": [0.1, 1.0, 10.0, 100.0],\n",
        "    \"regressor__gamma\": [1e-3, 1e-2, 1e-1, 1.0]\n",
        "}\n",
        "\n",
        "# Автоподбор гиперпараметров\n",
        "search = GridSearchCV(krr_pipeline, grid_params, cv=5, scoring='r2', verbose=1, n_jobs=-1)\n",
        "search.fit(X_train, y_train)\n",
        "\n",
        "# Прогноз и оценка модели\n",
        "y_pred = search.predict(X_test)\n",
        "print(\"Best Kernel Ridge Parameters:\", search.best_params_)\n",
        "print(\"MSE:\", mean_squared_error(y_test, y_pred))\n",
        "print(\"R^2:\", r2_score(y_test, y_pred))"
      ]
    },
    {
      "cell_type": "markdown",
      "metadata": {
        "id": "d3EsfpZqfRvV"
      },
      "source": [
        "KernelRidge отработала плохо"
      ]
    }
  ],
  "metadata": {
    "colab": {
      "provenance": []
    },
    "kernelspec": {
      "display_name": "Python 3",
      "name": "python3"
    },
    "language_info": {
      "name": "python"
    }
  },
  "nbformat": 4,
  "nbformat_minor": 0
}
