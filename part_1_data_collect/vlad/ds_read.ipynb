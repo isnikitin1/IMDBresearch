{
 "cells": [
  {
   "metadata": {},
   "cell_type": "markdown",
   "source": "# Разведочный анализ данных IMDb",
   "id": "3977bf65936aba24"
  },
  {
   "metadata": {},
   "cell_type": "markdown",
   "source": "## Предполагается исследовать рейтинги, бюджет и доходы в эквиваленте usd",
   "id": "4481ac7c75758de8"
  },
  {
   "metadata": {},
   "cell_type": "markdown",
   "source": "### Импорт библиотек, загрузка данных",
   "id": "9f2d2e670108e4e4"
  },
  {
   "metadata": {
    "ExecuteTime": {
     "end_time": "2025-02-08T20:42:45.271824Z",
     "start_time": "2025-02-08T20:42:45.268218Z"
    }
   },
   "cell_type": "code",
   "source": [
    "import kagglehub as kh\n",
    "import pandas as pd"
   ],
   "id": "863878adf2a2de96",
   "outputs": [],
   "execution_count": 49
  },
  {
   "metadata": {},
   "cell_type": "markdown",
   "source": "### В работе будет использован объединенный набор данных из открытых источников (ресурс kaggle)",
   "id": "5fb099f1954e3288"
  },
  {
   "metadata": {},
   "cell_type": "markdown",
   "source": [
    "<a href=\"https://www.kaggle.com/datasets/hetbabariya/imdb-movies-data-collection-5000-records\">IMDb Movies Data\n",
    "Collection (5000 Records)</a>\n",
    "\n",
    "Описание данных датасета:\n",
    "1. Title - Наименование фильма;\n",
    "2. Average Rating - Усредненный рейтинг IMDb;\n",
    "3. Director - Режиссер;\n",
    "4. Writer - Сценарист;\n",
    "5. Metascore - Оценки из <a href=\"https://www.metacritic.com/\">Metacritic</a>;\n",
    "6. Cast - Ключевые актеры;\n",
    "7. Release Date - Дата выхода.\n",
    "8. Country of Origin - Страна происхождения;\n",
    "9. Languages - Используемые языки.\n",
    "10. Budget - Бюджет;\n",
    "11. Worldwide Gross - Кассовые сборы;\n",
    "12. Runtime - Длительность."
   ],
   "id": "57497095a8dc81a5"
  },
  {
   "metadata": {},
   "cell_type": "markdown",
   "source": [
    "<a href=\"https://www.kaggle.com/datasets/gayu14/tv-and-movie-metadata-with-genres-and-ratings-imbd\">TV & Movie Metadata\n",
    "with Genres and Ratings (2023) 130000 Records)</a>\n",
    "\n",
    "Описание данных датасета:\n",
    "1. movie - Наименование фильма;\n",
    "2. genre - Жанр;\n",
    "3. runtime - Длительность;\n",
    "4. certificate - Возрастное ограничение;\n",
    "5. rating - Усредненный рейтинг;\n",
    "6. stars - Ключевые актеры;\n",
    "7. description - Описание.\n",
    "8. votes - Голоса или рейтинг среди оценщиков;\n",
    "9. director - Режиссер."
   ],
   "id": "75156028e9740579"
  },
  {
   "metadata": {},
   "cell_type": "markdown",
   "source": "## Объединенный датасет будет содержать следующие поля:\n",
   "id": "601aeee9cc7a04a3"
  },
  {
   "metadata": {
    "ExecuteTime": {
     "end_time": "2025-02-08T20:42:47.722934Z",
     "start_time": "2025-02-08T20:42:47.344798Z"
    }
   },
   "cell_type": "code",
   "source": [
    "# (~5000 rows)\n",
    "# Download latest version\n",
    "path_5 = kh.dataset_download(\"hetbabariya/imdb-movies-data-collection-5000-records\")\n",
    "print(\"Path to dataset files:\", path_5)\n",
    "ds_5 = pd.read_csv(path_5 + '/IMDB_Movies_Dataset.csv')"
   ],
   "id": "79463b0b5fa09082",
   "outputs": [
    {
     "name": "stdout",
     "output_type": "stream",
     "text": [
      "Path to dataset files: /home/kvs/.cache/kagglehub/datasets/hetbabariya/imdb-movies-data-collection-5000-records/versions/1\n"
     ]
    }
   ],
   "execution_count": 50
  },
  {
   "metadata": {
    "ExecuteTime": {
     "end_time": "2025-02-08T20:42:49.844604Z",
     "start_time": "2025-02-08T20:42:48.616953Z"
    }
   },
   "cell_type": "code",
   "source": [
    "# (~130000 rows)\n",
    "# Download latest version\n",
    "path_130 = kh.dataset_download(\"gayu14/tv-and-movie-metadata-with-genres-and-ratings-imbd\")\n",
    "print(\"Path to dataset files:\", path_130)\n",
    "ds_130 = pd.read_csv(path_130 + '/IMBD.csv')"
   ],
   "id": "258402d8d1a48c04",
   "outputs": [
    {
     "name": "stdout",
     "output_type": "stream",
     "text": [
      "Path to dataset files: /home/kvs/.cache/kagglehub/datasets/gayu14/tv-and-movie-metadata-with-genres-and-ratings-imbd/versions/1\n"
     ]
    }
   ],
   "execution_count": 51
  },
  {
   "metadata": {
    "ExecuteTime": {
     "end_time": "2025-02-08T20:43:00.125182Z",
     "start_time": "2025-02-08T20:43:00.114200Z"
    }
   },
   "cell_type": "code",
   "source": "ds_5.info()",
   "id": "90b319ca6eef3a8c",
   "outputs": [
    {
     "name": "stdout",
     "output_type": "stream",
     "text": [
      "<class 'pandas.core.frame.DataFrame'>\n",
      "RangeIndex: 4989 entries, 0 to 4988\n",
      "Data columns (total 13 columns):\n",
      " #   Column             Non-Null Count  Dtype  \n",
      "---  ------             --------------  -----  \n",
      " 0   Unnamed: 0         4989 non-null   int64  \n",
      " 1   Title              4989 non-null   object \n",
      " 2   Average Rating     4989 non-null   float64\n",
      " 3   Director           4989 non-null   object \n",
      " 4   Writer             4988 non-null   object \n",
      " 5   Metascore          3055 non-null   float64\n",
      " 6   Cast               4982 non-null   object \n",
      " 7   Release Date       4989 non-null   object \n",
      " 8   Country of Origin  4986 non-null   object \n",
      " 9   Languages          4968 non-null   object \n",
      " 10  Budget             2651 non-null   object \n",
      " 11  Worldwide Gross    3895 non-null   object \n",
      " 12  Runtime            4989 non-null   object \n",
      "dtypes: float64(2), int64(1), object(10)\n",
      "memory usage: 506.8+ KB\n"
     ]
    }
   ],
   "execution_count": 53
  },
  {
   "metadata": {
    "ExecuteTime": {
     "end_time": "2025-02-08T20:42:50.654912Z",
     "start_time": "2025-02-08T20:42:50.597051Z"
    }
   },
   "cell_type": "code",
   "outputs": [
    {
     "name": "stdout",
     "output_type": "stream",
     "text": [
      "<class 'pandas.core.frame.DataFrame'>\n",
      "RangeIndex: 129891 entries, 0 to 129890\n",
      "Data columns (total 9 columns):\n",
      " #   Column       Non-Null Count   Dtype  \n",
      "---  ------       --------------   -----  \n",
      " 0   movie        129891 non-null  object \n",
      " 1   genre        129891 non-null  object \n",
      " 2   runtime      109005 non-null  object \n",
      " 3   certificate  23850 non-null   object \n",
      " 4   rating       114381 non-null  float64\n",
      " 5   stars        124676 non-null  object \n",
      " 6   description  129891 non-null  object \n",
      " 7   votes        114393 non-null  object \n",
      " 8   director     88611 non-null   object \n",
      "dtypes: float64(1), object(8)\n",
      "memory usage: 8.9+ MB\n"
     ]
    }
   ],
   "execution_count": 52,
   "source": "ds_130.info()",
   "id": "301afcf67962a6f9"
  },
  {
   "metadata": {
    "ExecuteTime": {
     "end_time": "2025-02-08T20:43:06.344933Z",
     "start_time": "2025-02-08T20:43:06.337206Z"
    }
   },
   "cell_type": "code",
   "source": "ds_130.director",
   "id": "64d9d5a791aae9ca",
   "outputs": [
    {
     "data": {
      "text/plain": [
       "0                               NaN\n",
       "1         ['Christopher McQuarrie']\n",
       "2          ['Alejandro Monteverde']\n",
       "3                               NaN\n",
       "4                               NaN\n",
       "                    ...            \n",
       "129886          ['Diego Al Romero']\n",
       "129887          ['Harry Joe Brown']\n",
       "129888               ['Tom Forman']\n",
       "129889              ['Al Christie']\n",
       "129890        ['Milton J. Fahrney']\n",
       "Name: director, Length: 129891, dtype: object"
      ]
     },
     "execution_count": 54,
     "metadata": {},
     "output_type": "execute_result"
    }
   ],
   "execution_count": 54
  },
  {
   "metadata": {
    "ExecuteTime": {
     "end_time": "2025-02-08T20:43:08.525362Z",
     "start_time": "2025-02-08T20:43:08.364330Z"
    }
   },
   "cell_type": "code",
   "source": [
    "ds_130['director'] = ds_130['director'].replace(\"'\", \"\", regex=True)\n",
    "ds_130['director'] = ds_130['director'].replace(\"\\\\[\", \"\", regex=True)\n",
    "ds_130['director'] = ds_130['director'].replace(\"\\\\]\", \"\", regex=True)\n",
    "ds_130.director"
   ],
   "id": "ce59d734bfdfcb0d",
   "outputs": [
    {
     "data": {
      "text/plain": [
       "0                           NaN\n",
       "1         Christopher McQuarrie\n",
       "2          Alejandro Monteverde\n",
       "3                           NaN\n",
       "4                           NaN\n",
       "                  ...          \n",
       "129886          Diego Al Romero\n",
       "129887          Harry Joe Brown\n",
       "129888               Tom Forman\n",
       "129889              Al Christie\n",
       "129890        Milton J. Fahrney\n",
       "Name: director, Length: 129891, dtype: object"
      ]
     },
     "execution_count": 55,
     "metadata": {},
     "output_type": "execute_result"
    }
   ],
   "execution_count": 55
  },
  {
   "metadata": {
    "ExecuteTime": {
     "end_time": "2025-02-08T20:43:14.057807Z",
     "start_time": "2025-02-08T20:43:13.917113Z"
    }
   },
   "cell_type": "code",
   "source": "ds_inner = ds_5.merge(ds_130, left_on=['Title', 'Director'], right_on=['movie', 'director'], how='inner')",
   "id": "7e99c4ef2362181c",
   "outputs": [],
   "execution_count": 56
  },
  {
   "metadata": {
    "ExecuteTime": {
     "end_time": "2025-02-08T20:43:16.119090Z",
     "start_time": "2025-02-08T20:43:16.100442Z"
    }
   },
   "cell_type": "code",
   "source": "ds_inner.info()",
   "id": "5e88d9885b8c08cf",
   "outputs": [
    {
     "name": "stdout",
     "output_type": "stream",
     "text": [
      "<class 'pandas.core.frame.DataFrame'>\n",
      "RangeIndex: 3547 entries, 0 to 3546\n",
      "Data columns (total 22 columns):\n",
      " #   Column             Non-Null Count  Dtype  \n",
      "---  ------             --------------  -----  \n",
      " 0   Unnamed: 0         3547 non-null   int64  \n",
      " 1   Title              3547 non-null   object \n",
      " 2   Average Rating     3547 non-null   float64\n",
      " 3   Director           3547 non-null   object \n",
      " 4   Writer             3546 non-null   object \n",
      " 5   Metascore          2335 non-null   float64\n",
      " 6   Cast               3545 non-null   object \n",
      " 7   Release Date       3547 non-null   object \n",
      " 8   Country of Origin  3545 non-null   object \n",
      " 9   Languages          3535 non-null   object \n",
      " 10  Budget             2079 non-null   object \n",
      " 11  Worldwide Gross    2799 non-null   object \n",
      " 12  Runtime            3547 non-null   object \n",
      " 13  movie              3547 non-null   object \n",
      " 14  genre              3547 non-null   object \n",
      " 15  runtime            3523 non-null   object \n",
      " 16  certificate        2242 non-null   object \n",
      " 17  rating             3518 non-null   float64\n",
      " 18  stars              3542 non-null   object \n",
      " 19  description        3547 non-null   object \n",
      " 20  votes              3518 non-null   object \n",
      " 21  director           3547 non-null   object \n",
      "dtypes: float64(3), int64(1), object(18)\n",
      "memory usage: 609.8+ KB\n"
     ]
    }
   ],
   "execution_count": 57
  },
  {
   "metadata": {
    "ExecuteTime": {
     "end_time": "2025-02-08T15:35:24.463101Z",
     "start_time": "2025-02-08T15:35:24.461218Z"
    }
   },
   "cell_type": "code",
   "source": "ds_inner.columns",
   "id": "760d3faf6db951c6",
   "outputs": [
    {
     "data": {
      "text/plain": [
       "Index(['Title', 'Average Rating', 'Director', 'Writer', 'Metascore', 'Cast',\n",
       "       'Release Date', 'Country of Origin', 'Languages', 'Budget',\n",
       "       'Worldwide Gross', 'Runtime', 'movie', 'genre', 'runtime',\n",
       "       'certificate', 'rating', 'stars', 'description', 'votes', 'director'],\n",
       "      dtype='object')"
      ]
     },
     "execution_count": 28,
     "metadata": {},
     "output_type": "execute_result"
    }
   ],
   "execution_count": 28
  },
  {
   "metadata": {
    "ExecuteTime": {
     "end_time": "2025-02-08T20:48:58.748509Z",
     "start_time": "2025-02-08T20:48:58.706999Z"
    }
   },
   "cell_type": "code",
   "source": [
    "ds_inner.dropna(axis=0)\n",
    "ds_inner.reset_index(drop=True, inplace=True)\n",
    "ds_inner = ds_inner.drop(columns=['Unnamed: 0'])"
   ],
   "id": "21746b55a77ac7ad",
   "outputs": [
    {
     "ename": "KeyError",
     "evalue": "\"['Unnamed: 0'] not found in axis\"",
     "output_type": "error",
     "traceback": [
      "\u001B[0;31m---------------------------------------------------------------------------\u001B[0m",
      "\u001B[0;31mKeyError\u001B[0m                                  Traceback (most recent call last)",
      "Cell \u001B[0;32mIn[62], line 3\u001B[0m\n\u001B[1;32m      1\u001B[0m ds_inner\u001B[38;5;241m.\u001B[39mdropna(axis\u001B[38;5;241m=\u001B[39m\u001B[38;5;241m0\u001B[39m)\n\u001B[1;32m      2\u001B[0m ds_inner\u001B[38;5;241m.\u001B[39mreset_index(drop\u001B[38;5;241m=\u001B[39m\u001B[38;5;28;01mTrue\u001B[39;00m, inplace\u001B[38;5;241m=\u001B[39m\u001B[38;5;28;01mTrue\u001B[39;00m)\n\u001B[0;32m----> 3\u001B[0m ds_inner \u001B[38;5;241m=\u001B[39m \u001B[43mds_inner\u001B[49m\u001B[38;5;241;43m.\u001B[39;49m\u001B[43mdrop\u001B[49m\u001B[43m(\u001B[49m\u001B[43mcolumns\u001B[49m\u001B[38;5;241;43m=\u001B[39;49m\u001B[43m[\u001B[49m\u001B[38;5;124;43m'\u001B[39;49m\u001B[38;5;124;43mUnnamed: 0\u001B[39;49m\u001B[38;5;124;43m'\u001B[39;49m\u001B[43m]\u001B[49m\u001B[43m)\u001B[49m\n",
      "File \u001B[0;32m~/HSE/BDA/.venv/lib/python3.13/site-packages/pandas/core/frame.py:5581\u001B[0m, in \u001B[0;36mDataFrame.drop\u001B[0;34m(self, labels, axis, index, columns, level, inplace, errors)\u001B[0m\n\u001B[1;32m   5433\u001B[0m \u001B[38;5;28;01mdef\u001B[39;00m\u001B[38;5;250m \u001B[39m\u001B[38;5;21mdrop\u001B[39m(\n\u001B[1;32m   5434\u001B[0m     \u001B[38;5;28mself\u001B[39m,\n\u001B[1;32m   5435\u001B[0m     labels: IndexLabel \u001B[38;5;241m|\u001B[39m \u001B[38;5;28;01mNone\u001B[39;00m \u001B[38;5;241m=\u001B[39m \u001B[38;5;28;01mNone\u001B[39;00m,\n\u001B[0;32m   (...)\u001B[0m\n\u001B[1;32m   5442\u001B[0m     errors: IgnoreRaise \u001B[38;5;241m=\u001B[39m \u001B[38;5;124m\"\u001B[39m\u001B[38;5;124mraise\u001B[39m\u001B[38;5;124m\"\u001B[39m,\n\u001B[1;32m   5443\u001B[0m ) \u001B[38;5;241m-\u001B[39m\u001B[38;5;241m>\u001B[39m DataFrame \u001B[38;5;241m|\u001B[39m \u001B[38;5;28;01mNone\u001B[39;00m:\n\u001B[1;32m   5444\u001B[0m \u001B[38;5;250m    \u001B[39m\u001B[38;5;124;03m\"\"\"\u001B[39;00m\n\u001B[1;32m   5445\u001B[0m \u001B[38;5;124;03m    Drop specified labels from rows or columns.\u001B[39;00m\n\u001B[1;32m   5446\u001B[0m \n\u001B[0;32m   (...)\u001B[0m\n\u001B[1;32m   5579\u001B[0m \u001B[38;5;124;03m            weight  1.0     0.8\u001B[39;00m\n\u001B[1;32m   5580\u001B[0m \u001B[38;5;124;03m    \"\"\"\u001B[39;00m\n\u001B[0;32m-> 5581\u001B[0m     \u001B[38;5;28;01mreturn\u001B[39;00m \u001B[38;5;28;43msuper\u001B[39;49m\u001B[43m(\u001B[49m\u001B[43m)\u001B[49m\u001B[38;5;241;43m.\u001B[39;49m\u001B[43mdrop\u001B[49m\u001B[43m(\u001B[49m\n\u001B[1;32m   5582\u001B[0m \u001B[43m        \u001B[49m\u001B[43mlabels\u001B[49m\u001B[38;5;241;43m=\u001B[39;49m\u001B[43mlabels\u001B[49m\u001B[43m,\u001B[49m\n\u001B[1;32m   5583\u001B[0m \u001B[43m        \u001B[49m\u001B[43maxis\u001B[49m\u001B[38;5;241;43m=\u001B[39;49m\u001B[43maxis\u001B[49m\u001B[43m,\u001B[49m\n\u001B[1;32m   5584\u001B[0m \u001B[43m        \u001B[49m\u001B[43mindex\u001B[49m\u001B[38;5;241;43m=\u001B[39;49m\u001B[43mindex\u001B[49m\u001B[43m,\u001B[49m\n\u001B[1;32m   5585\u001B[0m \u001B[43m        \u001B[49m\u001B[43mcolumns\u001B[49m\u001B[38;5;241;43m=\u001B[39;49m\u001B[43mcolumns\u001B[49m\u001B[43m,\u001B[49m\n\u001B[1;32m   5586\u001B[0m \u001B[43m        \u001B[49m\u001B[43mlevel\u001B[49m\u001B[38;5;241;43m=\u001B[39;49m\u001B[43mlevel\u001B[49m\u001B[43m,\u001B[49m\n\u001B[1;32m   5587\u001B[0m \u001B[43m        \u001B[49m\u001B[43minplace\u001B[49m\u001B[38;5;241;43m=\u001B[39;49m\u001B[43minplace\u001B[49m\u001B[43m,\u001B[49m\n\u001B[1;32m   5588\u001B[0m \u001B[43m        \u001B[49m\u001B[43merrors\u001B[49m\u001B[38;5;241;43m=\u001B[39;49m\u001B[43merrors\u001B[49m\u001B[43m,\u001B[49m\n\u001B[1;32m   5589\u001B[0m \u001B[43m    \u001B[49m\u001B[43m)\u001B[49m\n",
      "File \u001B[0;32m~/HSE/BDA/.venv/lib/python3.13/site-packages/pandas/core/generic.py:4788\u001B[0m, in \u001B[0;36mNDFrame.drop\u001B[0;34m(self, labels, axis, index, columns, level, inplace, errors)\u001B[0m\n\u001B[1;32m   4786\u001B[0m \u001B[38;5;28;01mfor\u001B[39;00m axis, labels \u001B[38;5;129;01min\u001B[39;00m axes\u001B[38;5;241m.\u001B[39mitems():\n\u001B[1;32m   4787\u001B[0m     \u001B[38;5;28;01mif\u001B[39;00m labels \u001B[38;5;129;01mis\u001B[39;00m \u001B[38;5;129;01mnot\u001B[39;00m \u001B[38;5;28;01mNone\u001B[39;00m:\n\u001B[0;32m-> 4788\u001B[0m         obj \u001B[38;5;241m=\u001B[39m \u001B[43mobj\u001B[49m\u001B[38;5;241;43m.\u001B[39;49m\u001B[43m_drop_axis\u001B[49m\u001B[43m(\u001B[49m\u001B[43mlabels\u001B[49m\u001B[43m,\u001B[49m\u001B[43m \u001B[49m\u001B[43maxis\u001B[49m\u001B[43m,\u001B[49m\u001B[43m \u001B[49m\u001B[43mlevel\u001B[49m\u001B[38;5;241;43m=\u001B[39;49m\u001B[43mlevel\u001B[49m\u001B[43m,\u001B[49m\u001B[43m \u001B[49m\u001B[43merrors\u001B[49m\u001B[38;5;241;43m=\u001B[39;49m\u001B[43merrors\u001B[49m\u001B[43m)\u001B[49m\n\u001B[1;32m   4790\u001B[0m \u001B[38;5;28;01mif\u001B[39;00m inplace:\n\u001B[1;32m   4791\u001B[0m     \u001B[38;5;28mself\u001B[39m\u001B[38;5;241m.\u001B[39m_update_inplace(obj)\n",
      "File \u001B[0;32m~/HSE/BDA/.venv/lib/python3.13/site-packages/pandas/core/generic.py:4830\u001B[0m, in \u001B[0;36mNDFrame._drop_axis\u001B[0;34m(self, labels, axis, level, errors, only_slice)\u001B[0m\n\u001B[1;32m   4828\u001B[0m         new_axis \u001B[38;5;241m=\u001B[39m axis\u001B[38;5;241m.\u001B[39mdrop(labels, level\u001B[38;5;241m=\u001B[39mlevel, errors\u001B[38;5;241m=\u001B[39merrors)\n\u001B[1;32m   4829\u001B[0m     \u001B[38;5;28;01melse\u001B[39;00m:\n\u001B[0;32m-> 4830\u001B[0m         new_axis \u001B[38;5;241m=\u001B[39m \u001B[43maxis\u001B[49m\u001B[38;5;241;43m.\u001B[39;49m\u001B[43mdrop\u001B[49m\u001B[43m(\u001B[49m\u001B[43mlabels\u001B[49m\u001B[43m,\u001B[49m\u001B[43m \u001B[49m\u001B[43merrors\u001B[49m\u001B[38;5;241;43m=\u001B[39;49m\u001B[43merrors\u001B[49m\u001B[43m)\u001B[49m\n\u001B[1;32m   4831\u001B[0m     indexer \u001B[38;5;241m=\u001B[39m axis\u001B[38;5;241m.\u001B[39mget_indexer(new_axis)\n\u001B[1;32m   4833\u001B[0m \u001B[38;5;66;03m# Case for non-unique axis\u001B[39;00m\n\u001B[1;32m   4834\u001B[0m \u001B[38;5;28;01melse\u001B[39;00m:\n",
      "File \u001B[0;32m~/HSE/BDA/.venv/lib/python3.13/site-packages/pandas/core/indexes/base.py:7070\u001B[0m, in \u001B[0;36mIndex.drop\u001B[0;34m(self, labels, errors)\u001B[0m\n\u001B[1;32m   7068\u001B[0m \u001B[38;5;28;01mif\u001B[39;00m mask\u001B[38;5;241m.\u001B[39many():\n\u001B[1;32m   7069\u001B[0m     \u001B[38;5;28;01mif\u001B[39;00m errors \u001B[38;5;241m!=\u001B[39m \u001B[38;5;124m\"\u001B[39m\u001B[38;5;124mignore\u001B[39m\u001B[38;5;124m\"\u001B[39m:\n\u001B[0;32m-> 7070\u001B[0m         \u001B[38;5;28;01mraise\u001B[39;00m \u001B[38;5;167;01mKeyError\u001B[39;00m(\u001B[38;5;124mf\u001B[39m\u001B[38;5;124m\"\u001B[39m\u001B[38;5;132;01m{\u001B[39;00mlabels[mask]\u001B[38;5;241m.\u001B[39mtolist()\u001B[38;5;132;01m}\u001B[39;00m\u001B[38;5;124m not found in axis\u001B[39m\u001B[38;5;124m\"\u001B[39m)\n\u001B[1;32m   7071\u001B[0m     indexer \u001B[38;5;241m=\u001B[39m indexer[\u001B[38;5;241m~\u001B[39mmask]\n\u001B[1;32m   7072\u001B[0m \u001B[38;5;28;01mreturn\u001B[39;00m \u001B[38;5;28mself\u001B[39m\u001B[38;5;241m.\u001B[39mdelete(indexer)\n",
      "\u001B[0;31mKeyError\u001B[0m: \"['Unnamed: 0'] not found in axis\""
     ]
    }
   ],
   "execution_count": 62
  },
  {
   "metadata": {
    "ExecuteTime": {
     "end_time": "2025-02-08T20:49:02.663782Z",
     "start_time": "2025-02-08T20:49:02.648118Z"
    }
   },
   "cell_type": "code",
   "source": "ds = ds_inner.where(ds_inner.Budget.str.contains('$') == True)",
   "id": "de0a73e37e4ea488",
   "outputs": [],
   "execution_count": 63
  },
  {
   "metadata": {
    "ExecuteTime": {
     "end_time": "2025-02-08T20:49:04.154047Z",
     "start_time": "2025-02-08T20:49:04.149241Z"
    }
   },
   "cell_type": "code",
   "source": "ds.shape",
   "id": "e9250ba9109d9ac3",
   "outputs": [
    {
     "data": {
      "text/plain": [
       "(3547, 21)"
      ]
     },
     "execution_count": 64,
     "metadata": {},
     "output_type": "execute_result"
    }
   ],
   "execution_count": 64
  },
  {
   "metadata": {
    "ExecuteTime": {
     "end_time": "2025-02-08T20:49:09.357360Z",
     "start_time": "2025-02-08T20:49:09.293110Z"
    }
   },
   "cell_type": "code",
   "source": "ds.to_csv('~/.cache/kagglehub/datasets/ds.csv')",
   "id": "7ed0cc915b403e2",
   "outputs": [],
   "execution_count": 65
  }
 ],
 "metadata": {
  "kernelspec": {
   "display_name": "Python 3",
   "language": "python",
   "name": "python3"
  },
  "language_info": {
   "codemirror_mode": {
    "name": "ipython",
    "version": 2
   },
   "file_extension": ".py",
   "mimetype": "text/x-python",
   "name": "python",
   "nbconvert_exporter": "python",
   "pygments_lexer": "ipython2",
   "version": "2.7.6"
  }
 },
 "nbformat": 4,
 "nbformat_minor": 5
}
