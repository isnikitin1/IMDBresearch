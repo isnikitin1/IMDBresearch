{
 "cells": [
  {
   "metadata": {
    "ExecuteTime": {
     "end_time": "2025-02-06T20:18:13.934720Z",
     "start_time": "2025-02-06T20:18:13.785739Z"
    }
   },
   "cell_type": "code",
   "source": [
    "import kagglehub\n",
    "import pandas as pd"
   ],
   "id": "863878adf2a2de96",
   "outputs": [],
   "execution_count": 6
  },
  {
   "metadata": {
    "ExecuteTime": {
     "end_time": "2025-02-06T20:16:58.444899Z",
     "start_time": "2025-02-06T20:16:58.131921Z"
    }
   },
   "cell_type": "code",
   "source": [
    "# (~130000 rows)\n",
    "# Download latest version\n",
    "path_130 = kagglehub.dataset_download(\"gayu14/tv-and-movie-metadata-with-genres-and-ratings-imbd\")\n",
    "print(\"Path to dataset files:\", path_130)"
   ],
   "id": "258402d8d1a48c04",
   "outputs": [
    {
     "name": "stdout",
     "output_type": "stream",
     "text": [
      "Path to dataset files: /home/kvs/.cache/kagglehub/datasets/gayu14/tv-and-movie-metadata-with-genres-and-ratings-imbd/versions/1\n"
     ]
    }
   ],
   "execution_count": 4
  },
  {
   "metadata": {
    "ExecuteTime": {
     "end_time": "2025-02-06T20:17:26.978282Z",
     "start_time": "2025-02-06T20:17:25.603947Z"
    }
   },
   "cell_type": "code",
   "source": [
    "# (~5000 rows)\n",
    "# Download latest version\n",
    "path_5 = kagglehub.dataset_download(\"hetbabariya/imdb-movies-data-collection-5000-records\")\n",
    "print(\"Path to dataset files:\", path_5)"
   ],
   "id": "79463b0b5fa09082",
   "outputs": [
    {
     "name": "stdout",
     "output_type": "stream",
     "text": [
      "Downloading from https://www.kaggle.com/api/v1/datasets/download/hetbabariya/imdb-movies-data-collection-5000-records?dataset_version_number=1...\n"
     ]
    },
    {
     "name": "stderr",
     "output_type": "stream",
     "text": [
      "100%|██████████| 934k/934k [00:00<00:00, 1.51MB/s]\n"
     ]
    },
    {
     "name": "stdout",
     "output_type": "stream",
     "text": [
      "Extracting files...\n",
      "Path to dataset files: /home/kvs/.cache/kagglehub/datasets/hetbabariya/imdb-movies-data-collection-5000-records/versions/1\n"
     ]
    }
   ],
   "execution_count": 5
  },
  {
   "metadata": {
    "ExecuteTime": {
     "end_time": "2025-02-06T20:34:44.682182Z",
     "start_time": "2025-02-06T20:34:44.386081Z"
    }
   },
   "cell_type": "code",
   "source": "ds_130 = pd.read_csv(path_130 + '/IMBD.csv')",
   "id": "51425e2a2cffe299",
   "outputs": [],
   "execution_count": 19
  },
  {
   "metadata": {
    "ExecuteTime": {
     "end_time": "2025-02-06T20:40:26.709982Z",
     "start_time": "2025-02-06T20:40:26.682713Z"
    }
   },
   "cell_type": "code",
   "source": "ds_130.info()",
   "id": "301afcf67962a6f9",
   "outputs": [
    {
     "name": "stdout",
     "output_type": "stream",
     "text": [
      "<class 'pandas.core.frame.DataFrame'>\n",
      "RangeIndex: 129891 entries, 0 to 129890\n",
      "Data columns (total 9 columns):\n",
      " #   Column       Non-Null Count   Dtype  \n",
      "---  ------       --------------   -----  \n",
      " 0   movie        129891 non-null  object \n",
      " 1   genre        129891 non-null  object \n",
      " 2   runtime      109005 non-null  object \n",
      " 3   certificate  23850 non-null   object \n",
      " 4   rating       114381 non-null  float64\n",
      " 5   stars        124676 non-null  object \n",
      " 6   description  129891 non-null  object \n",
      " 7   votes        114393 non-null  object \n",
      " 8   director     88611 non-null   object \n",
      "dtypes: float64(1), object(8)\n",
      "memory usage: 8.9+ MB\n"
     ]
    }
   ],
   "execution_count": 31
  },
  {
   "metadata": {
    "ExecuteTime": {
     "end_time": "2025-02-06T20:34:49.985009Z",
     "start_time": "2025-02-06T20:34:49.968051Z"
    }
   },
   "cell_type": "code",
   "outputs": [],
   "execution_count": 21,
   "source": "ds_5 = pd.read_csv(path_5 + '/IMDB_Movies_Dataset.csv')",
   "id": "2ef87188f6746d4f"
  },
  {
   "metadata": {
    "ExecuteTime": {
     "end_time": "2025-02-06T20:40:41.641248Z",
     "start_time": "2025-02-06T20:40:41.636622Z"
    }
   },
   "cell_type": "code",
   "source": "ds_5.info()",
   "id": "90b319ca6eef3a8c",
   "outputs": [
    {
     "name": "stdout",
     "output_type": "stream",
     "text": [
      "<class 'pandas.core.frame.DataFrame'>\n",
      "RangeIndex: 4989 entries, 0 to 4988\n",
      "Data columns (total 13 columns):\n",
      " #   Column             Non-Null Count  Dtype  \n",
      "---  ------             --------------  -----  \n",
      " 0   Unnamed: 0         4989 non-null   int64  \n",
      " 1   Title              4989 non-null   object \n",
      " 2   Average Rating     4989 non-null   float64\n",
      " 3   Director           4989 non-null   object \n",
      " 4   Writer             4988 non-null   object \n",
      " 5   Metascore          3055 non-null   float64\n",
      " 6   Cast               4982 non-null   object \n",
      " 7   Release Date       4989 non-null   object \n",
      " 8   Country of Origin  4986 non-null   object \n",
      " 9   Languages          4968 non-null   object \n",
      " 10  Budget             2651 non-null   object \n",
      " 11  Worldwide Gross    3895 non-null   object \n",
      " 12  Runtime            4989 non-null   object \n",
      "dtypes: float64(2), int64(1), object(10)\n",
      "memory usage: 506.8+ KB\n"
     ]
    }
   ],
   "execution_count": 32
  },
  {
   "metadata": {
    "ExecuteTime": {
     "end_time": "2025-02-06T20:40:44.506607Z",
     "start_time": "2025-02-06T20:40:44.493190Z"
    }
   },
   "cell_type": "code",
   "source": "ds_inner = ds_5.merge(ds_130, left_on='Title', right_on='movie', how='inner')",
   "id": "7e99c4ef2362181c",
   "outputs": [],
   "execution_count": 33
  },
  {
   "metadata": {
    "ExecuteTime": {
     "end_time": "2025-02-06T20:40:52.645112Z",
     "start_time": "2025-02-06T20:40:52.637445Z"
    }
   },
   "cell_type": "code",
   "source": "ds_inner.info()",
   "id": "5e88d9885b8c08cf",
   "outputs": [
    {
     "name": "stdout",
     "output_type": "stream",
     "text": [
      "<class 'pandas.core.frame.DataFrame'>\n",
      "RangeIndex: 6015 entries, 0 to 6014\n",
      "Data columns (total 22 columns):\n",
      " #   Column             Non-Null Count  Dtype  \n",
      "---  ------             --------------  -----  \n",
      " 0   Unnamed: 0         6015 non-null   int64  \n",
      " 1   Title              6015 non-null   object \n",
      " 2   Average Rating     6015 non-null   float64\n",
      " 3   Director           6015 non-null   object \n",
      " 4   Writer             6014 non-null   object \n",
      " 5   Metascore          4159 non-null   float64\n",
      " 6   Cast               6010 non-null   object \n",
      " 7   Release Date       6015 non-null   object \n",
      " 8   Country of Origin  6010 non-null   object \n",
      " 9   Languages          5987 non-null   object \n",
      " 10  Budget             3711 non-null   object \n",
      " 11  Worldwide Gross    4770 non-null   object \n",
      " 12  Runtime            6015 non-null   object \n",
      " 13  movie              6015 non-null   object \n",
      " 14  genre              6015 non-null   object \n",
      " 15  runtime            5667 non-null   object \n",
      " 16  certificate        3039 non-null   object \n",
      " 17  rating             5716 non-null   float64\n",
      " 18  stars              5911 non-null   object \n",
      " 19  description        6015 non-null   object \n",
      " 20  votes              5716 non-null   object \n",
      " 21  director           4907 non-null   object \n",
      "dtypes: float64(3), int64(1), object(18)\n",
      "memory usage: 1.0+ MB\n"
     ]
    }
   ],
   "execution_count": 34
  },
  {
   "metadata": {
    "ExecuteTime": {
     "end_time": "2025-02-06T20:35:38.017184Z",
     "start_time": "2025-02-06T20:35:38.010971Z"
    }
   },
   "cell_type": "code",
   "source": "ds_inner.head()",
   "id": "da6c858f33d2560",
   "outputs": [
    {
     "data": {
      "text/plain": [
       "   Unnamed: 0                                Title  Average Rating  \\\n",
       "0           0             The Shawshank Redemption             9.3   \n",
       "1           2                        The Godfather             9.2   \n",
       "2           2                        The Godfather             9.2   \n",
       "3           3                       Hababam Sinifi             9.2   \n",
       "4           4  Ramayana: The Legend of Prince Rama             9.2   \n",
       "\n",
       "                             Director                            Writer  \\\n",
       "0                      Frank Darabont      Stephen King, Frank Darabont   \n",
       "1                Francis Ford Coppola  Mario Puzo, Francis Ford Coppola   \n",
       "2                Francis Ford Coppola  Mario Puzo, Francis Ford Coppola   \n",
       "3                       Ertem Egilmez           Umur Bugay, Rifat Ilgaz   \n",
       "4  Ram Mohan, Yûgô Sakô, Koichi Saski  Rani Burra, Ram Mohan, Yûgô Sakô   \n",
       "\n",
       "   Metascore                                               Cast  \\\n",
       "0       82.0  Tim Robbins, Morgan Freeman, Bob Gunton, Willi...   \n",
       "1      100.0  Marlon Brando, Al Pacino, James Caan, Diane Ke...   \n",
       "2      100.0  Marlon Brando, Al Pacino, James Caan, Diane Ke...   \n",
       "3        NaN  Münir Özkul, Tarik Akan, Halit Akçatepe, Kemal...   \n",
       "4        NaN  Arun Govil, Nikhil Kapoor, Edie Mirman, Rael P...   \n",
       "\n",
       "                 Release Date Country of Origin                Languages  ...  \\\n",
       "0    October 14, 1994 (India)     United States                  English  ...   \n",
       "1                1978 (India)     United States  English, Italian, Latin  ...   \n",
       "2                1978 (India)     United States  English, Italian, Latin  ...   \n",
       "3      April 1, 1975 (Turkey)            Turkey                  Turkish  ...   \n",
       "4  September 25, 2001 (India)      India, Japan                  English  ...   \n",
       "\n",
       "              Runtime                                movie  \\\n",
       "0  2 hours 22 minutes             The Shawshank Redemption   \n",
       "1  2 hours 55 minutes                        The Godfather   \n",
       "2  2 hours 55 minutes                        The Godfather   \n",
       "3   1 hour 25 minutes                       Hababam Sinifi   \n",
       "4  2 hours 15 minutes  Ramayana: The Legend of Prince Rama   \n",
       "\n",
       "                                      genre  runtime certificate rating  \\\n",
       "0                         Drama              142 min           A    9.3   \n",
       "1          Action, Crime, Drama                  NaN         NaN    8.3   \n",
       "2                  Crime, Drama              175 min           A    9.2   \n",
       "3                 Comedy, Drama               87 min         NaN    9.2   \n",
       "4  Animation, Action, Adventure              135 min           U    9.2   \n",
       "\n",
       "                                               stars  \\\n",
       "0  ['Tim Robbins, ', 'Morgan Freeman, ', 'Bob Gun...   \n",
       "1  ['Marlon Brando, ', 'Robert Duvall, ', 'James ...   \n",
       "2  ['Marlon Brando, ', 'Al Pacino, ', 'James Caan...   \n",
       "3  ['Kemal Sunal, ', 'Münir Özkul, ', 'Halit Akça...   \n",
       "4  ['Arun Govil, ', 'Nikhil Kapoor, ', 'Edie Mirm...   \n",
       "\n",
       "                                         description     votes  \\\n",
       "0  Over the course of several years, two convicts...   $28.34M   \n",
       "1  Set in New York from 1945-1955, Players will j...     3,880   \n",
       "2  Don Vito Corleone, head of a mafia family, dec...  $134.97M   \n",
       "3  Lazy, uneducated students share a very close b...    41,982   \n",
       "4  An anime adaptation of the Hindu epic the Rama...    12,417   \n",
       "\n",
       "                   director  \n",
       "0        ['Frank Darabont']  \n",
       "1  ['Peter Mitchell Rubin']  \n",
       "2  ['Francis Ford Coppola']  \n",
       "3         ['Ertem Egilmez']  \n",
       "4                       NaN  \n",
       "\n",
       "[5 rows x 22 columns]"
      ],
      "text/html": [
       "<div>\n",
       "<style scoped>\n",
       "    .dataframe tbody tr th:only-of-type {\n",
       "        vertical-align: middle;\n",
       "    }\n",
       "\n",
       "    .dataframe tbody tr th {\n",
       "        vertical-align: top;\n",
       "    }\n",
       "\n",
       "    .dataframe thead th {\n",
       "        text-align: right;\n",
       "    }\n",
       "</style>\n",
       "<table border=\"1\" class=\"dataframe\">\n",
       "  <thead>\n",
       "    <tr style=\"text-align: right;\">\n",
       "      <th></th>\n",
       "      <th>Unnamed: 0</th>\n",
       "      <th>Title</th>\n",
       "      <th>Average Rating</th>\n",
       "      <th>Director</th>\n",
       "      <th>Writer</th>\n",
       "      <th>Metascore</th>\n",
       "      <th>Cast</th>\n",
       "      <th>Release Date</th>\n",
       "      <th>Country of Origin</th>\n",
       "      <th>Languages</th>\n",
       "      <th>...</th>\n",
       "      <th>Runtime</th>\n",
       "      <th>movie</th>\n",
       "      <th>genre</th>\n",
       "      <th>runtime</th>\n",
       "      <th>certificate</th>\n",
       "      <th>rating</th>\n",
       "      <th>stars</th>\n",
       "      <th>description</th>\n",
       "      <th>votes</th>\n",
       "      <th>director</th>\n",
       "    </tr>\n",
       "  </thead>\n",
       "  <tbody>\n",
       "    <tr>\n",
       "      <th>0</th>\n",
       "      <td>0</td>\n",
       "      <td>The Shawshank Redemption</td>\n",
       "      <td>9.3</td>\n",
       "      <td>Frank Darabont</td>\n",
       "      <td>Stephen King, Frank Darabont</td>\n",
       "      <td>82.0</td>\n",
       "      <td>Tim Robbins, Morgan Freeman, Bob Gunton, Willi...</td>\n",
       "      <td>October 14, 1994 (India)</td>\n",
       "      <td>United States</td>\n",
       "      <td>English</td>\n",
       "      <td>...</td>\n",
       "      <td>2 hours 22 minutes</td>\n",
       "      <td>The Shawshank Redemption</td>\n",
       "      <td>Drama</td>\n",
       "      <td>142 min</td>\n",
       "      <td>A</td>\n",
       "      <td>9.3</td>\n",
       "      <td>['Tim Robbins, ', 'Morgan Freeman, ', 'Bob Gun...</td>\n",
       "      <td>Over the course of several years, two convicts...</td>\n",
       "      <td>$28.34M</td>\n",
       "      <td>['Frank Darabont']</td>\n",
       "    </tr>\n",
       "    <tr>\n",
       "      <th>1</th>\n",
       "      <td>2</td>\n",
       "      <td>The Godfather</td>\n",
       "      <td>9.2</td>\n",
       "      <td>Francis Ford Coppola</td>\n",
       "      <td>Mario Puzo, Francis Ford Coppola</td>\n",
       "      <td>100.0</td>\n",
       "      <td>Marlon Brando, Al Pacino, James Caan, Diane Ke...</td>\n",
       "      <td>1978 (India)</td>\n",
       "      <td>United States</td>\n",
       "      <td>English, Italian, Latin</td>\n",
       "      <td>...</td>\n",
       "      <td>2 hours 55 minutes</td>\n",
       "      <td>The Godfather</td>\n",
       "      <td>Action, Crime, Drama</td>\n",
       "      <td>NaN</td>\n",
       "      <td>NaN</td>\n",
       "      <td>8.3</td>\n",
       "      <td>['Marlon Brando, ', 'Robert Duvall, ', 'James ...</td>\n",
       "      <td>Set in New York from 1945-1955, Players will j...</td>\n",
       "      <td>3,880</td>\n",
       "      <td>['Peter Mitchell Rubin']</td>\n",
       "    </tr>\n",
       "    <tr>\n",
       "      <th>2</th>\n",
       "      <td>2</td>\n",
       "      <td>The Godfather</td>\n",
       "      <td>9.2</td>\n",
       "      <td>Francis Ford Coppola</td>\n",
       "      <td>Mario Puzo, Francis Ford Coppola</td>\n",
       "      <td>100.0</td>\n",
       "      <td>Marlon Brando, Al Pacino, James Caan, Diane Ke...</td>\n",
       "      <td>1978 (India)</td>\n",
       "      <td>United States</td>\n",
       "      <td>English, Italian, Latin</td>\n",
       "      <td>...</td>\n",
       "      <td>2 hours 55 minutes</td>\n",
       "      <td>The Godfather</td>\n",
       "      <td>Crime, Drama</td>\n",
       "      <td>175 min</td>\n",
       "      <td>A</td>\n",
       "      <td>9.2</td>\n",
       "      <td>['Marlon Brando, ', 'Al Pacino, ', 'James Caan...</td>\n",
       "      <td>Don Vito Corleone, head of a mafia family, dec...</td>\n",
       "      <td>$134.97M</td>\n",
       "      <td>['Francis Ford Coppola']</td>\n",
       "    </tr>\n",
       "    <tr>\n",
       "      <th>3</th>\n",
       "      <td>3</td>\n",
       "      <td>Hababam Sinifi</td>\n",
       "      <td>9.2</td>\n",
       "      <td>Ertem Egilmez</td>\n",
       "      <td>Umur Bugay, Rifat Ilgaz</td>\n",
       "      <td>NaN</td>\n",
       "      <td>Münir Özkul, Tarik Akan, Halit Akçatepe, Kemal...</td>\n",
       "      <td>April 1, 1975 (Turkey)</td>\n",
       "      <td>Turkey</td>\n",
       "      <td>Turkish</td>\n",
       "      <td>...</td>\n",
       "      <td>1 hour 25 minutes</td>\n",
       "      <td>Hababam Sinifi</td>\n",
       "      <td>Comedy, Drama</td>\n",
       "      <td>87 min</td>\n",
       "      <td>NaN</td>\n",
       "      <td>9.2</td>\n",
       "      <td>['Kemal Sunal, ', 'Münir Özkul, ', 'Halit Akça...</td>\n",
       "      <td>Lazy, uneducated students share a very close b...</td>\n",
       "      <td>41,982</td>\n",
       "      <td>['Ertem Egilmez']</td>\n",
       "    </tr>\n",
       "    <tr>\n",
       "      <th>4</th>\n",
       "      <td>4</td>\n",
       "      <td>Ramayana: The Legend of Prince Rama</td>\n",
       "      <td>9.2</td>\n",
       "      <td>Ram Mohan, Yûgô Sakô, Koichi Saski</td>\n",
       "      <td>Rani Burra, Ram Mohan, Yûgô Sakô</td>\n",
       "      <td>NaN</td>\n",
       "      <td>Arun Govil, Nikhil Kapoor, Edie Mirman, Rael P...</td>\n",
       "      <td>September 25, 2001 (India)</td>\n",
       "      <td>India, Japan</td>\n",
       "      <td>English</td>\n",
       "      <td>...</td>\n",
       "      <td>2 hours 15 minutes</td>\n",
       "      <td>Ramayana: The Legend of Prince Rama</td>\n",
       "      <td>Animation, Action, Adventure</td>\n",
       "      <td>135 min</td>\n",
       "      <td>U</td>\n",
       "      <td>9.2</td>\n",
       "      <td>['Arun Govil, ', 'Nikhil Kapoor, ', 'Edie Mirm...</td>\n",
       "      <td>An anime adaptation of the Hindu epic the Rama...</td>\n",
       "      <td>12,417</td>\n",
       "      <td>NaN</td>\n",
       "    </tr>\n",
       "  </tbody>\n",
       "</table>\n",
       "<p>5 rows × 22 columns</p>\n",
       "</div>"
      ]
     },
     "execution_count": 25,
     "metadata": {},
     "output_type": "execute_result"
    }
   ],
   "execution_count": 25
  }
 ],
 "metadata": {
  "kernelspec": {
   "display_name": "Python 3",
   "language": "python",
   "name": "python3"
  },
  "language_info": {
   "codemirror_mode": {
    "name": "ipython",
    "version": 2
   },
   "file_extension": ".py",
   "mimetype": "text/x-python",
   "name": "python",
   "nbconvert_exporter": "python",
   "pygments_lexer": "ipython2",
   "version": "2.7.6"
  }
 },
 "nbformat": 4,
 "nbformat_minor": 5
}
